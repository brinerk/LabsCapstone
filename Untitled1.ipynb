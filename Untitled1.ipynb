{
 "cells": [
  {
   "cell_type": "code",
   "execution_count": 6,
   "id": "6ea47f26",
   "metadata": {},
   "outputs": [],
   "source": [
    "import csv\n",
    "import random\n",
    "\n",
    "with open('time_position_data.csv', mode='w', newline='') as csvfile:\n",
    "    writer = csv.writer(csvfile)\n",
    "    writer.writerow(['Time', 'Position'])  # write header row\n",
    "\n",
    "    for i in range(10):\n",
    "        time = f\"2023-04-05 {random.randint(0, 23)}:{random.randint(0, 59)}:{random.randint(0, 59)}\"\n",
    "        position = f\"{round(random.uniform(-180, 180), 6)}, {round(random.uniform(-90, 90), 6)}\"\n",
    "        writer.writerow([time, position])\n"
   ]
  },
  {
   "cell_type": "code",
   "execution_count": 8,
   "id": "f86d0996",
   "metadata": {},
   "outputs": [],
   "source": [
    "data = []\n",
    "with open(\"time_position_data.csv\") as f:\n",
    "    read = csv.reader(f, delimiter=',')\n"
   ]
  },
  {
   "cell_type": "code",
   "execution_count": null,
   "id": "36e5d4db",
   "metadata": {},
   "outputs": [],
   "source": []
  }
 ],
 "metadata": {
  "kernelspec": {
   "display_name": "Python 3 (ipykernel)",
   "language": "python",
   "name": "python3"
  },
  "language_info": {
   "codemirror_mode": {
    "name": "ipython",
    "version": 3
   },
   "file_extension": ".py",
   "mimetype": "text/x-python",
   "name": "python",
   "nbconvert_exporter": "python",
   "pygments_lexer": "ipython3",
   "version": "3.10.10"
  }
 },
 "nbformat": 4,
 "nbformat_minor": 5
}
