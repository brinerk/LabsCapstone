{
 "cells": [
  {
   "cell_type": "markdown",
   "id": "d2a78b06",
   "metadata": {},
   "source": [
    "<h1><center>Lab17:<br>Measuring Equipotential Surfaces</center></h1>\n",
    "\n",
    "<h2>Introduction</h2>\n",
    "In this lab we will measure the equipotential surfaces from two arrangments of conductors, shown below:"
   ]
  },
  {
   "cell_type": "code",
   "execution_count": null,
   "id": "d2e9ee5a",
   "metadata": {},
   "outputs": [],
   "source": [
    "#figure"
   ]
  },
  {
   "cell_type": "markdown",
   "id": "8af671b5",
   "metadata": {},
   "source": [
    "First Geometry"
   ]
  },
  {
   "cell_type": "code",
   "execution_count": null,
   "id": "e57b9b6b",
   "metadata": {},
   "outputs": [],
   "source": [
    "#figure"
   ]
  },
  {
   "cell_type": "markdown",
   "id": "6c31da22",
   "metadata": {},
   "source": [
    "<h2>Theory</h2>\n",
    "In order to calculate what equipotential surfaces should look like we need the potential from a line charge. The geometry is shown below. The line is assumed to have length $L$ and is centered with respect to the $x$ axis. The piece in red is a small charge element $dq$ which is a distance $s$ from the origin. The potential from this element is $dV = \\frac{dq}{(4 \\pi \\epsilon_0 r)}$."
   ]
  },
  {
   "cell_type": "code",
   "execution_count": null,
   "id": "93a6a824",
   "metadata": {},
   "outputs": [],
   "source": [
    "#figure"
   ]
  },
  {
   "cell_type": "markdown",
   "id": "6509c2d4",
   "metadata": {},
   "source": [
    "The distance $r$ is given by $r = \\sqrt(x^2 + (y-s)^2$ and $dq = \\lambda ds$ where $\\lambda = \\frac{Q}{L}$ is the linear charge density. The potential due to the line charge is the integral of $dV$ over the full range of $ds$ from $\\frac{-L}{2}$ to $\\frac{+L}{2}$:"
   ]
  },
  {
   "cell_type": "code",
   "execution_count": null,
   "id": "17271a5a",
   "metadata": {},
   "outputs": [],
   "source": []
  }
 ],
 "metadata": {
  "kernelspec": {
   "display_name": "Python 3 (ipykernel)",
   "language": "python",
   "name": "python3"
  },
  "language_info": {
   "codemirror_mode": {
    "name": "ipython",
    "version": 3
   },
   "file_extension": ".py",
   "mimetype": "text/x-python",
   "name": "python",
   "nbconvert_exporter": "python",
   "pygments_lexer": "ipython3",
   "version": "3.11.3"
  }
 },
 "nbformat": 4,
 "nbformat_minor": 5
}
