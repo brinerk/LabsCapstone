{
 "cells": [
  {
   "cell_type": "markdown",
   "id": "d511d47b",
   "metadata": {},
   "source": [
    "<center><h1>Lab 07:</h1></center>\n",
    "<center><h1>Air Drag</h1></center>\n",
    "\n",
    "<h2>Introduction</h2>\n",
    "When we dropped the lead filled ball last week we assumed that the effect of air resistance on the lead filled ball was negligible. However, the value for g that we got was too small and the scatter in our data was much less than the error in g. This suggests that we have an unaccounted for systematic error, and the logical suspect is air resistance. Air resistance will certainly be very important in the fall of the nerf ball, and could affect the results for the other balls too. This week we try to take air resistance into account.\n",
    "<br><br>\n",
    "\n",
    "Air resistance is usally neglected in introductory physics courses, but in real life air resistance is often an important force on an object. More than 80% of the work done by a bicyclist moving at 25 miles/hour goes into overcoming the effects of air resistance. Bicycle racers riding time trials wear special helmets and clothing to make them more aerodynamic and thus decrease the effect of air resistance.\n",
    "<h2>The Physics of Air Drag</h2>\n",
    "<h3>The Model</h3>\n",
    "The faster you go the more important air resistance is. The force due to air resistance is velocity dependent and can be modeled by a force of the form:\n",
    "\n",
    "<center>$\\begin{equation} F_{air} = (c \\rho A)v^2 \\end{equation}$</center>\n",
    "where $\\rho$ is the density of air, $A$ is the crosss sectional area of the object, and $c$ is the drag coefficient. Notice that $c$ is dimensionless. The free body diagram for an object in free fall is shown below.\n",
    "\n",
    "![title](./Freebody.png)\n",
    "\n",
    "This freebody diagram is correct only for an object dropped or thrown downward. The drag force always opposes the direction of the motion so the situation is more complicated if we throw the ball upwards. We will worry only about the case where teh object is dropped. When the drag force is equal to the gravitational force, the object is no longer accelerating and falls with constant velocity. The forces equal when:\n",
    "<center>$c \\rho A v^2 = m g$</center>\n",
    "\n",
    "This will happen when $v = v_t = \\sqrt{\\frac{mg}{c \\rho A}}$. This is called the terminal velocity of the object. We will calculate the terminal velocity for the lead filled ball, the tennis ball and the nerf ball.\n",
    "\n",
    "<h3>Justifying the Model</h3>\n",
    "Equation 1 captures much of the physics we would expect to affect air resistance:\n",
    "<ul>\n",
    "    <li>If the surface area of the object is bigger ($A$ increases), then we expect $F_{air}$ to increase;</li>\n",
    "    <li>If the density of air increases ($\\rho$ increases), then we expect $F_{air}$ to increase;</li>\n",
    "    <li>As the speed of the object increases ($v$ increases), then more air hits the object per unit time and we again expect $F_{air}$ to increase.</li>\n",
    "    </ul>\n",
    "<br><br>\n",
    "\n",
    "Then what is $c$? It is a dimensionless number that we don't know how to calculate a priori; it takes into account the fact that air resistance is complicated, and much of the physics is either too complicated for this course or not well understood, even by physicists working in the field!\n",
    "<br><br>\n",
    "\n",
    "Think about it this way: if $c$ = 1, then the simple physical arguments in the bullet points above capture <i>all</i> of the important effects releated to air resistance (we have made some good guesses!); if $c$ is very different from 1 then we have missed important effects (things like the shape of the object, for example, can have an effect). In this way, Equation 1 can be called \"phenomenological fit\", which is just a name for the type of equaiton I have been describing.\n",
    "<br><br>\n",
    "\n",
    "Because we don't know how to calculate it from first principles, we will use a fit to find the value $c$ for each data set.\n",
    "    "
   ]
  },
  {
   "cell_type": "markdown",
   "id": "f2238d4c",
   "metadata": {},
   "source": [
    "<h3>The Equations of Motion</h3>\n",
    "When applied to an object that is dropping in air, Newton's second law F=ma gives\n",
    "<center>$m = \\frac{dv}{dt} = mg - c \\rho A v^2$</center>\n",
    "since $a = \\frac{dv}{dt}$. This is a differential equation for the velocity, which we can solve by integrating both sides. The first step is to rearrange the equation so that all the terms involving <strong>v are on the left-hand side</strong> and all the terms involving <strong>t are on the right-hand side</strong> of the equation. If we multiply both sides of the equation by $dt$ and divide by $(c \\rho A v^2 -m g)$ we get:\n",
    "<center>$dt = (\\frac{m}{mg - c \\rho A v^2}) dv$</center>\n",
    "Notice that we have only two constants in the problem. The gravitational acceleration $g$ and the combination $c \\rho A / m$. Dividing both the numerator and the denominator by $m$ and substituting $\\sigma = c \\rho A / m$ yields the following equation:\n",
    "<center>$dt = \\frac{1}{g - \\sigma v^2}dv$</center>\n",
    "The right-hand side (rhs) of this equation depends only on $v$, and the left-hand side (lhs) depends only on $t$, so we can integrate both sides of the equation independently. (If you are familiar with Differential Equations, this is referred to as a separable equation.)\n",
    "<center>$\\int dt = \\int \\frac{1}{g - \\sigma v^2}dv$</center>\n",
    "Evaluation gives:\n",
    "<center>$\\frac{\\tan^{-1} \\left( \\frac{v \\sqrt{\\sigma}}{\\sqrt{g}} \\right) }{\\sqrt{g}\\sqrt{\\sigma}}$</center>\n",
    "The left hand side of the equation is just dt, so integrating it gives $t = t_f - t_0$, the total elapsed time. We now set the right hand side equal to the left and solve for velocity.\n",
    "<center>$\\frac{\\sqrt{g} \\tan^{-1}(\\sqrt{g} t \\sqrt{\\sigma})}{\\sqrt{\\sigma}}$</center>\n",
    "Assuming $g > 0$ and $\\sigma > 0$ and simplifying we get:\n",
    "<center>$v = \\sqrt{\\frac{g}{\\sigma}} \\tan^{-1}(t \\sqrt{g \\sigma})$</center>\n",
    "We now want to solve for the final velocity $v_f$. We integrated both sides of our equation, and an indefinite integral is uncertain up to a constant. When $t=0$ we want $v=0$, to match our experimental setup and the answer above is correct as it stands if we are dropping an object with $v_0 = 0$ (because $\\tan^{-1}(0) = 0$. If however, we give the object an intial downward velocity, we need to add a constant to our answer. Thus, in general we should have:\n",
    "<center> $v_0 + \\sqrt{\\frac{g}{\\sigma}} \\tan^{-1} t \\sqrt{g \\sigma}$ </center>\n",
    "Our answer is a fairly complicated function. Recall that the hyperbolic tangent $\\tanh(x)$ is defined by:\n",
    "<center> $ \\tanh(x) = \\frac{e^x - e^{-x}}{e^x + e^{-x}}$ </center>\n",
    "We should check our answer to see that we get the right answer when the drag coefficient is zero. This is equivalent to setting $\\sigma$ to zero. We can not just set $\\sigma$ to zero, as the funciton is undefined. Instead we should take the limit as $\\sigma$ goes to zero.\n",
    "<center> $\\lim\\limits_{\\sigma \\to 0} = gt + v_0$ </center>\n",
    " We recover the correct answer for the zero drag case which gives us confidence that our answer is correct. \n",
    " To calculate the position of the object, we integrate the velocity. If the object's initial position is not at the origin of the cooridnate system, we need to add a constant $y_0$ to our answer.\n",
    " <center>$y = t v_0 + y_0 + \\frac{\\sqrt{\\frac{g}{\\sigma}} \\log (\\cosh(t \\sqrt{g \\sigma}))}{\\sqrt{g \\sigma}}$</center>\n",
    " Once again we should check to see that our answer gives the correct result in the limiting case of no air drag.\n",
    " <center>$ \\lim\\limits_{\\sigma \\to 0} = \\ \\frac{g t^2}{2} + t v_0 + y_0 $</center>"
   ]
  },
  {
   "cell_type": "code",
   "execution_count": 3,
   "id": "f3823462",
   "metadata": {
    "scrolled": true
   },
   "outputs": [
    {
     "data": {
      "text/latex": [
       "$\\displaystyle y = 122.5$"
      ],
      "text/plain": [
       "Eq(y, 122.5)"
      ]
     },
     "execution_count": 3,
     "metadata": {},
     "output_type": "execute_result"
    }
   ],
   "source": [
    "import sympy as sym\n",
    "import math\n",
    "\n",
    "g, t, v0, y0, y, y2, σ = sym.symbols('g t v0 y0 y y2 σ')\n",
    "eq = sym.Eq(y, (g*t**2)/2 + t*v0 + y0)\n",
    "eq.subs({t: 5, y0: 0, g: 9.8, v0: 0})"
   ]
  },
  {
   "cell_type": "markdown",
   "id": "d376bc55",
   "metadata": {},
   "source": [
    "In five seconds the object without air drag will fall almost 122.5 meters (assuming $v_0 = 0$). Whereas an object with $\\sigma = 0.1m^{-1}$ will only fall $42.6$ meters."
   ]
  },
  {
   "cell_type": "code",
   "execution_count": 8,
   "id": "9f2f16ae",
   "metadata": {},
   "outputs": [
    {
     "data": {
      "text/latex": [
       "$\\displaystyle y_{2} = 42.5665048651576$"
      ],
      "text/plain": [
       "Eq(y2, 42.5665048651576)"
      ]
     },
     "execution_count": 8,
     "metadata": {},
     "output_type": "execute_result"
    }
   ],
   "source": [
    "eq2 = sym.Eq(y2, t*v0 + y0 + ((g/σ)**(1/2) * sym.log(sym.cosh(t * (g * σ)**(1/2))))/(g*σ)**(1/2))\n",
    "eq2.subs({t: 5, y0: 0, σ: 0.1, g: 9.8, v0: 0})"
   ]
  },
  {
   "cell_type": "markdown",
   "id": "533c5900",
   "metadata": {},
   "source": [
    "<h2>Analyzing the Data</h2>\n",
    "Below is some data taken in an early version of the lead filled ball drop experiment. Additionally, some packages have been imported which we will use throughout our data analysis. The position data for the ball follows:"
   ]
  },
  {
   "cell_type": "code",
   "execution_count": 65,
   "id": "af67ec59",
   "metadata": {},
   "outputs": [],
   "source": [
    "from matplotlib import pyplot as plt\n",
    "import numpy as np\n",
    "from scipy.optimize import curve_fit\n",
    "\n",
    "heightData = [0.0209976, 0.0419953, 0.0419953, 0.0629929, 0.0839905, 0.125986, 0.1889797, 0.230974, 0.293967, 0.377957, 0.44095, 0.545938, 0.671924,\n",
    "             0.776912, 0.902898, 1.02888, 1.15487, 1.32285, 1.42784, 1.61682, 1.7848, 1.99487, 2.14176, 2.39373, 2.58271, 2.79269, 2.98166, 3.21264, 3.46461,\n",
    "             3.71658, 3.92656, 4.15753]\n",
    "\n",
    "#Convert our height data into a numpy array, so we may use it in our curve fitting\n",
    "heightArr = np.array(heightData)"
   ]
  },
  {
   "cell_type": "markdown",
   "id": "9d7df0aa",
   "metadata": {},
   "source": [
    "The data above has been converted to physical units from Lab 06. The time data is the same as in Lab 06 (note that the time data is different than your experiment!)"
   ]
  },
  {
   "cell_type": "code",
   "execution_count": 66,
   "id": "76c46bd9",
   "metadata": {},
   "outputs": [],
   "source": [
    "#Create a list of times, each a 30th of a second, corresponding to an element of the height data\n",
    "TimeData = [i/30 for i in range(0,len(heightData))]\n",
    "\n",
    "#Conversion to numpy array, for the same reason\n",
    "TimeArr = np.array(TimeData)"
   ]
  },
  {
   "cell_type": "markdown",
   "id": "1bf136ef",
   "metadata": {},
   "source": [
    "Thus, the physical data is:"
   ]
  },
  {
   "cell_type": "code",
   "execution_count": 67,
   "id": "75c4242d",
   "metadata": {},
   "outputs": [
    {
     "data": {
      "image/png": "[encoded data removed]",
      "text/plain": [
       "<Figure size 640x480 with 1 Axes>"
      ]
     },
     "metadata": {},
     "output_type": "display_data"
    }
   ],
   "source": [
    "plt.plot(TimeData, heightData, \"o\")\n",
    "plt.xlabel('Time (sec)')\n",
    "plt.ylabel('Height (m)')\n",
    "plt.show()"
   ]
  },
  {
   "cell_type": "markdown",
   "id": "47725ce1",
   "metadata": {},
   "source": [
    "We are now ready to fit our model to the data. This is a more complicated fit than we did last week. Our model is: \n",
    " <center>$y = t v_0 + y_0 + \\frac{\\sqrt{\\frac{g}{\\sigma}} \\log (\\cosh(t \\sqrt{g \\sigma}))}{\\sqrt{g \\sigma}}$</center>\n",
    "     Which depends on both $g$ and $\\sigma$ in a highly non-linear way. We will use the <b>curve_fit</b> function from scipy to accomplish this. First, we create a python function that defines our model. In Cincinnati the accepted value of $g$ is $9.8$ m/s^2. So we will fix $g$ and fit to $y_0, v_0$ and $\\sigma$. We know that $\\sigma$ shoud be small, but <b>curve_fit</b> will not like $\\sigma = 0$ so I have given $\\sigma$ a starting point of $0.01$. We will assume that $v_0$ is close to zero. This assumption will change for each case to match the analysis performed last week."
   ]
  },
  {
   "cell_type": "code",
   "execution_count": 78,
   "id": "4ab34fda",
   "metadata": {},
   "outputs": [
    {
     "name": "stdout",
     "output_type": "stream",
     "text": [
      "[ 0.09099515 -0.44513693  0.05881766]\n"
     ]
    },
    {
     "data": {
      "image/png": "[encoded data removed]",
      "text/plain": [
       "<Figure size 640x480 with 1 Axes>"
      ]
     },
     "metadata": {},
     "output_type": "display_data"
    }
   ],
   "source": [
    "def model_func(t, σ, v0, y0):\n",
    "    g = 9.80\n",
    "    return (t*v0 + y0 + ((g/σ)**(1/2) * np.log(np.cosh(t * (g * σ)**(1/2))))/(g*σ)**(1/2))\n",
    "\n",
    "#Fitting our function, popt is our parameters.\n",
    "#The bounds portition of the code is of the form [(lower bound 1, lower bound 2, lower bound 3),(upper bound 1, upper bound 2, upper bound 3)]\n",
    "popt, pcov = curve_fit(model_func, TimeArr, heightArr, bounds=[(0.01,-np.inf,-np.inf),(1,np.inf,np.inf)])\n",
    "\n",
    "print(popt)\n",
    "plt.plot(TimeData, model_func(TimeArr, *popt))\n",
    "plt.plot(TimeData, heightData, \"o\")\n",
    "plt.show()"
   ]
  },
  {
   "cell_type": "markdown",
   "id": "b4d1544a",
   "metadata": {},
   "source": [
    "The terminal velocity can be found using your parameters from the fit and the velocity equation from above. The first step is to extract the parameters from the fit."
   ]
  },
  {
   "cell_type": "code",
   "execution_count": 97,
   "id": "ba0dd478",
   "metadata": {},
   "outputs": [
    {
     "name": "stdout",
     "output_type": "stream",
     "text": [
      "7.351095660653801\n",
      "9.932630074912002\n"
     ]
    }
   ],
   "source": [
    "def vel_func(t, σ, v0, y0):\n",
    "    g = 9.8\n",
    "    return v0 + (g / σ)**(1/2) * np.tanh(t * (g * σ)**(1/2))\n",
    "\n",
    "σ = popt[0]\n",
    "v0 = popt[1]\n",
    "y0 = popt[2]\n",
    "\n",
    "final_vel = vel_func(TimeData[-1], σ, v0, y0)\n",
    "term_vel = vel_func(1000, σ, v0, y0)\n",
    "\n",
    "print(final_vel)\n",
    "print(term_vel)"
   ]
  },
  {
   "cell_type": "markdown",
   "id": "8c443d56",
   "metadata": {},
   "source": [
    "The final velocity for this run is about 74% of the terminal velocity."
   ]
  },
  {
   "cell_type": "code",
   "execution_count": 96,
   "id": "0e3df697",
   "metadata": {},
   "outputs": [
    {
     "name": "stdout",
     "output_type": "stream",
     "text": [
      "0.7400955844737758\n"
     ]
    }
   ],
   "source": [
    "print(final_vel/term_vel)"
   ]
  },
  {
   "cell_type": "markdown",
   "id": "d7a5e03e",
   "metadata": {},
   "source": [
    "We now have an accurate model for air drage and used the model to analyze experimental data. You should perfom the fitting calculation for the lead filled ball, the tennis ball and the nerf ball. This will give you 3 different values of $\\sigma$. This value for $\\sigma$ can then be used to calculate the drag coefficient, $c$.\n",
    "<br>\n",
    "You will now be able to calculate $c$ for each of the balls. Weight the lead filled ball, tennis ball and the nerf ball and measure their cross sectional areas. The density of air is $1.2 \\pm 0.02$kg/m^3. Are these results reasonable/expected?"
   ]
  },
  {
   "cell_type": "markdown",
   "id": "e3c91bab",
   "metadata": {},
   "source": [
    "<h2>Upshot</h2>\n",
    "This is a rough outline of the experiment.<i> This is not necessarily a complete list of what needs to be done.</i>\n",
    "<br>\n",
    "1) The only new data we need for this experiment is the mass and diameter of each ball, if you don't have it from last week.<br>\n",
    "2) Use the (rescaled, physical) numerical data from Lab 6, all three sets. Fit each of them using the model described here which includes air resistance.<br>\n",
    "3) Extract the fit parameters (σ, $v_0$, $y_0$) and use them to justify (or not) the assumptions we have been making, both about air resistance and the initial speed of the particle.<br>\n",
    "4) Use the definition of σ to calculate $c$ numerically (with the corresponding uncertainty). Compare these values to 1 and think about what any deviations might mean, in terms of physics we are ignoring in our model.<br>\n",
    "5) Calculate the terminal velocity for each data set, along with the maximum velocity reached. Which ball was closest to terminal velocity? Does your answer make sense physically?<br>\n",
    "6) Don't forget about uncertainties/error analysis!"
   ]
  },
  {
   "cell_type": "markdown",
   "id": "b818a02c",
   "metadata": {},
   "source": [
    "<h2>Assignment</h2>\n",
    "The assignment for Week 7 is a <u>full Lab Report</u> which addresses all relevant questions from this writeup, and reflects on each. This report should be written in accordance with the general rules and guidelines of the Syllabus for this course; please ask if there are any questions about what specifically is required."
   ]
  }
 ],
 "metadata": {
  "kernelspec": {
   "display_name": "Python 3 (ipykernel)",
   "language": "python",
   "name": "python3"
  },
  "language_info": {
   "codemirror_mode": {
    "name": "ipython",
    "version": 3
   },
   "file_extension": ".py",
   "mimetype": "text/x-python",
   "name": "python",
   "nbconvert_exporter": "python",
   "pygments_lexer": "ipython3",
   "version": "3.11.3"
  }
 },
 "nbformat": 4,
 "nbformat_minor": 5
}
