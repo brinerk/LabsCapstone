{
 "cells": [
  {
   "cell_type": "markdown",
   "id": "ab159792",
   "metadata": {},
   "source": [
    "<center><h1>Lab 9:<br> Impluse and Momentum</h1></center>\n",
    "<h2>Introduction</h2>\n",
    "In this lab we will study the conservation of energy and momentum in both elastic and inelastic collisions. This will be achieved using an air track that minimizes energy loss due to air resistance.\n",
    "<h2>Theory</h2>\n",
    "\n",
    "<h3>Basics</h3>\n",
    "\n",
    "The momentum of a particles is $\\vec P = m \\vec v$. Differentiating both sides of the equation yields Newton's equation $\\frac{d \\vec P}{dt} = m \\frac{d \\vec v}{dt} = m \\vec a = \\vec F$. For a system of $N$ particles, we assign momentum $\\vec p_i$ to the $i$th paricle; then the sum $i$ gives the total momentum, $\\vec P$, for the system:\n",
    "<center>$\\vec P = \\sum_{i=1}^N \\vec p_i$</center>\n",
    "Thus, the derivative of total momentum:\n",
    "<center>$\\frac{d \\vec P}{dt} = \\sum_{i=1}^N \\frac{d \\vec p_i}{dt} = \\sum_{i=1}^N m_i \\vec a_i = \\sum_{i=1}^N \\vec F_i$</center>\n",
    "where $\\vec F_i$ is the total force on the $i$th particle. The force $\\vec F_i$ can, in general, come either from another particle $j \\pm i$ or from some external source. But by Newton's Third Law, any forces <u>between</u> two particles in the system will add to zero: $\\vec F_{i\\ on \\ j} = - \\vec F_{j\\ on \\ i}$ (They are equal and opposite). Thus, only external forces will contribute to the sum overall. Thus we have <center>$\\frac{d \\vec P}{dt} = \\vec F_{ext} \\quad (1)$</center>\n",
    "If no external force acts on the system then $\\frac{d \\vec P}{dt} = 0$, which implies that $\\vec P(t) = $constant, which means that the momentum of an isolated system (no external forces) is conserved. If the system is not isolated (<i>i.e.</i> an external force acts on it) then we have:\n",
    "<center>$\\vec J = \\Delta \\vec P = \\int_{t_1}^{t_2} \\vec F_{ext} dt \\quad (2)$</center>\n",
    "The quantity $\\vec J$ is known as the impulse and measures the change in momentum caused by an external force acting from time $t_1$ to $t_2$. The impulse on a single particle is:\n",
    "<center> $J_i = \\Delta \\vec p_i = \\int_{t_1}^{t_2} \\vec F_i \\ dt$ </center>\n",
    "<center> $\\rightarrow \\Delta \\vec v = \\int_{t_1}^{t_2} \\vec a \\ dt \\quad (3)$ </center>\n",
    "In this lab we will study the conservation of momentum and energy in collisions. We will also measure the impulse felt by a particle (cart) in a collision and test equation 3.\n",
    "<br><br>\n",
    "In general, kinetic energy is not conserved during a collision. Collisions can be classified into two types: elastic collisions in which kinetic energy is conserved and inelastic collisions in which kinetic energy is <i>not</i> conserved. Momentum is conserved in all collisions provided that the system is isolated.\n",
    "<br>\n",
    "<h3>Elastic Collisions</h3>\n",
    "In a two body elastic collision we have:\n",
    "<center>$m_1 v_{1i} + m_2 v_{2i} = m_1 v_{1f} + m_2 v_{2f}$ (Momentum Conservation) </center>\n",
    "<center>$\\frac{1}{2}m_1 v_{1i}^2 + \\frac{1}{2} m_2 v_{2i}^2 = \\frac{1}{2} m_1 v_{1f}^2 + \\frac{1}{2} m_2 v_{2f}^2$ (Kinetic Energy Conservation) </center>\n",
    "Since we have two equations and two unknowns (assuming that $v_{i,1}$ and $v_{i,2}$ are known) we can solve for the final velocities of both particles. Writing the equations in python gives:\n"
   ]
  },
  {
   "cell_type": "code",
   "execution_count": 84,
   "id": "290198f2",
   "metadata": {},
   "outputs": [
    {
     "data": {
      "text/latex": [
       "$\\displaystyle \\left[ \\left( v1i, \\  v2i\\right), \\  \\left( \\frac{m_{1} v1i + m_{2} v2i - \\frac{m_{2} \\cdot \\left(2.0 m_{1} v1i - m_{1} v2i + m_{2} v2i\\right)}{m_{1} + m_{2}}}{m_{1}}, \\  \\frac{2.0 m_{1} v1i - m_{1} v2i + m_{2} v2i}{m_{1} + m_{2}}\\right)\\right]$"
      ],
      "text/plain": [
       "⎡            ⎛                  m₂⋅(2.0⋅m₁⋅v1i - m₁⋅v2i + m₂⋅v2i)             \n",
       "⎢            ⎜m₁⋅v1i + m₂⋅v2i - ─────────────────────────────────             \n",
       "⎢            ⎜                               m₁ + m₂               2.0⋅m₁⋅v1i \n",
       "⎢(v1i, v2i), ⎜───────────────────────────────────────────────────, ───────────\n",
       "⎣            ⎝                         m₁                                    m\n",
       "\n",
       "                 ⎞⎤\n",
       "                 ⎟⎥\n",
       "- m₁⋅v2i + m₂⋅v2i⎟⎥\n",
       "─────────────────⎟⎥\n",
       "₁ + m₂           ⎠⎦"
      ]
     },
     "execution_count": 84,
     "metadata": {},
     "output_type": "execute_result"
    }
   ],
   "source": [
    "import sympy as sym\n",
    "sym.init_printing(use_latex = \"mathjax\")\n",
    "\n",
    "v1i, v1f, v2i, v2f, m1, m2 = sym.symbols('v1i v1f v2i v2f m1 m2')\n",
    "\n",
    "eq1 = sym.Eq(m1*v1i + m2*v2i, m1*v1f + m2*v2f)\n",
    "\n",
    "eq2 = sym.Eq(0.5*m1*v1i**2 + 0.5*m2*v2i**2, 0.5*m1*v1f**2 + 0.5*m2*v2f**2)\n",
    "\n",
    "v2_sol = sym.solve([eq1, eq2], (v1f, v2f))\n",
    "\n",
    "v2_sol"
   ]
  },
  {
   "cell_type": "markdown",
   "id": "18084d10",
   "metadata": {},
   "source": [
    "Solving these equations gives two solutions. The first solution corresponds to the case where there is no collision. This is a valid solution but not one we are interested in. We want the second solution."
   ]
  },
  {
   "cell_type": "code",
   "execution_count": 102,
   "id": "546ba257",
   "metadata": {},
   "outputs": [
    {
     "data": {
      "text/latex": [
       "$\\displaystyle \\frac{m_{1} v1i + m_{2} v2i - \\frac{m_{2} \\cdot \\left(2.0 m_{1} v1i - m_{1} v2i + m_{2} v2i\\right)}{m_{1} + m_{2}}}{m_{1}}$"
      ],
      "text/plain": [
       "                  m₂⋅(2.0⋅m₁⋅v1i - m₁⋅v2i + m₂⋅v2i)\n",
       "m₁⋅v1i + m₂⋅v2i - ─────────────────────────────────\n",
       "                               m₁ + m₂             \n",
       "───────────────────────────────────────────────────\n",
       "                         m₁                        "
      ]
     },
     "execution_count": 102,
     "metadata": {},
     "output_type": "execute_result"
    }
   ],
   "source": [
    "#the [1][0] solutions differ from the mathematica notebook\n",
    "v2_sol[1][0]"
   ]
  },
  {
   "cell_type": "code",
   "execution_count": 100,
   "id": "b005321b",
   "metadata": {},
   "outputs": [
    {
     "data": {
      "text/latex": [
       "$\\displaystyle \\frac{2.0 m_{1} v1i - m_{1} v2i + m_{2} v2i}{m_{1} + m_{2}}$"
      ],
      "text/plain": [
       "2.0⋅m₁⋅v1i - m₁⋅v2i + m₂⋅v2i\n",
       "────────────────────────────\n",
       "          m₁ + m₂           "
      ]
     },
     "execution_count": 100,
     "metadata": {},
     "output_type": "execute_result"
    }
   ],
   "source": [
    "v2_sol[1][1]"
   ]
  },
  {
   "cell_type": "markdown",
   "id": "d06b1874",
   "metadata": {},
   "source": [
    "There are a number of special cases that we should check. Suppose that $v_{2i} = 0$. Then we have:"
   ]
  },
  {
   "cell_type": "code",
   "execution_count": 101,
   "id": "672ee883",
   "metadata": {},
   "outputs": [
    {
     "data": {
      "text/latex": [
       "$\\displaystyle \\frac{- \\frac{2.0 m_{1} m_{2} v1i}{m_{1} + m_{2}} + m_{1} v1i}{m_{1}}$"
      ],
      "text/plain": [
       "  2.0⋅m₁⋅m₂⋅v1i         \n",
       "- ───────────── + m₁⋅v1i\n",
       "     m₁ + m₂            \n",
       "────────────────────────\n",
       "           m₁           "
      ]
     },
     "execution_count": 101,
     "metadata": {},
     "output_type": "execute_result"
    }
   ],
   "source": [
    "v2_sol[1][0].subs({v2i: 0})"
   ]
  },
  {
   "cell_type": "code",
   "execution_count": 61,
   "id": "d081c41b",
   "metadata": {
    "scrolled": true
   },
   "outputs": [
    {
     "data": {
      "text/latex": [
       "$\\displaystyle \\frac{2.0 m_{1} v1i}{m_{1} + m_{2}}$"
      ],
      "text/plain": [
       "2.0*m1*v1i/(m1 + m2)"
      ]
     },
     "execution_count": 61,
     "metadata": {},
     "output_type": "execute_result"
    }
   ],
   "source": [
    "v2_sol[1][1].subs({v2i: 0})"
   ]
  },
  {
   "cell_type": "markdown",
   "id": "2347b7fa",
   "metadata": {},
   "source": [
    "And if the particles have equal masses so that $m_1 = m_2$, then we have:"
   ]
  },
  {
   "cell_type": "code",
   "execution_count": 108,
   "id": "c96fe0f1",
   "metadata": {},
   "outputs": [
    {
     "data": {
      "text/latex": [
       "$\\displaystyle 0$"
      ],
      "text/plain": [
       "0"
      ]
     },
     "execution_count": 108,
     "metadata": {},
     "output_type": "execute_result"
    }
   ],
   "source": [
    "#[1][0] are the same as mathematica from here on\n",
    "v2_sol[1][0].subs({v2i: 0, m1: m2})"
   ]
  },
  {
   "cell_type": "code",
   "execution_count": 62,
   "id": "71b71063",
   "metadata": {},
   "outputs": [
    {
     "data": {
      "text/latex": [
       "$\\displaystyle 1.0 v1i$"
      ],
      "text/plain": [
       "1.0*v1i"
      ]
     },
     "execution_count": 62,
     "metadata": {},
     "output_type": "execute_result"
    }
   ],
   "source": [
    "v2_sol[1][1].subs({v2i: 0, m1: m2})"
   ]
  },
  {
   "cell_type": "markdown",
   "id": "1be5cc32",
   "metadata": {},
   "source": [
    "And we see that the first particle stops and the second moves off with the same velocity as the first particle had initially. <br>\n",
    "if $m_2 \\gg m_1$ and $v_{2i} = 0$ (e.g. $m_2$ is a brick wall) then for $v_{1f}$ we have:"
   ]
  },
  {
   "cell_type": "code",
   "execution_count": 70,
   "id": "f558402b",
   "metadata": {},
   "outputs": [
    {
     "data": {
      "text/latex": [
       "$\\displaystyle - v1i$"
      ],
      "text/plain": [
       "-v1i"
      ]
     },
     "execution_count": 70,
     "metadata": {},
     "output_type": "execute_result"
    }
   ],
   "source": [
    "lim = sym.limit(v2_sol[1][0].subs({v2i: 0}), m2, sym.oo)\n",
    "lim"
   ]
  },
  {
   "cell_type": "markdown",
   "id": "5ee96b2d",
   "metadata": {},
   "source": [
    "And for $v_{2f}$ we get:"
   ]
  },
  {
   "cell_type": "code",
   "execution_count": 77,
   "id": "3212c5de",
   "metadata": {},
   "outputs": [
    {
     "data": {
      "text/latex": [
       "$\\displaystyle 0$"
      ],
      "text/plain": [
       "0"
      ]
     },
     "execution_count": 77,
     "metadata": {},
     "output_type": "execute_result"
    }
   ],
   "source": [
    "lim2 = sym.limit(v2_sol[1][1].subs({v2i: 0}), m2, sym.oo)\n",
    "lim2"
   ]
  },
  {
   "cell_type": "markdown",
   "id": "d1e6d16f",
   "metadata": {},
   "source": [
    "Thus, we see that the first particle rebounds off the second with $v_{1i} = -v_{1f}$. If, on the other hand, $m_1 \\gg m_2$ (e.g. a bowling ball hits a BB) then"
   ]
  },
  {
   "cell_type": "code",
   "execution_count": 105,
   "id": "500a8b10",
   "metadata": {},
   "outputs": [
    {
     "data": {
      "text/latex": [
       "$\\displaystyle v1i$"
      ],
      "text/plain": [
       "v1i"
      ]
     },
     "execution_count": 105,
     "metadata": {},
     "output_type": "execute_result"
    }
   ],
   "source": [
    "v2_sol[1][0].subs({m2: 0})"
   ]
  },
  {
   "cell_type": "code",
   "execution_count": 106,
   "id": "e7e85d9f",
   "metadata": {},
   "outputs": [
    {
     "data": {
      "text/latex": [
       "$\\displaystyle \\frac{2.0 m_{1} v1i - m_{1} v2i}{m_{1}}$"
      ],
      "text/plain": [
       "2.0⋅m₁⋅v1i - m₁⋅v2i\n",
       "───────────────────\n",
       "         m₁        "
      ]
     },
     "execution_count": 106,
     "metadata": {},
     "output_type": "execute_result"
    }
   ],
   "source": [
    "v2_sol[1][1].subs({m2: 0})"
   ]
  },
  {
   "cell_type": "markdown",
   "id": "a62d64f9",
   "metadata": {},
   "source": [
    "<h3>(Partially) Inelastic Collisions</h3>\n",
    "In inelastic collisions, kinetic energy is not conserved and we cannot determine the final velocities of both particles from conservation laws alone. We must know the details of the collision. In order to predict the final velocities we must be able to calculate or measure the force (or acceleration) acting on the particles. If we can do this, then we can use:\n",
    "<center>$\\Delta v = \\int_{t_1}^{t_2} a \\ dt$</center>\n",
    "to calculate the change in velocity of each particle.\n",
    "\n",
    "<h3>Completely Inelastic Collisions</h3>\n",
    "If the particles stick together after the collision, then the collision is said to be completely inelastic and we can determine the final velocity of both particles from momentum conservation alone. Since for the completely inelastic case, we have $v_{1f} = v_{2f}$ we can solve the momentum conservation equation for $v_{1f}$."
   ]
  },
  {
   "cell_type": "code",
   "execution_count": 35,
   "id": "e7d74e46",
   "metadata": {},
   "outputs": [
    {
     "data": {
      "text/latex": [
       "$\\displaystyle \\frac{m_{1} v1i + m_{2} v2i}{m_{1} + m_{2}}$"
      ],
      "text/plain": [
       "(m1*v1i + m2*v2i)/(m1 + m2)"
      ]
     },
     "execution_count": 35,
     "metadata": {},
     "output_type": "execute_result"
    }
   ],
   "source": [
    "eqn1 = sym.Eq(m1*v1i + m2*v2i, m1*v1f + m2*v1f)\n",
    "ansInelastic = sym.solve(eqn1, v1f)\n",
    "ansInelastic[0]"
   ]
  },
  {
   "cell_type": "markdown",
   "id": "a2d8540e",
   "metadata": {},
   "source": [
    "Notice that if $v_{1i} = -v_{2i}$ and $m_1 = m_2$ then $v_{if}=0$ <br>\n",
    "<br>\n",
    "How does the kinetic energy of the system change in an inelastic collision? To answer this question we will compute $\\Delta K = K_f - K_i$. The initial and final kinetic energies are:"
   ]
  },
  {
   "cell_type": "code",
   "execution_count": 116,
   "id": "f2401919",
   "metadata": {},
   "outputs": [],
   "source": [
    "K1, K2 = sym.symbols('K1 K2')\n",
    "Ki = sym.Eq((m1 * v1i**2)/2 + (m2 * v2i**2)/2, K1)\n",
    "Kf = sym.Eq((m1 * v1f**2)/2 + (m2 * v2f**2)/2, K2)"
   ]
  },
  {
   "cell_type": "markdown",
   "id": "02b30954",
   "metadata": {},
   "source": [
    "If the collision is completely inelastic then $v_{2f} = v_{1f}$ and $v_{1f} = \\frac{-m_1 v_{1i} - m_2 v_{2i}}{m_1 + m_2}$. <br>\n",
    "So,"
   ]
  },
  {
   "cell_type": "code",
   "execution_count": 126,
   "id": "b0a7a139",
   "metadata": {},
   "outputs": [
    {
     "data": {
      "text/latex": [
       "$\\displaystyle - \\frac{m_{1} v1f^{2}}{2} + \\frac{m_{1} v1i^{2}}{2} - \\frac{m_{2} v2f^{2}}{2} + \\frac{m_{2} v2i^{2}}{2}$"
      ],
      "text/plain": [
       "        2         2         2         2\n",
       "  m₁⋅v1f    m₁⋅v1i    m₂⋅v2f    m₂⋅v2i \n",
       "- ─────── + ─────── - ─────── + ───────\n",
       "     2         2         2         2   "
      ]
     },
     "execution_count": 126,
     "metadata": {},
     "output_type": "execute_result"
    }
   ],
   "source": [
    "Ki_sim = sym.simplify(Ki.subs({v2f: v1f}))\n",
    "Kf_sim = sym.simplify(Kf)\n",
    "\n",
    "ΔK = sym.simplify(Ki_sim.rhs - Kf_sim.rhs)\n",
    "ΔK"
   ]
  },
  {
   "cell_type": "markdown",
   "id": "59e2ebb9",
   "metadata": {},
   "source": [
    "Note the $\\Delta K$ is always negative, indicating that kinetic energy is lost. If the target particle is initially at rest ($v_{2i} = 0$) then the fractional loss of kinetic energy $\\Delta K/K_i$ takes a particularly simple form."
   ]
  },
  {
   "cell_type": "code",
   "execution_count": 138,
   "id": "fd162548",
   "metadata": {},
   "outputs": [
    {
     "data": {
      "text/latex": [
       "$\\displaystyle - \\frac{v1f^{2}}{v1i^{2}} + 1 - \\frac{m_{2} v2f^{2}}{m_{1} v1i^{2}}$"
      ],
      "text/plain": [
       "     2             2\n",
       "  v1f        m₂⋅v2f \n",
       "- ──── + 1 - ───────\n",
       "     2             2\n",
       "  v1i        m₁⋅v1i "
      ]
     },
     "execution_count": 138,
     "metadata": {},
     "output_type": "execute_result"
    }
   ],
   "source": [
    "ΔK_sim = sym.simplify(ΔK)\n",
    "K_ratio = sym.simplify(ΔK_sim / Ki_sim.rhs)\n",
    "sym.simplify(K_ratio.subs({v2i: 0}))"
   ]
  },
  {
   "cell_type": "markdown",
   "id": "bda2ca9d",
   "metadata": {},
   "source": [
    "<h2>Setting Up</h2>\n",
    "We use carts on an airtrack as our \"particles\", and we use motion sensors to determine their speeds and force sensors to determine the forces between them.\n",
    "\n",
    "![title](./lab9_setup.png)\n",
    "\n",
    "<h3>Setting up the PASCO motion Sensors and the Data Sudio Software</h3>\n",
    "Use the clamp which is built into the base to attach a motion sensor to each end of the airtrack. Connect the plugs of the motion sensor to the digital adapter (the yellow plug should be in socket #1), connect the digital adapter to the a USB link interface and connect that into a USB port on the computer. Set the switch on the motion sensor to the \"cart\" option or the \"short range/narrow beam\" setting. Start the Data Studio software and select \"create experiment\" option from the initial menu. When the list of PASCO sensors opens, select the motion sensor and repeat for the second motion sensor. If the lsit of PASCO sensors does not automatically appear, open the Setup window and click the button labeled \"add sensor.\" Once the sensors have been selected, open the Setup window and change the sample rate to 50 samples/second and make sure that the sensor is set to record position, velocity and acceleration.\n",
    "<br><br>\n",
    "On the left side of the Data Studio window there is a list of the data that can be collected using the connected sensors and a second list of the ways in which the data can be displayed by the software. Create a graph display for the position data for each motion sensor by dragging the graph icon from the display list up to each of the position entries in the data list. The reverse procedure - dragging position from the data list down to the graph icon - will produce the same result.\n",
    "\n",
    "<h3>Settin up the wireless force sensors and the Logger Pro Software</h3>\n",
    "Start the <i>Logger Pro</i> software and turn on the wireless force sensors. From the Experiment menu select connect interface and from the wireless option choose the scan for wireless devices command. From the list of devices that are identified by the scan, select the names that match the labels on the force sensors that you are using. Return to the Experiment menu, choose the set up sensors command and select both of your wireless sensors. If it has not already been done, deselect every type of data except the force. From the \"Configure\" menu for the force, zero each sensor and reverse the direction for one of the sensors.\n",
    "<br><br>\n",
    "\n",
    "Return to the \"Experiment\" menu again and select the \"Data Collection\" command. Set the sample rate to a maximum 1000 samples/second. Set the length of data taking to 5 second or so.\n",
    "<br><br>\n",
    "\n",
    "Finally, position the Logger Pro window so that the start data taking button is still visible when the Data Studio window is active.\n",
    "\n",
    "<h2>Taking the Data</h2>\n",
    "<h3>Basics</h3>\n",
    "\n",
    "You will be doing three separate experiments.\n",
    "<br>\n",
    "1) Single cart collision with the end of each track.\n",
    "<br>\n",
    "2) Two cart elastic collision.\n",
    "<br>\n",
    "3) Two cart inelastic collision.\n",
    "<br><br>\n",
    "\n",
    "In cases (2) and (3), you will choose either carts of equal mass or carts of very different masses.\n",
    "<br><br>\n",
    "\n",
    "Obtain three carts and choose identifies (color, size, sensor name, etc.) for each one. Two of the carts should have similar mass and one should have a different mass. Use a balance to weigh each of the carts.\n",
    "<br><br>\n",
    "\n",
    "For each experiment, you will need to save the position and velocity data from the motion sensor (Data Studio), and the force data from the force sensor (Logger Pro).\n",
    "<br><br>\n",
    "\n",
    "Turn on the air supply to the airtrack. Place the two gliders that you will be using on the airtrack with the force sensors faccing toward one another. Click the start button in Data Studio and identify which glider is being recorded by each motion sensor. If necessary adjust the ain of the motion sensors so that the motion of each glider can be recorded along the full length of the airtrack. Note that each motion sensor determines the direction of motion relative to itself. Since the two motion sensors are facing one another, the directions will not be defined in the same way and it will be up to you to put the raw data into the correct context. When you are satisfied with the data generated by the motion sensors, stop the data collection and delete the data from Data Studio. The \"delete data\" command is found under the \"Experiment\" menu.\n",
    "<br><br>\n",
    "\n",
    "From <i>Data Studio</i> export velocity and acceleration data for the moving cart; <i>Data Studio</i> will only export one set of data a time, so the velocity and the acceleration occupy two separate text fies. From <i>Logger Pro</i> export the force data for both sensors; <i>Logger Pro</i> will export all of the data into a single file, so you will need to separate out the data of interest for the moving cart after importing it.\n",
    "<br><br>\n",
    "\n",
    "Save your data to the desktop. When you are finished taking the data, move your file to Hauck. Open the file on another computer to work on the analysis while the remaining group take their data.\n",
    "<br><br>\n",
    "\n",
    "Import the data and plot each data set. Note that the time scale for the <i>Data Studio</i> data will not match the time scale from <i>Logger Pro</i>, you will need to make the adjustments so that they match up. To extract numbers from your graphs, hit the Crtl key. When you move the mouse pointer over a particular graph, crosshairs will appear. The numerical values will appear on the axes.\n",
    "<br><br>\n",
    "\n",
    "Click on the statistics icon ($\\sigma$) in the lower left hand corner of the graph window. This will add statistics function to each graph. Integrate the area under the curve for the force by clicking on the $\\sigma$ next to the force graph and selecting \"integrate\". Select the area of the curve that represents the collision by clicking and dragging a box around the desired portion of the graph.\n",
    "\n",
    "<h3>(1) Single Cart Collision</h3>\n",
    "\n",
    "For the first experiment choose which glider will be stationary and which will be moving. Both force sensors should have the elastic (non - velcro) bumper in place. Attach the stationary glider to the end of the airtrack using a binder clip to hold together the metal springs on the glider and the airtrack end stop. Place the other glider at the other end of the airtrack and gently push the moving cart towards the stationary cart. If <i>Logger Pro</i> stops collecting data before the collision occured, you will need to repeat the data collection process.\n",
    "<br><br>\n",
    "\n",
    "Export the data from <i>Data Studio</i> and <i>Logger Pro</i>.\n",
    "\n",
    "<h3>Questions for (1)</h3>\n",
    "Just before the collision, what are the velocity and accleration of the cart? What are they just after the collision (with error)?\n",
    "<br><br>\n",
    "\n",
    "What happens to the cart's velocity during the collision?\n",
    "<br><br>\n",
    "\n",
    "Describe the cart's acceleration during the collision. Does the data show that $\\Delta V = \\int_{t_1}^{t_2} a \\ dt$?\n",
    "<br><br>\n",
    "\n",
    "Is momentum conserved by the carts in this experiment?"
   ]
  },
  {
   "cell_type": "markdown",
   "id": "93341f63",
   "metadata": {},
   "source": [
    "<h3>(2) Elastic: Conserved Momentum and Kinetic Energy</h3>\n",
    "You will choose one of the following cases to test (either way, it will be an elastic collision):<br>\n",
    "2a) Moving carts hitting a stationary cart using carts of different mass.<br>\n",
    "2b) Both carts moving towards each other using carts of similar mass.\n",
    "<br><br>\n",
    "\n",
    "Take note that for the following experiments you are asked to switch the carts that you are using. When the cart changes, you will also need to change which force sensor you take data from with <i>Logger Pro</i>. To change the force sensor that is active, first remove the force sensor that you are taking off using the \"remove sensor\" command from the \"experiment\" menu. Then repeat the procedure for connection to and configuring the force sensor, which you performed at the very beginning of the experiment.\n",
    "<br><br>\n",
    "\n",
    "For each of the data sets, attach the elastic bumpers to the wireless force sensors and place the carts of the airtrack with the force sensors facing each other. Position one cart at the end of the track and the other at the middle. Start the data recording and gently push the cart at the end of the air track toward the one at the center. After the collision, stop the data recording in <i>Data Studio</i> and export the velocity and force data for both carts from both programs.\n",
    "\n",
    "<h3>Questions for (2)</h3>\n",
    "Determine the velocity of carts just before and just after the collision (with error).\n",
    "<br><br>\n",
    "<strong>Were momentum and kinetic energy conserved in this collision?</strong> Explain your answer.\n",
    "<br><br>\n",
    "Determine the change in velocity by integrating the accleration. How close is this value to the actual change in velocity?\n",
    "<br><br>\n",
    "What effect did friction have on the momentum and kinetic energy of the system?\n",
    "\n",
    "<h3>(3) Inelastic: Conserved Momentum, Loss of Kinetic Enery</h3>\n",
    "You will take three sets of data for this experiment.<br>\n",
    "(3a) Moving cart inelastically colliding with a stationary cart using carts of different mass.<br>\n",
    "(3b) Both carts moving towards each other and inelastically colliding using carts of similar mass.\n",
    "<br><br>\n",
    "\n",
    "Remove the elastic bumbers on the force sensors and screw in the velcro covered bumpers instead. Position the carts with similar mass on the airtrack in the same way as described above for the elastic collision experiment and proceed with creating the collision and recording the data.\n",
    "<h3>Questions for (3) (same as 2)</h3>\n",
    "Determine the velocity of carts just before and just after the collision (with error).\n",
    "<br><br>\n",
    "<strong>Were momentum and kinetic energy conserved in this collision?</strong> Explain your answer.\n",
    "<br><br>\n",
    "Determine the change in velocity by integrating the accleration. How close is this value to the actual change in velocity?\n",
    "<br><br>\n",
    "What effect did friction have on the momentum and kinetic energy of the system?"
   ]
  },
  {
   "cell_type": "markdown",
   "id": "e7ac59e0",
   "metadata": {},
   "source": [
    "<h2>Analyzing the Data</h2>\n",
    "<h3>Sorting the Data</h3>\n",
    "The PASCO Capstone software saves data from the motion sensors in an odd format. The beginning of a data set is show below in plain text:\n",
    "<br><br>\n",
    "\n",
    "~~~\n",
    "Run #1         Run #1         Run #1         Run #1        Run #1\n",
    "Time (s)       Position (m)   Velocity (m/s) Position (m)  Velocity (m/s)\n",
    "0.000          0.849\n",
    "0.025                                        2.195\n",
    "0.050          0.853          0.12\n",
    "0.075                                        2.200          0.05\n",
    "0.100          0.861          - 0.03\n",
    "0.125                                        2.200          0.00\n",
    "0.150          0.851          - 0.04         \n",
    "0.175                                        2.200          0.00\n",
    "0.200          0.850          0.03 \n",
    "0.225                                        2.200          0.00\n",
    "~~~\n",
    "\n",
    "There are two things to take note of in the above data:<br>\n",
    "1) At each time point, only one of the position sensors takes data.\n",
    "2) The first two times do not include velocity data (ask the lab instructor if you are curious why this is). This is also the case for the end of the data file (last 2 times do not have velocity data)."
   ]
  },
  {
   "cell_type": "code",
   "execution_count": 161,
   "id": "b96a7b3b",
   "metadata": {},
   "outputs": [
    {
     "name": "stdout",
     "output_type": "stream",
     "text": [
      "[['0.050', '0.853', '0.12'], ['0.075', '2.200', '0.05'], ['0.100', '0.861', '-0.03'], ['0.125', '2.200', '0.00'], ['0.150', '0.851', '-0.04'], ['0.175', '2.200', '0.00'], ['0.200', '0.850', '0.03'], ['0.225', '2.200', '0.00'], ['0.25', '0.854', '0.02'], ['0.275', '2.2', '0.00'], ['0.3', '0.858', '-0.03'], ['0.325', '2.2', '0.01'], ['0.35', '0.851', '-0.1'], ['0.375', '2.201', '0.00'], ['0.4', '0.847', '-0.08'], ['0.425', '2.2', '-0.01']]\n"
     ]
    }
   ],
   "source": [
    "#import csv package so we can easily parse comma separated value data.\n",
    "import csv\n",
    "\n",
    "#import pyplot so we may graph our results\n",
    "import matplotlib.pyplot as plt\n",
    "\n",
    "#create an empty list as a placeholder for our data\n",
    "data = []\n",
    "\n",
    "#open our file using the path found earlier\n",
    "with open(\"./testdata2.txt\") as f:\n",
    "    \n",
    "    #parse the file into the data object named \"read\", spliting our columns on ','\n",
    "    read = csv.reader(f, delimiter=' ')\n",
    "    \n",
    "    #go through the file we have just split and put only the second column into our data list\n",
    "    for i in read:\n",
    "        data.append(i)\n",
    "        \n",
    "data = [[i for i in row if i] for row in data]\n",
    "data = data[4:]\n",
    "\n",
    "#x_data = [float(i[0]) for i in data]\n",
    "#y_data = [float(i[1]) for i in data]\n",
    "print(data)"
   ]
  },
  {
   "cell_type": "markdown",
   "id": "68e3fc57",
   "metadata": {},
   "source": [
    "Note that this is simply a list of data with 3 elements in each sublist, but the sublists are combined together in the list structure. To separate the data from the two carts (problem 1), we will use a list comprehension:"
   ]
  },
  {
   "cell_type": "code",
   "execution_count": 186,
   "id": "5219b11d",
   "metadata": {},
   "outputs": [],
   "source": [
    "data_1 = [[float(j) for j in k] for i,k in enumerate(data) if i % 2 == 0]\n",
    "data_2 = [[float(j) for j in k] for i,k in enumerate(data) if i % 2 != 0]"
   ]
  },
  {
   "cell_type": "markdown",
   "id": "059469b1",
   "metadata": {},
   "source": [
    "Now we will separate the columns into their own lists."
   ]
  },
  {
   "cell_type": "code",
   "execution_count": 188,
   "id": "6aa3718f",
   "metadata": {},
   "outputs": [
    {
     "name": "stdout",
     "output_type": "stream",
     "text": [
      "[0.05, 0.1, 0.15, 0.2, 0.25, 0.3, 0.35, 0.4] [0.853, 0.861, 0.851, 0.85, 0.854, 0.858, 0.851, 0.847] [0.12, -0.03, -0.04, 0.03, 0.02, -0.03, -0.1, -0.08]\n"
     ]
    }
   ],
   "source": [
    "time_cart_1 = [i[0] for i in data_1]\n",
    "time_cart_2 = [i[0] for i in data_2]\n",
    "\n",
    "position_cart_1 = [i[1] for i in data_1]\n",
    "position_cart_2 = [i[1] for i in data_2]\n",
    "\n",
    "vel_cart_1 = [i[2] for i in data_1]\n",
    "vel_cart_2 = [i[2] for i in data_2]\n",
    "\n",
    "print(time_cart_1, position_cart_1, vel_cart_1)"
   ]
  },
  {
   "cell_type": "markdown",
   "id": "83c64685",
   "metadata": {},
   "source": [
    "This data can now be used in the rest of the analysis."
   ]
  },
  {
   "cell_type": "markdown",
   "id": "22f51bfb",
   "metadata": {},
   "source": [
    "<h3>Sample Velocity Analysis</h3>\n",
    "The following is some sample data from the single cart run"
   ]
  },
  {
   "cell_type": "code",
   "execution_count": 244,
   "id": "638c95dd",
   "metadata": {},
   "outputs": [
    {
     "data": {
      "image/png": "[encoded data removed]",
      "text/plain": [
       "<Figure size 640x480 with 1 Axes>"
      ]
     },
     "metadata": {},
     "output_type": "display_data"
    }
   ],
   "source": [
    "Data = [[2.28,-0.39],[2.32,-0.38],[2.36,-0.38],[2.4,-0.37],[2.44,-0.37],[2.48,-0.37],[2.52,-0.36],[2.56,-0.36],[2.6,-0.35],[2.64,-0.35],[2.68,-0.35],[2.72,-0.34],[2.76,-0.34],[2.8,-0.33],[2.84,-0.33],[2.88,-0.32],[2.92,-0.32],[2.96,-0.32],[3.,-0.31],[3.04,-0.31],[3.08,-0.3],[3.12,-0.3],[3.16,-0.29],[3.2,-0.29],[3.24,-0.29],[3.28,-0.28],[3.32,-0.28],[3.36,-0.27],[3.4,-0.27],[3.44,-0.26],[3.48,-0.26],[3.52,-0.25],[3.56,-0.25],[3.6,-0.25],[3.64,-0.24],[3.68,-0.24],[3.72,-0.21],[3.76,0.01],[3.8,0.22],[3.84,0.22],[3.88,0.22],[3.92,0.22],[3.96,0.22],[4.,0.21],[4.04,0.21],[4.08,0.21],[4.12,0.21],[4.16,0.21],[4.2,0.21],[4.24,0.21],[4.28,0.2],[4.32,0.2],[4.36,0.2],[4.4,0.19],[4.44,0.19],[4.48,0.19],[4.52,0.19],[4.56,0.19],[4.6,0.19],[4.64,0.18],[4.68,0.18],[4.72,0.18],[4.76,0.18],[4.8,0.17],[4.84,0.17],[4.88,0.16],[4.92,0.16],[4.96,0.16],[5.,0.16],[5.04,0.16],[5.08,0.16],[5.12,0.16],[5.16,0.15],[5.2,0.15],[5.24,0.15],[5.28,0.15],[5.32,0.15],[5.36,0.14],[5.4,0.14],[5.44,0.14],[5.48,0.13]]\n",
    "velData = [i[1] for i in Data]\n",
    "timeData = [i[0] for i in Data]\n",
    "\n",
    "plt.plot(timeData, velData, 'o')\n",
    "plt.xlabel('Time')\n",
    "plt.ylabel('Velocity')\n",
    "plt.title('Velocity Data')\n",
    "plt.show()"
   ]
  },
  {
   "cell_type": "markdown",
   "id": "5b708824",
   "metadata": {},
   "source": [
    "By looking at the velocity data, we can see that the collision occurs at about t = 3.76s. We can find the element in the list that corresponds to that time."
   ]
  },
  {
   "cell_type": "code",
   "execution_count": 245,
   "id": "a3fc7958",
   "metadata": {},
   "outputs": [
    {
     "name": "stdout",
     "output_type": "stream",
     "text": [
      "37\n"
     ]
    }
   ],
   "source": [
    "collTime = [i for i,k in enumerate(timeData) if k==3.76][0]\n",
    "print(collTime)"
   ]
  },
  {
   "cell_type": "markdown",
   "id": "09f2edf0",
   "metadata": {},
   "source": [
    "We will have to use two separate fits: One for the first half (before the collision) and another fro the second half (afterwards). We can separate different partitions of the data by doing the following:"
   ]
  },
  {
   "cell_type": "code",
   "execution_count": 259,
   "id": "0fe0e333",
   "metadata": {},
   "outputs": [
    {
     "data": {
      "image/png": "[encoded data removed]",
      "text/plain": [
       "<Figure size 640x480 with 1 Axes>"
      ]
     },
     "metadata": {},
     "output_type": "display_data"
    }
   ],
   "source": [
    "velData_1 = velData[:collTime-5]\n",
    "timeData_1 = timeData[:collTime-5]\n",
    "\n",
    "velData_2 = velData[collTime+5:]\n",
    "timeData_2 = timeData[collTime+5:]\n",
    "\n",
    "import numpy as np\n",
    "\n",
    "poly = np.polyfit(timeData_1, velData_1, deg=4)\n",
    "initialFit = np.polyval(poly,timeData_1)\n",
    "\n",
    "poly2 = np.polyfit(timeData_2, velData_2, deg=4)\n",
    "finalFit = np.polyval(poly2,timeData_2)\n",
    "\n",
    "plt.plot(timeData, velData, 'o', color='blue')\n",
    "plt.plot(timeData_1, initialFit, color='red')\n",
    "plt.plot(timeData_2, finalFit, color='yellow')\n",
    "plt.show()"
   ]
  },
  {
   "cell_type": "markdown",
   "id": "3460b748",
   "metadata": {},
   "source": [
    "Now lets find the velocity of the fitted equation at the collision time (t=3.76s), and the corresponding error."
   ]
  },
  {
   "cell_type": "code",
   "execution_count": 292,
   "id": "ff229189",
   "metadata": {},
   "outputs": [
    {
     "name": "stdout",
     "output_type": "stream",
     "text": [
      "vi:  -0.2153806163861296 Δvi:  0.040227518555219464\n",
      "vf:  0.20938588343450348 Δvf:  0.024980993240406903\n"
     ]
    }
   ],
   "source": [
    "estimated_variance = np.var(initialFit,ddof=1)\n",
    "vi = np.polyval(poly, 3.76)\n",
    "Δvi = np.sqrt(estimated_variance)\n",
    "print(\"vi: \", vi, \"Δvi: \",  Δvi)\n",
    "\n",
    "estimated_variance_f = np.var(finalFit,ddof=1)\n",
    "vf = np.polyval(poly2, 3.76)\n",
    "Δvf = np.sqrt(estimated_variance_f)\n",
    "print(\"vf: \", vf, \"Δvf: \", Δvf)\n"
   ]
  },
  {
   "cell_type": "markdown",
   "id": "2d26cc7a",
   "metadata": {},
   "source": [
    "So the total change in velocity during the collision is: "
   ]
  },
  {
   "cell_type": "code",
   "execution_count": 295,
   "id": "71a70061",
   "metadata": {},
   "outputs": [
    {
     "name": "stdout",
     "output_type": "stream",
     "text": [
      "0.4247664998206331\n"
     ]
    }
   ],
   "source": [
    "vChange = vf - vi\n",
    "print(vChange)"
   ]
  },
  {
   "cell_type": "markdown",
   "id": "1e272100",
   "metadata": {},
   "source": [
    "With an uncertainty of: "
   ]
  },
  {
   "cell_type": "code",
   "execution_count": 297,
   "id": "6d8f5043",
   "metadata": {},
   "outputs": [
    {
     "name": "stdout",
     "output_type": "stream",
     "text": [
      "0.04735296476872152\n"
     ]
    }
   ],
   "source": [
    "ΔvChange = (Δvf**2 + Δvi**2)**(1/2)\n",
    "print(ΔvChange)"
   ]
  },
  {
   "cell_type": "markdown",
   "id": "df923246",
   "metadata": {},
   "source": [
    "<h3>Sample Impulse Analysis</h3>\n",
    "Using LoggerPro, we can find the acceleration of each cart as a function of time, which (after some work) will look something like this:"
   ]
  },
  {
   "cell_type": "code",
   "execution_count": 303,
   "id": "f510281e",
   "metadata": {},
   "outputs": [
    {
     "data": {
      "image/png": "[encoded data removed]",
      "text/plain": [
       "<Figure size 640x480 with 1 Axes>"
      ]
     },
     "metadata": {},
     "output_type": "display_data"
    }
   ],
   "source": [
    "rawAccelData = [[2.28,0.12],[2.32,0.12],[2.36,0.14],[2.4,0.07],[2.44,0.07],[2.48,0.12],[2.52,0.12],[2.56,0.12],[2.6,0.12],[2.64,0.09],[2.68,0.06],[2.72,0.09],[2.76,0.11],[2.8,0.12],[2.84,0.15],[2.88,0.12],[2.92,0.07],[2.96,0.06],[3.,0.09],[3.04,0.13],[3.08,0.13],[3.12,0.13],[3.16,0.13],[3.2,0.11],[3.24,0.09],[3.28,0.09],[3.32,0.1],[3.36,0.11],[3.4,0.15],[3.44,0.15],[3.48,0.11],[3.52,0.1],[3.56,0.1],[3.6,0.1],[3.64,0.08],[3.68,0.43],[3.72,3.16],[3.76,5.3],[3.8,2.66],[3.84,0.08],[3.88,-0.07],[3.92,-0.07],[3.96,-0.06],[4.,-0.04],[4.04,-0.03],[4.08,-0.03],[4.12,-0.03],[4.16,-0.02],[4.2,-0.04],[4.24,-0.07],[4.28,-0.09],[4.32,-0.08],[4.36,-0.07],[4.4,-0.09],[4.44,-0.07],[4.48,-0.03],[4.52,-0.03],[4.56,-0.03],[4.6,-0.03],[4.64,-0.06],[4.68,-0.06],[4.72,-0.06],[4.76,-0.1],[4.8,-0.1],[4.84,-0.09],[4.88,-0.09],[4.92,-0.07],[4.96,-0.05],[5.,-0.03],[5.04,-0.03],[5.08,-0.02],[5.12,-0.01],[5.16,-0.03],[5.2,-0.05],[5.24,-0.07],[5.28,-0.07],[5.32,-0.07],[5.36,-0.08],[5.4,-0.09],[5.44,-0.1],[5.48,-0.09]]\n",
    "\n",
    "accelData = [i[1] for i in rawAccelData]\n",
    "\n",
    "plt.plot(timeData, accelData)\n",
    "plt.show()"
   ]
  },
  {
   "cell_type": "markdown",
   "id": "8e8f9abe",
   "metadata": {},
   "source": [
    "Integration of this acceleration will yield the total change in velocity. An easy way to do this is to take a Riemann sum of the acceleration from a time just before the collision to a time just after the collision.<br>\n",
    "the Riemman sum of a function $f(t)$ is $\\sum_{n=1}^{N} f(t) \\Delta t$ <br>\n",
    "(If you have questions on how to perform this Riemman sum, please ask the lab instructor.) <br>\n",
    "We do not want to integrate the entire data set, only the data around the time of the collision, we will separate out only the data around the collision."
   ]
  },
  {
   "cell_type": "code",
   "execution_count": 316,
   "id": "9cb4a900",
   "metadata": {},
   "outputs": [
    {
     "data": {
      "image/png": "[encoded data removed]",
      "text/plain": [
       "<Figure size 640x480 with 1 Axes>"
      ]
     },
     "metadata": {},
     "output_type": "display_data"
    }
   ],
   "source": [
    "accelColl = accelData[collTime-5:collTime+5]\n",
    "accelTimeColl = timeData[collTime-5:collTime+5]\n",
    "\n",
    "plt.plot(accelTimeColl, accelColl)\n",
    "plt.show()"
   ]
  },
  {
   "cell_type": "markdown",
   "id": "1aa1070d",
   "metadata": {},
   "source": [
    "Now taking the Riemann sum ($\\Delta t \\rightarrow 0.04$ for the above data set), we find the change in velocity using the impulse formalism."
   ]
  },
  {
   "cell_type": "code",
   "execution_count": 320,
   "id": "a0dff193",
   "metadata": {},
   "outputs": [
    {
     "name": "stdout",
     "output_type": "stream",
     "text": [
      "0.47079999999999994\n"
     ]
    }
   ],
   "source": [
    "Δt = 0.04\n",
    "print(sum([i * Δt for i in accelColl]))"
   ]
  },
  {
   "cell_type": "markdown",
   "id": "4d11f372",
   "metadata": {},
   "source": [
    "What is a reasonable uncertainty for this quantity? To do the revelant comparisons, you'll have to make some estimate, so think deeply about this (and/or ask me about it and I'll try to help).\n",
    "<br>\n",
    "\n",
    "Compare these results to the change in velocity from above:"
   ]
  },
  {
   "cell_type": "code",
   "execution_count": 322,
   "id": "9654d985",
   "metadata": {},
   "outputs": [
    {
     "name": "stdout",
     "output_type": "stream",
     "text": [
      "0.4247664998206331\n",
      "0.04735296476872152\n"
     ]
    }
   ],
   "source": [
    "print(vChange)\n",
    "print(ΔvChange)"
   ]
  },
  {
   "cell_type": "markdown",
   "id": "b8b1ffe7",
   "metadata": {},
   "source": [
    "Theoretically, they should be equal (within uncertainties). Are they? Why or why not?"
   ]
  },
  {
   "cell_type": "markdown",
   "id": "a087c6dc",
   "metadata": {},
   "source": [
    "<h2>Upshot</h2>\n",
    "This is a rough outline of the experiment. <i>This is not necessarily a complete list of what needs to be done.</i>\n",
    "<br>\n",
    "1) Set up the equipment and take data for:\n",
    "<br>\n",
    "1. One cart stationary at the end of the track (stays stationary), the other collides <u>elastically</u>;\n",
    "<br>\n",
    "2a. Carts different sizes, one moves and collides <u>elastically</u> with other, stationary;\n",
    "<br>\n",
    "2b. Carts close to same size, both moving and collide <u>elastically</u>;\n",
    "<br>\n",
    "3a. Carts different sizes, one moves and collides <u>completely inelastically</u> with other, stationary;\n",
    "<br>\n",
    "3b. Carts close to same size, both moving and collide <u>completely inelastically</u>;\n",
    "<br>\n",
    "You must do Case 1, and can choose to do <i>either</i> 2a or 2b, and <i>either</i> 3a or 3b; you will have data for three experiments.\n",
    "\n",
    "<br>\n",
    "2) For each experiment, export Position and Velocity data from Data Studio, and export Force data from Logger ppro.\n",
    "<br>\n",
    "3) Perform fits on the velocity data; find the change in velocity during the collision directly from the fits. Then find the acceleration from the Force data, and integrate it across the collision to find the change in velocity.\n",
    "<br>\n",
    "4) Compare the results of Parts 3 and 4 for each data set, with uncertainties. Make sure to think about and address the questions I have asked at the end of each section above!\n",
    "<br>\n",
    "5)\n",
    "Of course, address the question of momentum and energy conservation. In which collision (if any) was momentum or energy consereved? Why or why not?"
   ]
  },
  {
   "cell_type": "markdown",
   "id": "e49ddd72",
   "metadata": {},
   "source": [
    "<h2>Assignment</h2>\n",
    "The assignment for Week 9 is a <u>full Lab Report</u> which addresses all relevant questions from this writeup, and reflects on each. This report should be written in accordance with the general rules and guidelines of the Syllabus for this course; please ask if there are any questions about what specifically is required."
   ]
  }
 ],
 "metadata": {
  "kernelspec": {
   "display_name": "Python 3 (ipykernel)",
   "language": "python",
   "name": "python3"
  },
  "language_info": {
   "codemirror_mode": {
    "name": "ipython",
    "version": 3
   },
   "file_extension": ".py",
   "mimetype": "text/x-python",
   "name": "python",
   "nbconvert_exporter": "python",
   "pygments_lexer": "ipython3",
   "version": "3.11.3"
  }
 },
 "nbformat": 4,
 "nbformat_minor": 5
}
