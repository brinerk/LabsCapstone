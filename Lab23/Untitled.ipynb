{
 "cells": [
  {
   "cell_type": "markdown",
   "id": "d46b1713",
   "metadata": {},
   "source": [
    "<center><h1>Lab 23:<br>Measuring the Speed of Sound in Different Media</h1></center>\n",
    "<h2>Introduction</h2>\n",
    "In this lab we will measure the speed of sound in iar, helium and water. We will also check the dependence of the speed of sound (in air) upon pressure. We will measure the speed of sound by a direct time of flight method.  For an ideal gas the speed of sound is $_\\text{gas} = \\sqrt{\\frac{\\gamma RT}{M}} \\quad (1)$ where $\\gamma = C_p / C_v$, $R$ is the universal gas constant, $T$ is the temperature in kelvin and $M$ is the molecular mass of the gas.\n",
    "<h2>Fixed Tube</h2>\n",
    "To measure the speed of sound we will put a short burst of sound in a tube and measure the time of flight. We will do this by using a dual trace oscilloscope. The set -up is shown below.\n",
    "\n",
    "![Fixed Tube](fixed_tube.png)\n",
    "\n",
    "The output of the function generator is connected to the input of the tone burst generator. This will generate of sound wave of the same frequency and type (i.e. sine, square,...) as the output of the function generator.   The output from the tone burst generator is split, part of the signal is sent to the scope (put this on channel one), the other part of the signal is sent to source transducer. The wave now propagates down the tube where it is picked up by the receiver. The output from the receiver is sent to the scope (on channel two). The time difference between the signals in channel one and channel two can be read of the scope.\n",
    "\n",
    "We will do two experiments with the fixed tube shown in the figure.\n",
    "\n",
    "<h2>Speed of sound in air</h2>\n",
    "\n",
    "The transducers have a resonance at about 40 kHz. Set the function generator so that it outputs a 40kHz sine wave with a peak to peak amplitude of 5 volts.  Use the cursors to measure the time difference between the two signals, call this number $\\Delta t$. Now measure the length of the tube, call this number d. Then $c = \\frac{d}{\\Delta t}$. Next, use the hand pump to pump the tube down. Read the pressure off of the gauge on the hand pump.  Measure c for that particular pressure.  You should make at least five measurements at different pressures. How does c depend on p? Does your result agree with equation one?  Air is mostly $N_2$. Thus air has a $\\gamma$ o f approximately 1.40.\n",
    "\n",
    "<h2>Speed of sound in water</h2>\n",
    "\n",
    "Now fill the tube with water and measure the speed of sound in water. You will need to change the input frequency to approximately 400 kHz. Change the input frequency and re-measure the speed of sound in water. You should take at least five measurements.  Does the speed depend on the frequency?\n",
    "\n",
    "<h2>Moveable Tube</h2>\n",
    "Connect the tube with the movable microphone in exactly the same way the you connected the fixed tube. Put a 40Hz square in, with a peak amplitude of 1.0V. Measure the time difference between the two wave for a least 10 distances. Plot your data (v vs. time delay) and use Fit to fit it to a straight line in order to find the speed of sound.  Does your result agree with your previous measurement?"
   ]
  },
  {
   "cell_type": "markdown",
   "id": "fb648d49",
   "metadata": {},
   "source": []
  }
 ],
 "metadata": {
  "kernelspec": {
   "display_name": "Python 3 (ipykernel)",
   "language": "python",
   "name": "python3"
  },
  "language_info": {
   "codemirror_mode": {
    "name": "ipython",
    "version": 3
   },
   "file_extension": ".py",
   "mimetype": "text/x-python",
   "name": "python",
   "nbconvert_exporter": "python",
   "pygments_lexer": "ipython3",
   "version": "3.11.5"
  }
 },
 "nbformat": 4,
 "nbformat_minor": 5
}
