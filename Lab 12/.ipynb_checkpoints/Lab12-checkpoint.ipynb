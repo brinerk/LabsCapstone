{
 "cells": [
  {
   "cell_type": "markdown",
   "id": "73264fae",
   "metadata": {},
   "source": [
    "<h1><center>Lab 12:<br>Momentum and Angular Momentum in Two Dimension</center></h1>\n",
    "In this lab you will film pucks on an air table and use the video to study the conservation of momentum and angular momentum in two dimensions.\n",
    "<h2>Theory</h2>\n",
    "<h3>Basics</h3>\n",
    "Earlier we studied one dimension collisions on an air track. Now, we want\n",
    "to study two dimensional collisions on an air table, which are much more \n",
    "complicated than one dimensional ones. To begin, with we will assume that our \n",
    "pucks are point particles. Of course, they are actually disks and in the next \n",
    "section we will take their shape and size into account. A general two \n",
    "body, two dimensional collision is shown in the figure below. We will choose \n",
    "our coordinates so that the mass $m_1$ has an initial velocity onily in the $x$ direction, again, without loss of generality.\n",
    "<br>\n",
    "The parameter $b$ in the diagram is called the \"impact parameter\". The solid circles represent particles before the collision, while the dashed circles represent the particles after the collision. The classical collision shown below is an example of a more general physical interaction called <b>scattering</b>."
   ]
  },
  {
   "cell_type": "code",
   "execution_count": null,
   "id": "b26f04df",
   "metadata": {},
   "outputs": [],
   "source": [
    "#image"
   ]
  },
  {
   "cell_type": "markdown",
   "id": "2ef956ee",
   "metadata": {},
   "source": [
    "<h3>Point Particles</h3>\n",
    "In a scattering experiment you usually know the intital velocities of the particles and you want to calculate, or measure the final velocities of the particles. In a one dimensional collision we can calculate the final velocities of the particles if the collision is elastic. If the collision is inelastic we need to measure the final velocity of at least one of the particles, or we must know something about the dynamics of the collision. As we will see the two dimensional case is more complicated.\n",
    "<br>\n",
    "What can we say about the collision from the kinematics alone? Well, it's fair to say that we don't know anything about the forces acting on the particles during the collision. In general, all we know is that momentum, angular momentum and the total energy of the system is conserved. Knowing that the total energy is conserved is not very useful since there is no guarantee that the mechanical energy is conserved. In fact mechanical energy will be conserved only in an elastic collision.\n",
    "<br>\n",
    "<br>\n",
    "From momentum conservaition we know that:<br>\n",
    "$p_{1ix} = p_{1f} \\cos(\\phi) + p_{2f}\\cos(\\theta)$ and $0 = p_{1f} \\sin(\\phi) + p_{2f} \\sin(\\theta) \\quad (1)$"
   ]
  },
  {
   "cell_type": "code",
   "execution_count": null,
   "id": "780f6547",
   "metadata": {},
   "outputs": [],
   "source": [
    "import sympy as sym\n",
    "m1, v1i, m2, v2f, v1f, theta, phi = sym.symbols('m1 v1i m2 v2f v1f theta phi')\n",
    "pxEquation = sym.Eq(m1*v1i, m2*v2f* sym.cos(theta) + m1 * v1f * sym.cos(phi))\n",
    "pyEquation = sym.Eq(0, m2*v2f* sym.sin(theta) + m1 * v1f * sym.sin(phi))"
   ]
  },
  {
   "cell_type": "markdown",
   "id": "ed1a6a92",
   "metadata": {},
   "source": [
    "Notice that we have four unknowns (two angles and two speeds) and only two equations. Of course, we haven not yet conserved angular momentum; maybe that will be useful. Recall that for a point particle $L = r \\times p$ where $r$ is the distance that the particle is from the origin. <br>\n",
    "So (see the figure above), the initial angular momentum is $L_i = -b m_1 v_{1i} \\hat{z}$. Since the velocities and motion of the particles are in the x-y plane their angular momentum is in the z direction. The final angular momentum of the first particle is:<br>\n",
    "$m_1 v_{1f}(r_1 \\sin(\\phi) - r_1 \\cos(\\phi))\\hat z$ and the final angular momentum of the second is $m_2 v_{2f} (r_2 sin(\\theta) - r_2 \\cos(\\theta))\\hat z$ where $r_1 = \\sqrt{x_1^2 + y_1^2}$ and $r_2 = \\sqrt{x_2^2 + y_2^2}$. Thus:<br><br>\n",
    "$b m_1 v_{1f}(r_1 \\cos(\\phi) - r_1 \\sin(\\phi)) + m_2 v_{2f} (r_2 \\cos(\\theta) - r_2 \\sin(\\theta)) \\quad (2)$. <br><br>\n",
    "This does not help us much, since in order to calculate the position of a particle we have to know how much time has elapsed since the collision.<br>\n",
    "Thus, in general we will have to measure two quantities in the final state of a two-body collision. These can be any combination of angles and or velocities.<br>\n",
    "<b>If</b> the collsion is elastic, and in general it is not, then kinetic enery is conserved:\n",
    "$\\frac{1}{2} m_1 v_{1i}^2 = \\frac{1}{2} m_1 v_{1f}^2 + \\frac{1}{2} m_2 v_{2f}^2$<br>\n",
    "This would give us a third equation to use, and we would only need to measure one final state quantity in order to determine all the rest."
   ]
  },
  {
   "cell_type": "code",
   "execution_count": null,
   "id": "d3278737",
   "metadata": {},
   "outputs": [],
   "source": [
    "KEEquation = sym.Eq(m1*v1i**2, m1*v1f**2 + m2*v2f**2)\n",
    "#angleEquation = "
   ]
  },
  {
   "cell_type": "code",
   "execution_count": null,
   "id": "59bb456d",
   "metadata": {},
   "outputs": [],
   "source": [
    "#solve angle equation"
   ]
  },
  {
   "cell_type": "markdown",
   "id": "e6401f42",
   "metadata": {},
   "source": [
    "In the above equation, we have eliminated $v_{1f}, v_{2f}$ and $\\theta$, and we would only need to measure $\\phi$ to completely determine the system. (We could have chosen a different variable to measure if we wanted to.)"
   ]
  },
  {
   "cell_type": "markdown",
   "id": "59b68013",
   "metadata": {},
   "source": [
    "<h3>Disks</h3>\n",
    "We now relax the assumption that our pucks are point particles and treat them as disks (which, of course, is what they are). This means that they can rotate, which affects both their angular momentum and their kinetic energy. The linear momentum is unchanged.<br>\n",
    "<br>\n",
    "To start, we will assume that the stationary disk is not rotating. The intial kinetic energy of the system is now $K_i = \\frac{1}{2} m_1 v_{1f}^2 + \\frac{1}{2}I_1 \\omega_{1i}^2$ where $I_1$ is the moment of inertia for the first puck and $\\omega_{1i}$ is the initial angular velocity of the first puck.\n",
    "<br><br>\n",
    "<b>Note that in our case, the linear and the angular speed are not related $(v \\ne \\omega r)$!</b>\n",
    "<br><br>\n",
    "The final kinetic energy of the system is: <br>\n",
    "$K_f = \\frac{1}{2} m_1 v_{1f}^2+ \\frac{1}{2} I_1 \\omega_{1f}^2 + \\frac{1}{2} m_2 v_{2f}^2 + \\frac{1}{2} I_2 \\omega_{2f}^2$ where the subscripts are self-explanatory.<br>\n",
    "Thus, if the collision is elastic, we have (instead of Eqn (3))<br>\n",
    "<br>\n",
    "$\\frac{1}{2} m_1 v_{1i}^2 + \\frac{1}{2}I_1 \\omega_{1i}^2 = \\frac{1}{2} m_1 v_{1f}^2 + \\frac{1}{2} I_1 \\omega_{1f}^2 + \\frac{1}{2} m_2 v_{2f}^2 + \\frac{1}{2} I_2 \\omega_{2f}^2$.<br>\n",
    "For disks we know that $I = \\frac{1}{2} m R^2$ where $m$ is the mass of the disk and $R$ is the radius of the disk.<br><br>\n",
    "The angular momentum of the sytem now has contributions from two sources:<br>\n",
    "The $r \\times p$ terms, which are akin to \"orbital\" angular momentum about the origin, and<br>\n",
    "The $I \\omega$ terms, which come from the rotation of each puck about their own axis.\n",
    "<u>It is the sum of these two contributions (orbital + rotational) that is conserved; they are not conserved individually!</u>\n",
    "<br><br>\n",
    "The inital angular momentum of the system is:\n",
    "<br>\n",
    "$L_i = b m_1 v_{1i} + I_1 \\omega_{1i}$<br>\n",
    "while the final angular momentum is<br>\n",
    "$L_f = m_1 v_{1f}(r_1 \\cos(\\theta) - r_1 \\sin(\\theta)) + m_2 v_{2f}(r_2 \\cos(\\phi) - r_2 \\sin(\\phi)) + I_1 \\omega_{1f} + I_2 \\omega{2}$.<br>\n",
    "Thus, conservation of energy of angular momentum gives:\n",
    "<br>\n",
    "$bm_1v_{1i} + I_1 \\omega_{1i} = m_1 v_{1f}(r_1 \\cos(\\theta) - r_1 \\sin(theta)) + m_2 v_{2f}(r_2 \\cos(\\phi) - r_2 \\sin(\\phi)) + I_1 \\omega_{1f} + I_2 \\omega_2$\n",
    "<br><br>\n",
    "\n",
    "The goal of this experiment is to verify Eqn. (1) and Eqn. (2) for the case in which the disks are not spinning and Eqn. (1) and Eqn. (5) if the disks are spinning. We also want to check to see if the collisions are elastic. We can do this by computing: <br>\n",
    "$\\epislon = \\frac{- \\Delta K}{K_i} = - \\frac{K_f - K_i}{K_i}$.<br>\n",
    "Noe that if the collision is elastic $\\epsilon = 0$ while if the collison is completely inelastic (the particles stick together) we have $\\epsilon = \\frac{m_2}{m_1 + m_2}$."
   ]
  },
  {
   "cell_type": "markdown",
   "id": "391fd15d",
   "metadata": {},
   "source": [
    "<h2>Taking Data</h2>\n",
    "<h3>Experimental Setup</h3>\n",
    "The setup will consist of an air table over which we will position a camera. You want to do three experiments, the first should be a collisions between a stationary puck and a moving puck, with niether puck spinning. You should then repeat the experiment but this time spin the puck you are going to slide into the stationary puck. For your last experiemnt use two pucks with velcro and spin the moving puck. To capture the video we will use a high speed digital camera and it's related software. Once you have your video captured, copy the movie to a USB disc. Make sure that you give your file a unqiue name. You can now analyze your data from any computer (Mac or PC) in room 300.\n",
    "<center><h1>READ THIS</h1></center>\n",
    "There are three critial points to remember when taking your data:<br>\n",
    "1) You will need to be able to convert from pixels to meters. To enable your to do this you should place a meter stick at the edge of the air table when filming. This will allow you to calculate a scale factor for converting distances in pixels to meters.\n",
    "<br><br>\n",
    "2) Make sure you capture your video at about 59.37 frams per second. This option is set via the camera's software interface. The choice of this frequency eliminates flick from the lights and allows a sufficient number of frames to be analyzed before and after the collisions.\n",
    "<br><br>\n",
    "3) Make sure that you start filming before you launch the puck and keep filming until the pucks hit the edges of the air table. Since you can select the start and end frames when analyzing in ImageJ, you can afford to film a few extra seconds (not minutes) of video."
   ]
  },
  {
   "cell_type": "markdown",
   "id": "90d54ae8",
   "metadata": {},
   "source": [
    "### Obtaining the Data from the Video\n",
    "To obtain the data from your video you have to track the positions of the pucks from the video. Once the video is captured you will need to use ImageJ. There will be a demonstration of this at the beginning of class. After the data has been collected we can import the data sets in the usual way.\n",
    "<br>\n",
    "<b>The following code is not expected to work; it (and the statements below which depend on it) is (are) only included so that you see what the code looks like. Your statements can be based on these, but will change somewhat."
   ]
  },
  {
   "cell_type": "code",
   "execution_count": null,
   "id": "5029a018",
   "metadata": {},
   "outputs": [],
   "source": [
    "import csv\n",
    "import matplotlib.pyplot as plt\n",
    "\n",
    "def Import_Data(filename):\n",
    "    \n",
    "    data = []\n",
    "    \n",
    "    with open(filename, 'r') as file:\n",
    "        reader = csv.reader(file)\n",
    "        for row in reader:\n",
    "            data.append(row)\n",
    "    \n",
    "    return data\n",
    "\n",
    "YellowPixels = Import_Data('YellowPixelData.txt')\n",
    "MagentaPixels = Import_Data('MagentaPixelData.txt')\n",
    "GreenPixels = Import_Data('GreenPixelData.txt')\n",
    "CyanPixels = Import_Data('YellowPixelData.txt')"
   ]
  },
  {
   "cell_type": "markdown",
   "id": "90181c5f",
   "metadata": {},
   "source": [
    "We will also need the time information. We capture our data at or near 59.37 fps. Your lab instructor will give you the framerate of the camera. You can use this framerate to generate a list of accurate time data."
   ]
  },
  {
   "cell_type": "code",
   "execution_count": null,
   "id": "e1921b9e",
   "metadata": {},
   "outputs": [],
   "source": [
    "framerate = 59.37\n",
    "#may be incorrect, not quite sure what the data will look like, or what the mathematica code is doing\n",
    "TimeData = [i[0]/framerate - 1/framerate for i in range(0,len(YellowPixels), 1/framerate)]"
   ]
  },
  {
   "cell_type": "markdown",
   "id": "43b3cb8b",
   "metadata": {},
   "source": [
    "Now that we have the puck positions we can start reconstructing the collision. We need to scale the data which is currently in units of pixels. From looking at the meter stick that was placed on the air table you can make a measurement of the length in pixels of the meter stick. To do ths you should use the \"straight\" tool in Imagej. Be sure to write down your estimation of the error involved in this measurement (please ask if you are unsure what 'estimation' is)."
   ]
  },
  {
   "cell_type": "code",
   "execution_count": null,
   "id": "8d85ad16",
   "metadata": {},
   "outputs": [],
   "source": [
    "scale = 749 - 176"
   ]
  },
  {
   "cell_type": "markdown",
   "id": "7de5b43c",
   "metadata": {},
   "source": [
    "If you divide the puck positions by the scale factor you will get the positions in meters not pixels."
   ]
  },
  {
   "cell_type": "code",
   "execution_count": null,
   "id": "1be9292e",
   "metadata": {},
   "outputs": [],
   "source": [
    "def Apply_Scale(Data, Scale):\n",
    "    return [i/Scale for i in Data]\n",
    "\n",
    "YellowData = Apply_Scale(YellowPixels)\n",
    "GreenData = Apply_Scale(GreenPixels)\n",
    "MagentaData = Apply_Scale(MagentaPixels)\n",
    "CyanData = Apply_Scale(CyanPixels)\n",
    "\n",
    "plt.plot(TimeData, YellowData)\n",
    "plt.plot(TimeData, Magenta)\n",
    "plt.show()"
   ]
  },
  {
   "cell_type": "markdown",
   "id": "f9e40008",
   "metadata": {},
   "source": [
    "## Data Analysis\n",
    "### Plots\n",
    "We can now check to see if linear momentum is conserved. To do this we need to look at the motion in the x and y directions as a funcstion of time. The plot above shows $y(x)$, we want $y(t)$ and $x(t)$. We can extract $x$ and $y$ positions using replacement rules <b>these don't exist, change this</b>. We can then combine the $x$ and $y$ data with our time data."
   ]
  },
  {
   "cell_type": "code",
   "execution_count": null,
   "id": "9e7319cc",
   "metadata": {},
   "outputs": [],
   "source": [
    "xYellowPosition = YellowData[0]\n",
    "yYellowPosition = YellowData[1]\n",
    "xMagentaPosition = MagentaData[0]\n",
    "yMagentaPosition = MagentaData[1]"
   ]
  },
  {
   "cell_type": "markdown",
   "id": "8caa4de4",
   "metadata": {},
   "source": [
    "We should plot the data to make sure that it makes sense."
   ]
  },
  {
   "cell_type": "code",
   "execution_count": null,
   "id": "741df842",
   "metadata": {},
   "outputs": [],
   "source": [
    "plt.plot(TimeData, xYellowPositon)\n",
    "plt.plot(TimeData, yYellowPositon)\n",
    "plt.plot(TimeData, xMagentaPositon)\n",
    "plt.plot(TimeData, yMagentaPositon)"
   ]
  },
  {
   "cell_type": "markdown",
   "id": "2cd11f88",
   "metadata": {},
   "source": [
    "The pucks move in a straight line except at the instant of collision. Thus, except at the instant of collision each puck's position is given $x(t) = x_0 + v_{0x} t, y(t) + v_{0y} t$. We can describe the motion of the puck over the entire collision by $x(t) = x_{0i} + v_{0xi} t$ if $t < t_{collision}$ and $x(t) = x_{0f} + v_{0xf} t$ if $t > t_{collision}$. With a similar expression for $y(t)$. We can use <b>np.polyfit</b> to find all these parameters including $t_{collision}$.\n",
    "<br>\n",
    "The model that we will use is just the one given about with $x_{0f}$ and $y_{0f}$ chosen so that the puck's path is continuous although not smooth."
   ]
  },
  {
   "cell_type": "markdown",
   "id": "7707d17f",
   "metadata": {},
   "source": [
    "# THIS SHOULD BE RE-WRITTEN"
   ]
  },
  {
   "cell_type": "code",
   "execution_count": null,
   "id": "338cebda",
   "metadata": {},
   "outputs": [],
   "source": [
    "import numpy as np\n",
    "xYellowFit = np.polyfit(TimeData,xYellowPosition, deg=4)"
   ]
  },
  {
   "cell_type": "markdown",
   "id": "07a2a302",
   "metadata": {},
   "source": [
    "We can extract the actual function and the parameters with:"
   ]
  },
  {
   "cell_type": "code",
   "execution_count": null,
   "id": "16c56eb3",
   "metadata": {},
   "outputs": [],
   "source": [
    "print(xYellowFit)"
   ]
  },
  {
   "cell_type": "markdown",
   "id": "69b871da",
   "metadata": {},
   "source": [
    "This tells us that the collision occurred at $t=0.374$ seconds, $v_{0xi} = -0.111$m/s and $v_{0xf} = -0.286$ m/s.\n",
    "Checking the fit shows that it is very good."
   ]
  },
  {
   "cell_type": "markdown",
   "id": "e69c2503",
   "metadata": {},
   "source": [
    "# PLOT FIT DATA"
   ]
  },
  {
   "cell_type": "markdown",
   "id": "b363465b",
   "metadata": {},
   "source": [
    "We can now do the same for the $y$ position and for the yellow puck and the $x$ and $y$ positions of the magenta puck.<br>"
   ]
  },
  {
   "cell_type": "markdown",
   "id": "b736f5d8",
   "metadata": {},
   "source": [
    "# ADD FITS FOR OTHER PUCKS"
   ]
  },
  {
   "cell_type": "markdown",
   "id": "d4296c9d",
   "metadata": {},
   "source": [
    "### Linear Momentum\n",
    "When I weighed the pucks (your pucks may be different; make sure you weight them!) I found that the yellow puck weighed 0.0457 Kg and the magenta puck 0.0460 Kg. Labelling the <b>yellow puck 1</b> and <b>magenta puck 2<b> we have:"
   ]
  },
  {
   "cell_type": "code",
   "execution_count": null,
   "id": "cf29851d",
   "metadata": {},
   "outputs": [],
   "source": [
    "m1 = 0.0475\n",
    "v1ix = -0.111\n",
    "v1fx = -0.285\n",
    "v1iy = -0.412\n",
    "v1fy = -0.275\n",
    "\n",
    "m2 = 0.0460\n",
    "v2ix = -0.296\n",
    "v2fx = -0.0397\n",
    "v2iy = -0.187\n",
    "v2fy = -0.363"
   ]
  },
  {
   "cell_type": "markdown",
   "id": "06190f66",
   "metadata": {},
   "source": [
    "We can now check momentum conservation (remember that we must conserve in the $x$ and $y$ directions separately). The units are the stand SI unites of Kg m/s."
   ]
  },
  {
   "cell_type": "code",
   "execution_count": null,
   "id": "98736543",
   "metadata": {},
   "outputs": [],
   "source": [
    "pix = m1 * v1ix + m2 * v2ix\n",
    "pfx = m1 * v1fx + m2 * v2fx\n",
    "piy = m1 * v1iy + m2 * v2iy\n",
    "pfy = m1 * v1fy + m2 * v2fy"
   ]
  },
  {
   "cell_type": "markdown",
   "id": "b9ac136b",
   "metadata": {},
   "source": [
    "To check to see how close the initial and final momentum are we compute $|\\frac{(p_{ix} - p_{fx})}{p_{ix}}|$ and $|\\frac{(p_{iy} - p_{fy})}{p_{iy}}|$. This shows that we conserve momentum only at the %18 level in the $x$ direction but that we conserve momentum only at the 5% level in the $y$ direction. The reason we do so badly in the $x$ direction is that fit for the magenta disk in the $x$ direction is not very good. "
   ]
  },
  {
   "cell_type": "code",
   "execution_count": null,
   "id": "e72f610b",
   "metadata": {},
   "outputs": [],
   "source": [
    "np.abs((pix - pfx)/pix)\n",
    "np.abs((piy - pfy)/piy)"
   ]
  },
  {
   "cell_type": "markdown",
   "id": "e64c6e33",
   "metadata": {},
   "source": [
    "Another way of expressing the result would be to look at ($\\textbf{p}_i \\cdot \\textbf{p}_i - \\textbf{p}_f \\cdot \\textbf{p}_f) / \\textbf{p}_i \\cdot \\textbf{p}_i$ where we consider $\\textbf{p}_i$ and $\\textbf{p}_f$ as vectors."
   ]
  },
  {
   "cell_type": "code",
   "execution_count": null,
   "id": "9a2e5d85",
   "metadata": {},
   "outputs": [],
   "source": [
    "pi = [pix, piy]\n",
    "pf = [pfx, pfy]"
   ]
  },
  {
   "cell_type": "markdown",
   "id": "b8dd2cd2",
   "metadata": {},
   "source": [
    "The method weights the small components less and sho that we conserve momentum to better than 2.5%"
   ]
  },
  {
   "cell_type": "code",
   "execution_count": null,
   "id": "42b7b57e",
   "metadata": {},
   "outputs": [],
   "source": [
    "np.abs(np.dot(pi,pi)-np.dot(pf,pf)/np.dot(pi,pi)) "
   ]
  },
  {
   "cell_type": "markdown",
   "id": "23bee68b",
   "metadata": {},
   "source": [
    "### Angular Momentum\n",
    "We now turn to the rotation motion of the system. We have already extracted the position of the dots above."
   ]
  },
  {
   "cell_type": "code",
   "execution_count": null,
   "id": "6d28fc03",
   "metadata": {},
   "outputs": [],
   "source": [
    "plt.plot(TimeData,GreenData)\n",
    "plt.plot(TimeData,CyanData)"
   ]
  },
  {
   "cell_type": "markdown",
   "id": "8aedcefa",
   "metadata": {},
   "source": [
    "To recove the rotation rate we need to subtract off the pucks center of mass position so that we get the motion relative to the pucks center of mass."
   ]
  },
  {
   "cell_type": "code",
   "execution_count": null,
   "id": "77485bee",
   "metadata": {},
   "outputs": [],
   "source": [
    "YellowRotation = [k - YellowData[i] for i,k in enumerate(GreenData)]\n",
    "plt.plot(TimeData,YellowRotation)\n",
    "\n",
    "MagentaRotation = [k - MagentaData[i] for i,k in enumerate(CyanData)]\n",
    "plt.plot(TimeData,MagentaRotation)"
   ]
  },
  {
   "cell_type": "markdown",
   "id": "58fce0d5",
   "metadata": {},
   "source": [
    "The next step is to convert to polar coordinates so that we can plot $cos(\\theta)$ as a function of $t$ where $\\theta$ is the angle through which the puck has rotated. Recall that $x = r \\cos(\\theta)$ so that $\\cos(\\theta) = x/r = x / \\sqrt{(x^2 + y^2)}$"
   ]
  },
  {
   "cell_type": "code",
   "execution_count": null,
   "id": "8403f8dd",
   "metadata": {},
   "outputs": [],
   "source": [
    "MagentaRotationPolar = [MagentaRotation[0] / (MagentaRotation[0]**2 + MagentaRotation[1]**2)**(1/2)]"
   ]
  },
  {
   "cell_type": "markdown",
   "id": "2eccf148",
   "metadata": {},
   "source": [
    "Plotting this shows how the rotation of the Magenta puck changes as a result of the collision."
   ]
  },
  {
   "cell_type": "code",
   "execution_count": null,
   "id": "62edb53c",
   "metadata": {},
   "outputs": [],
   "source": [
    "plt.plot(TimeData,MagentaPuckRotationPolar)"
   ]
  },
  {
   "cell_type": "markdown",
   "id": "204ff545",
   "metadata": {},
   "source": [
    "It is easier to see what is going on if we mark the point at which the collision occurred."
   ]
  },
  {
   "cell_type": "code",
   "execution_count": null,
   "id": "65caa5e6",
   "metadata": {},
   "outputs": [],
   "source": [
    "plt.plot(0.33, 0, 'o')"
   ]
  },
  {
   "cell_type": "markdown",
   "id": "0ae7e6f8",
   "metadata": {},
   "source": [
    "The easiest way to obtain the angular frequency before and after the collision is to read them off from the graph. The time difference between the peak to peak height is the preiod $T = \\frac{2 \\pi}{\\omega}$. The peaks I used to find $\\omega_i$ (before the collision) and $\\omega_f$ (after the collision) are marked with blue and green dots respectively."
   ]
  },
  {
   "cell_type": "code",
   "execution_count": null,
   "id": "31b0ca86",
   "metadata": {},
   "outputs": [],
   "source": [
    "plt.plot(0.038,1.01,'o',color='Green')\n",
    "plt.plot(0.284,0.942,'o')\n",
    "plt.plot(0.652, 0.996, 'o', color='Blue')\n",
    "plt.plot(1.01,1.01,'o')\n",
    "plt.show()"
   ]
  },
  {
   "cell_type": "markdown",
   "id": "8cf51bf3",
   "metadata": {},
   "source": [
    "Using these points gives $T_1 = 0.25$ sec and $T_2 = 0.36$ sec, where $T_1$ is the period before the collision and $T_2$ is the period after the collision."
   ]
  },
  {
   "cell_type": "code",
   "execution_count": null,
   "id": "fa9cc007",
   "metadata": {},
   "outputs": [],
   "source": [
    "T1 = 0.25\n",
    "T2 = 0.36\n",
    "ω1 = (2 * np.pi)/T1\n",
    "ω2 = (2 * np.pi)/T2"
   ]
  },
  {
   "cell_type": "markdown",
   "id": "c026036b",
   "metadata": {},
   "source": [
    "Next, we turn our attention to the Yellow puck."
   ]
  },
  {
   "cell_type": "code",
   "execution_count": null,
   "id": "c54e8584",
   "metadata": {},
   "outputs": [],
   "source": [
    "YellowRotationPolar = [YellowRotation[0] / (YellowRotation[0]**2 + YellowRotation[1]**2)**(1/2)]\n",
    "plt.plot(TimeData,YellowRotationPolar)"
   ]
  },
  {
   "cell_type": "markdown",
   "id": "a5062ae8",
   "metadata": {},
   "source": [
    "The initial rotation rate of the Yellow puck is zero. It's hard to know for sure from my data but it looks like my puck goes through half a period in $0.78$ seconds so $T_{yellow} = 1.6$ sec."
   ]
  },
  {
   "cell_type": "code",
   "execution_count": null,
   "id": "1c9cebc5",
   "metadata": {},
   "outputs": [],
   "source": [
    "TYellow = 1.6\n",
    "ωYellow = (np.pi * 2)/TYellow"
   ]
  },
  {
   "cell_type": "markdown",
   "id": "58161bc4",
   "metadata": {},
   "source": [
    "We will also need the moments of inertia for the pucks. The pucks are disks so their moment of inertia is $I = \\frac{1}{2} m r^2$. The radius of the Magenta puck is $r_{magenta} = 0.0345$ meters. The radius of the Yellow puck is $r_{yellow} = 0.044$ meters. Thus:"
   ]
  },
  {
   "cell_type": "code",
   "execution_count": null,
   "id": "61facf17",
   "metadata": {},
   "outputs": [],
   "source": [
    "rYellow = 0.044\n",
    "rMagenta = 0.0345\n",
    "IYellow = (1/2) * m1 * rYellow**2\n",
    "IMagenta = (1/2) * m2 rMagenta**2"
   ]
  },
  {
   "cell_type": "markdown",
   "id": "2aefe9f5",
   "metadata": {},
   "source": [
    "Remember that the units for $I$ are kg m$^2$. We can now calculate the rotation kinetic energies of the pucks."
   ]
  },
  {
   "cell_type": "code",
   "execution_count": null,
   "id": "19c60cd2",
   "metadata": {},
   "outputs": [],
   "source": [
    "KMagentaInitial = (1/2) * IMagenta * ω1**2\n",
    "KMagentaFinal = (1/2) * IMagenta * ω2**2\n",
    "KYellowFinal = (1/2) * IYellow * ωYellow**2"
   ]
  },
  {
   "cell_type": "markdown",
   "id": "54dd8c3c",
   "metadata": {},
   "source": [
    "The position of the Magenta puck relative to the origin is given by PhysicalMagentaPuckCMPositon. Recall that $L = r \\times p + I_{Magenta} \\omega_{Magenta} \\hat z$. Since the displacement $r$ and the momentum $p$ are in the same direction we expect that the $r \\times p$ term will be zero to within experimental error. In order to compute the angular momentum we must do two things. We need to make both the mommentum vector and the position vector three vectors. That is vector in $[x,y,z]$. The reason for this is that the momentum and position have components only in the $x - y$ plane and thus angular momentum will point in the $z$ direction. We need to add a $z$ component to our vectors in order for numpy to evaluate them correctly."
   ]
  },
  {
   "cell_type": "code",
   "execution_count": null,
   "id": "f361ce33",
   "metadata": {},
   "outputs": [],
   "source": [
    "p = m2 * np.array[v2ix, v2iy, 0]\n",
    "RMagenta = [MagentaData[0], MagentaData[1]]"
   ]
  },
  {
   "cell_type": "markdown",
   "id": "3d449e3e",
   "metadata": {},
   "source": [
    "The other thing that we need to do is shift the origin of $r$ so that the puck's position starts at $[0,0]$. We need both $p$ and $r$ to be measured from the same origin. Since the origin of $p$ is $[0,0]$ we will shift $r$ so that it's origin is also at $[0,0]$. We can do this simply by subtracting the first element of $r$ from each element of the array."
   ]
  },
  {
   "cell_type": "code",
   "execution_count": null,
   "id": "223a7467",
   "metadata": {},
   "outputs": [],
   "source": [
    "RMagentaArr = np.asarray(RMagenta)\n",
    "r = RMagentaArr - RMagentaArr[0]"
   ]
  },
  {
   "cell_type": "markdown",
   "id": "06b8d9c5",
   "metadata": {},
   "source": [
    "The next step is to compute the cross product. We have two arrays ($p$ and $r$). The elemtns of $r$ are themselves 3 element arrays representing a 3 vector. We want to take the cross product of each element of $r$ with $p$. To take the cross product of two vectors in $\\mathbb R^3$ we can use np.cross. For Example:"
   ]
  },
  {
   "cell_type": "code",
   "execution_count": null,
   "id": "8fc8715b",
   "metadata": {},
   "outputs": [],
   "source": [
    "print(np.cross([1,0,0],[0,1,0]))"
   ]
  },
  {
   "cell_type": "markdown",
   "id": "a98699c1",
   "metadata": {},
   "source": [
    "The same method will allow use to compute the angular momentum. We are interested in only the first 11 elements of $r$ since they are the elements that refer to the position before the collision."
   ]
  },
  {
   "cell_type": "code",
   "execution_count": null,
   "id": "4638851a",
   "metadata": {},
   "outputs": [],
   "source": [
    "LMagenta = np.cross(r[:11],p[:11])"
   ]
  },
  {
   "cell_type": "markdown",
   "id": "dfb97ec9",
   "metadata": {},
   "source": [
    "Notice that as expected the angular momentym from the term $r \\times p$ is essentially zero. The largest values are an order of magnitude smaller than the contribution from the $I \\omega$ term. The contribution from the $I \\omega$ term is:"
   ]
  },
  {
   "cell_type": "code",
   "execution_count": null,
   "id": "c73c37a5",
   "metadata": {},
   "outputs": [],
   "source": [
    "IMagenta * ω1"
   ]
  },
  {
   "cell_type": "markdown",
   "id": "8725e859",
   "metadata": {},
   "source": [
    "and this is the only term that contributes to the initial angular momentum. Thus we have:"
   ]
  },
  {
   "cell_type": "code",
   "execution_count": null,
   "id": "e435973d",
   "metadata": {},
   "outputs": [],
   "source": [
    "Li = IMagenta * ω1"
   ]
  },
  {
   "cell_type": "markdown",
   "id": "c73fea4c",
   "metadata": {},
   "source": [
    "After the collision we have four terms. $L_{total} = I_{Magentaf}\\omega_{Magentaf} \\hat z + I_{Yellowf} \\omega_{Yellowf} \\hat z + r_{Yellowf} \\times p_{Yellowf} + r_{Yellowf} \\times p_{Yellowf}$, <!-- possible typo --> where the $f$ refers to the final state (i.e. after the collision). The rotational ($I \\omega$) terms give:"
   ]
  },
  {
   "cell_type": "code",
   "execution_count": null,
   "id": "e34da4ff",
   "metadata": {},
   "outputs": [],
   "source": [
    "IMagenta * ω2\n",
    "IYellow * ωYellow"
   ]
  },
  {
   "cell_type": "markdown",
   "id": "dc673f59",
   "metadata": {},
   "source": [
    "In order to decide if these terms point in the positive or negative z-direction you will have to look at the vidoe and see if they are rotating in the clockwise (negative z axis) or counter-clockwise (positive z-axis) direction. In my case they are both clockwise."
   ]
  },
  {
   "cell_type": "code",
   "execution_count": null,
   "id": "c5ced9da",
   "metadata": {},
   "outputs": [],
   "source": [
    "Lrot = IMagenta * ω2 + IYellow * ωYellow"
   ]
  },
  {
   "cell_type": "markdown",
   "id": "e6d7eeb5",
   "metadata": {},
   "source": [
    "Notice that the rotational angular momentum is conserved to within about 4%.\n",
    "<br>\n",
    "<p style=\"color:Red\"> However, there is no requirement that the ($I \\omega$) pieces and the $r \\times p$ terms be separately conserved. Only the total angular momentum need be conserved.</p>"
   ]
  },
  {
   "cell_type": "code",
   "execution_count": null,
   "id": "472927a3",
   "metadata": {},
   "outputs": [],
   "source": []
  }
 ],
 "metadata": {
  "kernelspec": {
   "display_name": "Python 3 (ipykernel)",
   "language": "python",
   "name": "python3"
  },
  "language_info": {
   "codemirror_mode": {
    "name": "ipython",
    "version": 3
   },
   "file_extension": ".py",
   "mimetype": "text/x-python",
   "name": "python",
   "nbconvert_exporter": "python",
   "pygments_lexer": "ipython3",
   "version": "3.11.3"
  }
 },
 "nbformat": 4,
 "nbformat_minor": 5
}
