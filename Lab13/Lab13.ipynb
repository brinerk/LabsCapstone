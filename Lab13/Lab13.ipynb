{
 "cells": [
  {
   "cell_type": "markdown",
   "id": "9631e690",
   "metadata": {},
   "source": [
    "<center><h1>Lab13:<br>Harmonic Motion</h1></center>\n",
    "<a href=\"https://www.youtube.com/watch?v=j-zczJXSxnw\">Click here to see a famous harmonic oscillator</href>"
   ]
  },
  {
   "cell_type": "markdown",
   "id": "9ba7e9f8",
   "metadata": {},
   "source": [
    "<h2>Simple Harmonic Motion</h2>\n",
    "Simple harmonic motion plays a central role in much of physics and engineering. The description is used widely for disparate phenomena such as oscillations in an AC circuit, the bending of a bridge, and teh quantum mechanics of light. The prototypical simple harmonic oscillator is a mass on an ideal spring (i.e. one which obeys Hooke's Law). The restoring force provided by the spring is $F = -kx$ where $x$ is the displacement from equilibrium and $k$ is the spring constant.\n",
    "<br>\n",
    "The equation of motion for the mass is:<br>\n",
    "$m \\frac{d^2 x}{dt^2} = - kx$\n",
    "<br>\n",
    "which we can rewrite as:\n",
    "<br>\n",
    "$\\frac{d^2x}{dt^2} + \\omega^2 x = 0 \\quad (1)$\n",
    "<br>\n",
    "where:\n",
    "<br>\n",
    "$\\omega = \\sqrt{\\frac{k}{m}}$\n",
    "<br>\n",
    "is called the \"angular frequency\" of the system (not to be confused with the \"frequency\" $f = \\frac{\\omega}{2\\pi}$)\n",
    "<br>\n",
    "Equation (1) is a second order differential equation to solve for $x(t)$. There are two very common forms for the general solution of this equation:\n",
    "<h3 style=\"color:blue\">Solution 1: Sines and Cosines</h3>\n",
    "The solution of (1) will be a function which, when differentiated twice, will give us the original function times a constant. The obvious choice is either sine or cosine. However, this is a second-order differential equation, so there need to be two arbitrary constants in the full general solution. Let's use a linear combination of <i>both</i> sine and cosine:"
   ]
  },
  {
   "cell_type": "code",
   "execution_count": 32,
   "id": "0aa3c86c",
   "metadata": {},
   "outputs": [],
   "source": [
    "import numpy as np\n",
    "import sympy as sym\n",
    "\n",
    "def x1(t):\n",
    "    a * np.cos(ω*t) + b * np.sin(ω*t)\n",
    "\n",
    "a, b, w, t, x = sym.symbols('a b w t x')\n",
    "eqn1 = sym.Eq(x, a * sym.cos(w * t) + b * sym.sin(w * t))"
   ]
  },
  {
   "cell_type": "markdown",
   "id": "a31f6521",
   "metadata": {},
   "source": [
    "Right now, there appear to be three undetermined constants (A, B, and $\\omega$), but we will see that one of them is fixed by the equation of motion (1)"
   ]
  },
  {
   "cell_type": "code",
   "execution_count": 28,
   "id": "0ff36517",
   "metadata": {},
   "outputs": [
    {
     "data": {
      "text/latex": [
       "$\\displaystyle 0$"
      ],
      "text/plain": [
       "0"
      ]
     },
     "execution_count": 28,
     "metadata": {},
     "output_type": "execute_result"
    }
   ],
   "source": [
    "sym.diff(a * sym.cos(w * t) + b * sym.sin(w * t), t, t) + w**2 * (a * sym.cos(w * t) + b * sym.sin(w * t))"
   ]
  },
  {
   "cell_type": "code",
   "execution_count": null,
   "id": "376a759e",
   "metadata": {},
   "outputs": [],
   "source": []
  }
 ],
 "metadata": {
  "kernelspec": {
   "display_name": "Python 3 (ipykernel)",
   "language": "python",
   "name": "python3"
  },
  "language_info": {
   "codemirror_mode": {
    "name": "ipython",
    "version": 3
   },
   "file_extension": ".py",
   "mimetype": "text/x-python",
   "name": "python",
   "nbconvert_exporter": "python",
   "pygments_lexer": "ipython3",
   "version": "3.11.3"
  }
 },
 "nbformat": 4,
 "nbformat_minor": 5
}
