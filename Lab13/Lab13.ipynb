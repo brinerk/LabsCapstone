{
 "cells": [
  {
   "cell_type": "markdown",
   "id": "4c90adc5",
   "metadata": {},
   "source": [
    "<center><h1>Lab13:<br>Harmonic Motion</h1></center>\n",
    "<a href=\"https://www.youtube.com/watch?v=j-zczJXSxnw\">Click here to see a famous harmonic oscillator</href>"
   ]
  },
  {
   "cell_type": "markdown",
   "id": "8f93e49d",
   "metadata": {},
   "source": [
    "<h2>Simple Harmonic Motion</h2>\n",
    "Simple harmonic motion plays a central role in much of physics and engineering. The description is used widely for disparate phenomena such as oscillations in an AC circuit, the bending of a bridge, and teh quantum mechanics of light. The prototypical simple harmonic oscillator is a mass on an ideal spring (i.e. one which obeys Hooke's Law). The restoring force provided by the spring is $F = -kx$ where $x$ is the displacement from equilibrium and $k$ is the spring constant.\n",
    "<br>\n",
    "The equation of motion for the mass is:<br>\n",
    "$m \\frac{d^2 x}{dt^2} = - kx$"
   ]
  },
  {
   "cell_type": "code",
   "execution_count": null,
   "id": "33dda705",
   "metadata": {},
   "outputs": [],
   "source": []
  }
 ],
 "metadata": {
  "kernelspec": {
   "display_name": "Python 3 (ipykernel)",
   "language": "python",
   "name": "python3"
  },
  "language_info": {
   "codemirror_mode": {
    "name": "ipython",
    "version": 3
   },
   "file_extension": ".py",
   "mimetype": "text/x-python",
   "name": "python",
   "nbconvert_exporter": "python",
   "pygments_lexer": "ipython3",
   "version": "3.11.3"
  }
 },
 "nbformat": 4,
 "nbformat_minor": 5
}
