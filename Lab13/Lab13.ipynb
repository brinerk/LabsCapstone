{
 "cells": [
  {
   "cell_type": "markdown",
   "id": "9631e690",
   "metadata": {},
   "source": [
    "<center><h1>Lab13:<br>Harmonic Motion</h1></center>\n",
    "<a href=\"https://www.youtube.com/watch?v=j-zczJXSxnw\">Click here to see a famous harmonic oscillator</href>"
   ]
  },
  {
   "cell_type": "markdown",
   "id": "9ba7e9f8",
   "metadata": {},
   "source": [
    "<h2>Simple Harmonic Motion</h2>\n",
    "Simple harmonic motion plays a central role in much of physics and engineering. The description is used widely for disparate phenomena such as oscillations in an AC circuit, the bending of a bridge, and teh quantum mechanics of light. The prototypical simple harmonic oscillator is a mass on an ideal spring (i.e. one which obeys Hooke's Law). The restoring force provided by the spring is $F = -kx$ where $x$ is the displacement from equilibrium and $k$ is the spring constant.\n",
    "<br>\n",
    "The equation of motion for the mass is:<br>\n",
    "$m \\frac{d^2 x}{dt^2} = - kx$\n",
    "<br>\n",
    "which we can rewrite as:\n",
    "<br>\n",
    "$\\frac{d^2x}{dt^2} + \\omega^2 x = 0 \\quad (1)$\n",
    "<br>\n",
    "where:\n",
    "<br>\n",
    "$\\omega = \\sqrt{\\frac{k}{m}}$\n",
    "<br>\n",
    "is called the \"angular frequency\" of the system (not to be confused with the \"frequency\" $f = \\frac{\\omega}{2\\pi}$)\n",
    "<br>\n",
    "Equation (1) is a second order differential equation to solve for $x(t)$. There are two very common forms for the general solution of this equation:\n",
    "<h2 style=\"color:blue\">Solution 1: Sines and Cosines</h2>\n",
    "The solution of (1) will be a function which, when differentiated twice, will give us the original function times a constant. The obvious choice is either sine or cosine. However, this is a second-order differential equation, so there need to be two arbitrary constants in the full general solution. Let's use a linear combination of <i>both</i> sine and cosine:"
   ]
  },
  {
   "cell_type": "code",
   "execution_count": 40,
   "id": "0aa3c86c",
   "metadata": {},
   "outputs": [],
   "source": [
    "import numpy as np\n",
    "import sympy as sym\n",
    "\n",
    "def x1(t):\n",
    "    a * np.cos(ω*t) + b * np.sin(ω*t)\n",
    "\n",
    "a, b, w, t, x, ω = sym.symbols('a b w t x ω')\n",
    "x1 = sym.Eq(x, a * sym.cos(w * t) + b * sym.sin(w * t))"
   ]
  },
  {
   "cell_type": "markdown",
   "id": "a31f6521",
   "metadata": {},
   "source": [
    "Right now, there appear to be three undetermined constants (A, B, and $\\omega$), but we will see that one of them is fixed by the equation of motion (1)"
   ]
  },
  {
   "cell_type": "code",
   "execution_count": 46,
   "id": "0ff36517",
   "metadata": {},
   "outputs": [],
   "source": [
    "eqn2 = sym.diff(x1.rhs, t, 2) + (ω**2 * eqn1.rhs)"
   ]
  },
  {
   "cell_type": "markdown",
   "id": "fc1209dd",
   "metadata": {},
   "source": [
    "We can collect the sine and cosine terms by simplifiying the equation.<br>\n",
    "Collecting the sine and cosine terms:"
   ]
  },
  {
   "cell_type": "code",
   "execution_count": 47,
   "id": "376a759e",
   "metadata": {},
   "outputs": [
    {
     "data": {
      "text/latex": [
       "$\\displaystyle \\left(- w^{2} + ω^{2}\\right) \\left(a \\cos{\\left(t w \\right)} + b \\sin{\\left(t w \\right)}\\right)$"
      ],
      "text/plain": [
       "(-w**2 + ω**2)*(a*cos(t*w) + b*sin(t*w))"
      ]
     },
     "execution_count": 47,
     "metadata": {},
     "output_type": "execute_result"
    }
   ],
   "source": [
    "sym.simplify(eqn2)"
   ]
  },
  {
   "cell_type": "markdown",
   "id": "edc8bb28",
   "metadata": {},
   "source": [
    "Shows that the differential equation will be satisfied for all A and B if $w = \\omega$. The constant A and B are (at this point) arbitrary constants and will be determined by the initial conditions. In fact, A is the intial displacement of the oscillator."
   ]
  },
  {
   "cell_type": "code",
   "execution_count": 43,
   "id": "621be1fb",
   "metadata": {},
   "outputs": [
    {
     "data": {
      "text/latex": [
       "$\\displaystyle x = a$"
      ],
      "text/plain": [
       "Eq(x, a)"
      ]
     },
     "execution_count": 43,
     "metadata": {},
     "output_type": "execute_result"
    }
   ],
   "source": [
    "x1.subs(t, 0)"
   ]
  },
  {
   "cell_type": "markdown",
   "id": "8842dfa1",
   "metadata": {},
   "source": [
    "and B is $v(0)/w$ as can be seen by differentiating $x(t)$ to get velocity and then checking the velocity at $t=0$."
   ]
  },
  {
   "cell_type": "code",
   "execution_count": 48,
   "id": "2ca93dcf",
   "metadata": {},
   "outputs": [
    {
     "data": {
      "text/latex": [
       "$\\displaystyle - a w \\sin{\\left(t w \\right)} + b w \\cos{\\left(t w \\right)}$"
      ],
      "text/plain": [
       "-a*w*sin(t*w) + b*w*cos(t*w)"
      ]
     },
     "execution_count": 48,
     "metadata": {},
     "output_type": "execute_result"
    }
   ],
   "source": [
    "v1 = sym.diff(x1.rhs, t)\n",
    "v1"
   ]
  },
  {
   "cell_type": "code",
   "execution_count": 49,
   "id": "a8d36f7d",
   "metadata": {},
   "outputs": [
    {
     "data": {
      "text/latex": [
       "$\\displaystyle b w$"
      ],
      "text/plain": [
       "b*w"
      ]
     },
     "execution_count": 49,
     "metadata": {},
     "output_type": "execute_result"
    }
   ],
   "source": [
    "v1.subs(t, 0)"
   ]
  },
  {
   "cell_type": "markdown",
   "id": "00ce08aa",
   "metadata": {},
   "source": [
    "<h2 style=\"color:blue\">Solution 2: Just Cosine</h2>\n",
    "We chose a linear combination of sines and cosines above which solved equation (1), but this parameterization is not unqiue. Since $\\sin(x + \\phi)= \\sin(x) + \\cos(x)\\sin(\\phi)$, we can rewrite our solution so that it contains only cosines! However, since we still need <u>two</u> arbitrary constants, we pick up an extra piece in the argument of the cosine:"
   ]
  },
  {
   "cell_type": "code",
   "execution_count": 50,
   "id": "4e0dde9f",
   "metadata": {},
   "outputs": [
    {
     "data": {
      "text/latex": [
       "$\\displaystyle x_{2} = a_{2} \\cos{\\left(t w + ϕ \\right)}$"
      ],
      "text/plain": [
       "Eq(x2, a2*cos(t*w + ϕ))"
      ]
     },
     "execution_count": 50,
     "metadata": {},
     "output_type": "execute_result"
    }
   ],
   "source": [
    "x2, a2, ϕ = sym.symbols('x2, a2, ϕ')\n",
    "x2 = sym.Eq(x2, a2 * sym.cos(w*t + ϕ))\n",
    "x2"
   ]
  },
  {
   "cell_type": "markdown",
   "id": "fb4212e7",
   "metadata": {},
   "source": [
    "Here $\\phi$ is a constant called the phase angle. <u>This solution is equivalent to Solution 1!</u> The only difference is how we parameterize it; sometimes the first solution is more convenient, sometimes not. $a_2$ is not, in general, the same constant as $a$ for a given set of initial conditions.<br>\n",
    "Putting this back into our equation for simple harmonic motion gives"
   ]
  },
  {
   "cell_type": "code",
   "execution_count": 53,
   "id": "8aec15de",
   "metadata": {},
   "outputs": [
    {
     "data": {
      "text/latex": [
       "$\\displaystyle - a_{2} w^{2} \\cos{\\left(t w + ϕ \\right)} + a_{2} ω^{2} \\cos{\\left(t w + ϕ \\right)}$"
      ],
      "text/plain": [
       "-a2*w**2*cos(t*w + ϕ) + a2*ω**2*cos(t*w + ϕ)"
      ]
     },
     "execution_count": 53,
     "metadata": {},
     "output_type": "execute_result"
    }
   ],
   "source": [
    "eqn3 = sym.diff(x2.rhs, t, 2) + ω**2 * x2.rhs\n",
    "eqn3"
   ]
  },
  {
   "cell_type": "code",
   "execution_count": 54,
   "id": "36d851ba",
   "metadata": {},
   "outputs": [
    {
     "data": {
      "text/latex": [
       "$\\displaystyle a_{2} \\left(- w^{2} + ω^{2}\\right) \\cos{\\left(t w + ϕ \\right)}$"
      ],
      "text/plain": [
       "a2*(-w**2 + ω**2)*cos(t*w + ϕ)"
      ]
     },
     "execution_count": 54,
     "metadata": {},
     "output_type": "execute_result"
    }
   ],
   "source": [
    "sym.simplify(eqn3)"
   ]
  },
  {
   "cell_type": "markdown",
   "id": "53ca489e",
   "metadata": {},
   "source": [
    "Which shows that, as before, this is a solution for all times $t$ if $\\omega = w$. \n",
    "<br>\n",
    "We can discover the physical signifigance of $\\phi$ by looking at $x(0)$ and $v(0)$."
   ]
  },
  {
   "cell_type": "code",
   "execution_count": 55,
   "id": "7b429da2",
   "metadata": {},
   "outputs": [
    {
     "data": {
      "text/latex": [
       "$\\displaystyle x_{2} = a_{2} \\cos{\\left(ϕ \\right)}$"
      ],
      "text/plain": [
       "Eq(x2, a2*cos(ϕ))"
      ]
     },
     "execution_count": 55,
     "metadata": {},
     "output_type": "execute_result"
    }
   ],
   "source": [
    "x2.subs(t,0)"
   ]
  },
  {
   "cell_type": "code",
   "execution_count": 57,
   "id": "82b6ab09",
   "metadata": {},
   "outputs": [
    {
     "data": {
      "text/latex": [
       "$\\displaystyle - a_{2} w \\sin{\\left(ϕ \\right)}$"
      ],
      "text/plain": [
       "-a2*w*sin(ϕ)"
      ]
     },
     "execution_count": 57,
     "metadata": {},
     "output_type": "execute_result"
    }
   ],
   "source": [
    "v2 = sym.diff(x2.rhs, t)\n",
    "v2.subs(t, 0)"
   ]
  },
  {
   "cell_type": "markdown",
   "id": "7044a12a",
   "metadata": {},
   "source": [
    "We can see that the constant $a_2$ fixes the amplitude of the oscillations, while the phase angle $\\phi$ allows us to set initial values $x(t)$ and $v(t)$. Note that, for a given amplitude, there is always a choice of $b$ and $\\phi$ such that our two solutions coincide!"
   ]
  },
  {
   "cell_type": "code",
   "execution_count": 58,
   "id": "917263d4",
   "metadata": {},
   "outputs": [],
   "source": [
    "#interactive plot"
   ]
  },
  {
   "cell_type": "markdown",
   "id": "70788d4c",
   "metadata": {},
   "source": [
    "Note also that: <br>\n",
    "$\\frac{v(0)}{x(0)} = -w \\tan(\\phi)$\n",
    "<br>\n",
    "so that the phase angle $phi$ is given by $\\phi = \\arctan(\\frac{v(0)}{w x(0)}$. Thus if $v(0) = 0, \\phi = 0, or \\pi$. If $x(0) = 0$, then $\\phi = \\frac{\\pi}{2}$ or $\\frac{3 \\pi}{2}$. We can see this by looking at a plot of the tangent."
   ]
  },
  {
   "cell_type": "code",
   "execution_count": 87,
   "id": "81238e27",
   "metadata": {},
   "outputs": [
    {
     "data": {
      "text/plain": [
       "[<matplotlib.lines.Line2D at 0x7f62f466b910>]"
      ]
     },
     "execution_count": 87,
     "metadata": {},
     "output_type": "execute_result"
    },
    {
     "data": {
      "image/png": "[encoded data removed]",
      "text/plain": [
       "<Figure size 640x480 with 1 Axes>"
      ]
     },
     "metadata": {},
     "output_type": "display_data"
    }
   ],
   "source": [
    "from matplotlib import pyplot as plt\n",
    "\n",
    "#might be wrong graph\n",
    "x = np.linspace(0.0, 6.0, 1000)\n",
    "y = (np.tan(2 * np.pi * x/5))\n",
    "\n",
    "tol = 10\n",
    "y[y > tol] = np.nan\n",
    "y[y < -tol] = np.nan\n",
    "\n",
    "plt.plot(x,y)"
   ]
  },
  {
   "cell_type": "markdown",
   "id": "97d1b056",
   "metadata": {},
   "source": [
    "<h2>Energy Conservation in Simple Harmonic Motion</h2>\n",
    "(Below, we are using <u>Solution 2</u>, $x(t) = A2 \\cos(w t + \\phi)$; it is more useful for now!)\n",
    "<br><br>\n",
    "Energy is conserved in simple harmonic motion since there are no dissipative forces. During the motion the energy sloshes back and forth between kinetic and potential energy. The kinetic energy is:"
   ]
  },
  {
   "cell_type": "code",
   "execution_count": 91,
   "id": "65ff03de",
   "metadata": {},
   "outputs": [
    {
     "data": {
      "text/latex": [
       "$\\displaystyle KE = 0.5 a_{2}^{2} m w^{2} \\sin^{2}{\\left(t w + ϕ \\right)}$"
      ],
      "text/plain": [
       "Eq(KE, 0.5*a2**2*m*w**2*sin(t*w + ϕ)**2)"
      ]
     },
     "execution_count": 91,
     "metadata": {},
     "output_type": "execute_result"
    }
   ],
   "source": [
    "KE, m = sym.symbols('KE m')\n",
    "KE = sym.Eq(KE, 1/2 * m * v2**2)\n",
    "KE"
   ]
  },
  {
   "cell_type": "markdown",
   "id": "27d012b2",
   "metadata": {},
   "source": [
    "and the potential energy is:"
   ]
  },
  {
   "cell_type": "code",
   "execution_count": 95,
   "id": "7e5fbeed",
   "metadata": {},
   "outputs": [
    {
     "data": {
      "text/latex": [
       "$\\displaystyle U = 0.5 a_{2}^{2} k \\cos^{2}{\\left(t w + ϕ \\right)}$"
      ],
      "text/plain": [
       "Eq(U, 0.5*a2**2*k*cos(t*w + ϕ)**2)"
      ]
     },
     "execution_count": 95,
     "metadata": {},
     "output_type": "execute_result"
    }
   ],
   "source": [
    "U, k = sym.symbols('U k')\n",
    "U = sym.Eq(U, 1/2*k*x2.rhs**2)\n",
    "U"
   ]
  },
  {
   "cell_type": "markdown",
   "id": "c711426f",
   "metadata": {},
   "source": [
    "The total energy is:"
   ]
  },
  {
   "cell_type": "code",
   "execution_count": 97,
   "id": "59c0da3d",
   "metadata": {},
   "outputs": [
    {
     "data": {
      "text/latex": [
       "$\\displaystyle 0.5 a_{2}^{2} k \\cos^{2}{\\left(t w + ϕ \\right)} + 0.5 a_{2}^{2} m w^{2} \\sin^{2}{\\left(t w + ϕ \\right)}$"
      ],
      "text/plain": [
       "0.5*a2**2*k*cos(t*w + ϕ)**2 + 0.5*a2**2*m*w**2*sin(t*w + ϕ)**2"
      ]
     },
     "execution_count": 97,
     "metadata": {},
     "output_type": "execute_result"
    }
   ],
   "source": [
    "Energy = KE.rhs + U.rhs\n",
    "Energy"
   ]
  },
  {
   "cell_type": "markdown",
   "id": "a10c3469",
   "metadata": {},
   "source": [
    "Since $\\omega = \\sqrt{\\frac{k}{m}}$ we have:"
   ]
  },
  {
   "cell_type": "code",
   "execution_count": 103,
   "id": "d73849e0",
   "metadata": {},
   "outputs": [
    {
     "data": {
      "text/latex": [
       "$\\displaystyle 0.5 a_{2}^{2} k$"
      ],
      "text/plain": [
       "0.5*a2**2*k"
      ]
     },
     "execution_count": 103,
     "metadata": {},
     "output_type": "execute_result"
    }
   ],
   "source": [
    "sym.simplify(Energy.subs(w, sym.sqrt(k/m)))"
   ]
  },
  {
   "cell_type": "markdown",
   "id": "2b83edde",
   "metadata": {},
   "source": [
    "which does not depend on time! This shows that the energy is constant throughout the motion.\n",
    "<br><br>\n",
    "Suppose we start our oscillator with $v(0) = 0$ and $x(0) = 10$cm. Then $\\phi = 0$ and $a_2 = 10$cm. Suppose further that $m = 0.1$kg and $k = 1$N/m so that $\\omega = \\sqrt{10}$sec$^{-1}$ and the total energy of the oscillator is $E = \\frac{1}{2}(.1)^2$J$=0.05$J. We can plot the kinetic and potential energies as a function of time. With these values we have an oscillator with a period of just under two seconds. Recall that the period $T$ is given by $T = \\frac{2 \\pi}{\\omega}$."
   ]
  },
  {
   "cell_type": "code",
   "execution_count": 135,
   "id": "b66eb532",
   "metadata": {},
   "outputs": [
    {
     "data": {
      "image/png": "[encoded data removed]",
      "text/plain": [
       "<Figure size 640x480 with 1 Axes>"
      ]
     },
     "metadata": {},
     "output_type": "display_data"
    }
   ],
   "source": [
    "KE2 = KE.subs(w, sym.sqrt(k/m))\n",
    "U2 = U.subs(w, sym.sqrt(k/m))\n",
    "p1 = sym.plot(KE2.subs({a2: .1, m: .1, ϕ: 0, k: 1}).rhs, (t,0,2), show=False)\n",
    "p2 = sym.plot(U2.subs({a2: .1, m: .1, ϕ: 0, k:1}).rhs, (t,0,2), show=False)\n",
    "p1.append(p2[0])\n",
    "p1.show()"
   ]
  },
  {
   "cell_type": "markdown",
   "id": "efd91e2b",
   "metadata": {},
   "source": [
    "The blue is kinetic energy and orange is potential."
   ]
  },
  {
   "cell_type": "code",
   "execution_count": null,
   "id": "fd72a071",
   "metadata": {},
   "outputs": [],
   "source": []
  }
 ],
 "metadata": {
  "kernelspec": {
   "display_name": "Python 3 (ipykernel)",
   "language": "python",
   "name": "python3"
  },
  "language_info": {
   "codemirror_mode": {
    "name": "ipython",
    "version": 3
   },
   "file_extension": ".py",
   "mimetype": "text/x-python",
   "name": "python",
   "nbconvert_exporter": "python",
   "pygments_lexer": "ipython3",
   "version": "3.11.3"
  }
 },
 "nbformat": 4,
 "nbformat_minor": 5
}
