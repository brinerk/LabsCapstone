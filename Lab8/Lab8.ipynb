{
 "cells": [
  {
   "cell_type": "markdown",
   "id": "40d7c4e5",
   "metadata": {},
   "source": [
    "<h1><center>Lab08:<br>Energy Conservation and Non-Conservative Work</center></h1>\n",
    "<h2>Introduction</h2>\n",
    "In this lab we will look at the non-conservative work done by air resistance and attempt to verify the equation: $\\Delta E = W_{nc}$ where: $\\Delta E = E_f - E_i$ is the change in the object's energy and $W_{nc}$ is the non-conservative work done on the object.\n",
    "<br><br>\n",
    "\n",
    "Before you dropped the object off our balcony, it's energy was entirely potential energy. Relative to the foam the initial energy of the object is $E_i = mgy_0$ where $y_0$ is the distance from the point where the object was released to the foam. At the instant before the object hits the foam it's energy is $E_f = \\frac{1}{2}mv^2$. We will calculate both $E_f$ and $E_i$ from our data, and compare $\\Delta E = E_f - E_i$ to the work done by air resistance.\n",
    "<br><br>\n",
    "\n",
    "The force due to air resistance is $F_{air} = (c \\rho A)v^2$, where $\\rho$ (rho) is the density of the air, $A$ is the cross sectional area of the object, and $c$ is the drag coefficient. As we did last week, note that $c$ is dimensionless. The free body diagram for an object in free fall is shown below.\n",
    "![title](./Freebody.png)\n",
    "\n",
    "In terms of our drag parameter $(\\sigma = c \\rho A / m)$ the force is $F = \\sigma m v^2$\n",
    "\n",
    "<h2>Theory</h2>\n",
    "The easiest way to calculate the total loss is to compare the total energy at the beginning of the motion to the total energy at the end. This yields the following (familiar) equations:\n",
    "<center>$E_0 = \\frac{1}{2} m v_0^2 - m g h_0$</center>\n",
    "<center>$E_f = \\frac{1}{2} m v_f^2 - m g h_f$</center>\n",
    "Note that the sign of the potential energy is changed from the normal convention because x is positive in the downward direction ($g = +9.80 \\frac{m}{s^2}$. The total energy loss is then simply:\n",
    "<center>$E_{loss} = E_f - E_0 = \\frac{1}{2} m (v_f^2 - v_0^2) - mg (h_f - h_i)$</center>\n",
    "The work done by a variable force on an object that is displaced from $x_i$ to $x_f$ is:\n",
    "<center>$W = \\int_{x_i}^{x_f} \\vec F \\cdot \\vec {dr}$</center>\n",
    "The displacement and the drag force are in opposite directions so we get a minus sign from the dot product. Thus:\n",
    "<center>$W_{nc} = - m \\sigma \\int_{x_i}^{x_f} v^2 dy$</center>\n",
    "The integration variable is $y$ but we know $v$ as a function of $t$ not $y$ so we must change the integration variable from $y$ to $t$. Since $dy = \\frac{dy}{dt} = v dt$, we can rewrite our integral as:\n",
    "<center>$W_{nc} = -m \\sigma \\int_{t_i}^{t_f} v(t)^3 dt$</center>\n",
    "Where t is the time it takes for the object to fall from $x_i$ to $x_f$.\n",
    "<br>\n",
    "Recall that last week we found the velocity to be:"
   ]
  },
  {
   "cell_type": "code",
   "execution_count": 1,
   "id": "50bcddec",
   "metadata": {},
   "outputs": [],
   "source": [
    "import numpy as np\n",
    "import sympy as sym\n",
    "\n",
    "#define our velocity function\n",
    "def vel_func(t, σ, v0, y0, g):\n",
    "    return v0 + (g / σ)**(1/2) * sym.tanh(t * (g / σ)**(1/2))"
   ]
  },
  {
   "cell_type": "markdown",
   "id": "a4625a38",
   "metadata": {},
   "source": [
    "Also recall from last week that the object's position is given by:"
   ]
  },
  {
   "cell_type": "code",
   "execution_count": 2,
   "id": "5860a9d6",
   "metadata": {},
   "outputs": [],
   "source": [
    "#define our model function\n",
    "def model_func(t, σ, v0, y0):\n",
    "    g = 9.80\n",
    "    return (t*v0 + y0 + ((g/σ)**(1/2) * np.log(np.cosh(t * (g * σ)**(1/2))))/(g*σ)**(1/2))"
   ]
  },
  {
   "cell_type": "markdown",
   "id": "7e3a4545",
   "metadata": {},
   "source": [
    "The total work can now be found by perfoming the integral above. This integration takes some time, so the result has be pre-computed."
   ]
  },
  {
   "cell_type": "code",
   "execution_count": 25,
   "id": "1f3f8586",
   "metadata": {},
   "outputs": [],
   "source": [
    "#define a function for the work\n",
    "def work_func(t, σ, v0, y0, m):\n",
    "    g=9.80\n",
    "    #this equation is super long, so we split it up\n",
    "    a = -(m/(2 * σ))\n",
    "    b = (-g + 6 * g * t * v0 * σ + 2 * t * v0**3 * σ**2)\n",
    "    c = 2*(g+3*v0**2*σ) * sym.log(sym.cosh(t * (g * σ)**(1/2)))\n",
    "    d = g * (1/(sym.cosh(t * (g * σ)**(1/2))**2))\n",
    "    e = 6*v0 * (g*σ)**(1/2) * sym.tanh(t * (g * σ)**(1/2))\n",
    "    return a * (b + c + d - e)"
   ]
  },
  {
   "cell_type": "markdown",
   "id": "4f73c4b9",
   "metadata": {},
   "source": [
    "The non-conservative work is a complicated expression and we should check that it goes to zero when $\\sigma$ goes to zero. To do this we could take a limit, or Taylor expand for small $\\sigma$ and check to see that the result goes to zero as $\\sigma$ goes to zero.\n",
    "<br>\n",
    "Recall that a Taylor Series for a function $f(x)$ has the form $\\sum\\limits_{n = 0}^{\\infty} a_n x^n$, with constants $a_n$ depending on the function one chooses. Since we are looking at $w(\\sigma)$, we will see the Taylor Series as a series of powers of $\\sigma$."
   ]
  },
  {
   "cell_type": "code",
   "execution_count": 4,
   "id": "53908c1e",
   "metadata": {},
   "outputs": [],
   "source": [
    "def series(t, σ, v0, y0):\n",
    "    g = 9.8\n",
    "    a = (-(1/4) * g**3 * m * t**4 - g**2 * m * t**3 * v0 - (3/2)*g * m * t**2 * v0**2 - m * t * v0**3) * σ\n",
    "    b = (1/60)*(10 * g**4 * m * t**6 + 24 * g**3 * m * t**5 * v0 + 15 * g**2 * m * t**4 * v0**2) * σ**2\n",
    "    series = a * b\n",
    "    return series"
   ]
  },
  {
   "cell_type": "markdown",
   "id": "1bf0f995",
   "metadata": {},
   "source": [
    "This clearly goes to zero as $\\sigma \\rightarrow 0$. As stated above, a Taylor Series is actually an infinite series. Since it would be fruitless to look at all the terms in an infinite series, we look at just the first two terms and notice the trend in powers of $\\sigma$."
   ]
  },
  {
   "cell_type": "markdown",
   "id": "c71623d9-fefd-45e8-a21c-1230373c8399",
   "metadata": {},
   "source": [
    "We should also plot the non-conservative work as a function of time. Remember that $t$ is the length of time the object has fallen. In order to plot the non-conservative work we need values for $m$, $y_0$, $g$, $v_0$, and $\\sigma$. Below we plot the work for the first two seconds."
   ]
  },
  {
   "cell_type": "code",
   "execution_count": 5,
   "id": "30931117-056c-4a8c-b564-fe64e0e29dba",
   "metadata": {},
   "outputs": [
    {
     "data": {
      "image/png": "[encoded data removed]",
      "text/plain": [
       "<Figure size 640x480 with 1 Axes>"
      ]
     },
     "metadata": {},
     "output_type": "display_data"
    }
   ],
   "source": [
    "from matplotlib import pyplot as plt\n",
    "\n",
    "#create 1000 points between 0 and 2 for our t values\n",
    "t = np.linspace(0,2,1000)\n",
    "\n",
    "#work_func(t, σ, v0, y0, m):\n",
    "y = [work_func(i, 0.1, 1, 0, 0.07) for i in t]\n",
    "\n",
    "plt.axhline(color = 'black')\n",
    "plt.plot(t,y)\n",
    "plt.xlabel(\"t [sec]\")\n",
    "plt.ylabel(\"W [J]\")\n",
    "plt.show()"
   ]
  },
  {
   "cell_type": "markdown",
   "id": "51b6f21e-8d39-407e-a22b-ccbe9233cd78",
   "metadata": {},
   "source": [
    "We can now compute the total non-conservative work, at time $t=2$."
   ]
  },
  {
   "cell_type": "code",
   "execution_count": 6,
   "id": "f0ba3fd8-8538-4e74-8afb-479d63533baf",
   "metadata": {},
   "outputs": [
    {
     "data": {
      "text/plain": [
       "-1.5361051914036061"
      ]
     },
     "execution_count": 6,
     "metadata": {},
     "output_type": "execute_result"
    }
   ],
   "source": [
    "work_func(1, 0.1, 1, 0, 0.07)"
   ]
  },
  {
   "cell_type": "markdown",
   "id": "c9153a5b-773e-40ce-9dfb-e2d67ea17c02",
   "metadata": {},
   "source": [
    "Since we have used SI units our answer is in Joules."
   ]
  },
  {
   "cell_type": "markdown",
   "id": "e95d60de",
   "metadata": {},
   "source": [
    "<h2>Data Analysis</h2>\n",
    "For the rest of this analysis we will assume that $g = 9.80 \\frac{m}{s^2}$. As you learned in the last lab, it is very hard to accurately fit both $g$ and $\\sigma$ with data at small velocities.\n",
    "<h3>Sample Trial (Last Week's Analysis)</h3>\n",
    "The data is converted into physical unites exactly the same way as we did last week. Below is the same fictional data we used for the previous lab."
   ]
  },
  {
   "cell_type": "code",
   "execution_count": 7,
   "id": "a0cfa511",
   "metadata": {},
   "outputs": [
    {
     "data": {
      "image/png": "[encoded data removed]",
      "text/plain": [
       "<Figure size 640x480 with 1 Axes>"
      ]
     },
     "metadata": {},
     "output_type": "display_data"
    }
   ],
   "source": [
    "import numpy as np\n",
    "from matplotlib import pyplot as plt\n",
    "%matplotlib inline\n",
    "\n",
    "heightData = [0.0209976, 0.0419953, 0.0419953, 0.0629929, 0.0839905, 0.125986, 0.1889797, 0.230974, 0.293967, 0.377957, 0.44095, 0.545938, 0.671924,\n",
    "             0.776912, 0.902898, 1.02888, 1.15487, 1.32285, 1.42784, 1.61682, 1.7848, 1.99487, 2.14176, 2.39373, 2.58271, 2.79269, 2.98166, 3.21264, 3.46461,\n",
    "             3.71658, 3.92656, 4.15753]\n",
    "\n",
    "#make our time data match with the height\n",
    "TimeData = [i/30 for i in range(0,len(heightData))]\n",
    "\n",
    "plt.plot(TimeData, heightData, 'o')\n",
    "plt.xlabel(\"t [sec]\")\n",
    "plt.ylabel(\"Height [m]\")\n",
    "plt.show()"
   ]
  },
  {
   "cell_type": "markdown",
   "id": "e4d3c764",
   "metadata": {},
   "source": [
    "Now set $g = 9.80 \\frac{m}{s^2}$ and calculate the values of $\\sigma, v_0, y_0$ (just like before). <!-- use curve fit -->"
   ]
  },
  {
   "cell_type": "code",
   "execution_count": 8,
   "id": "0b70e1d0-2584-4d82-ab30-a458711b574e",
   "metadata": {},
   "outputs": [
    {
     "name": "stdout",
     "output_type": "stream",
     "text": [
      "[ 0.09099515 -0.44513693  0.05881766]\n"
     ]
    },
    {
     "data": {
      "image/png": "[encoded data removed]",
      "text/plain": [
       "<Figure size 640x480 with 1 Axes>"
      ]
     },
     "metadata": {},
     "output_type": "display_data"
    }
   ],
   "source": [
    "from scipy.optimize import curve_fit\n",
    "\n",
    "def model_func(t, σ, v0, y0):\n",
    "    g = 9.80\n",
    "    return (t*v0 + y0 + ((g/σ)**(1/2) * np.log(np.cosh(t * (g * σ)**(1/2))))/(g*σ)**(1/2))\n",
    "\n",
    "\n",
    "heightArr = np.asarray(heightData)\n",
    "TimeArr = np.asarray(TimeData)\n",
    "#Fitting our function, popt is our parameters.\n",
    "#The bounds portition of the code is of the form [(lower bound 1, lower bound 2, lower bound 3),(upper bound 1, upper bound 2, upper bound 3)]\n",
    "popt, pcov = curve_fit(model_func, TimeArr, heightArr, bounds=[(0.01,-np.inf,-np.inf),(1,np.inf,np.inf)])\n",
    "\n",
    "print(popt)\n",
    "plt.plot(TimeData, model_func(TimeArr, *popt))\n",
    "plt.plot(TimeData, heightData, \"o\")\n",
    "plt.show()"
   ]
  },
  {
   "cell_type": "markdown",
   "id": "b70da28f",
   "metadata": {},
   "source": [
    "<h2>Calculating the Energy Loss and Work Done</h2>\n",
    "Now lets assign values to the velocities and the heights at the beginning and end of the motion."
   ]
  },
  {
   "cell_type": "code",
   "execution_count": 9,
   "id": "a46f83e0",
   "metadata": {},
   "outputs": [
    {
     "name": "stdout",
     "output_type": "stream",
     "text": [
      "0.0419953 4.15753 -0.44513692651912656 7.351095660653801\n"
     ]
    }
   ],
   "source": [
    "def model_fun_deriv(t, σ, v0, y0):\n",
    "    g = 9.80\n",
    "    return ((g/σ)**(1/2) * np.sinh((g*σ)**(1/2)*t))/(np.cosh((g*σ)**(1/2)*t)) + v0\n",
    "\n",
    "#ignorming heightData[0]\n",
    "h0Value = heightData[1]\n",
    "hfValue = heightData[-1]\n",
    "\n",
    "#get our values from our polyfit\n",
    "v0Value = model_fun_deriv(TimeArr[0], *popt)\n",
    "vfValue = model_fun_deriv(TimeArr[-1], *popt)\n",
    "\n",
    "print(h0Value, hfValue, v0Value, vfValue)"
   ]
  },
  {
   "cell_type": "markdown",
   "id": "336172b5",
   "metadata": {},
   "source": [
    "The total energy loss using conservation of energy is:"
   ]
  },
  {
   "cell_type": "code",
   "execution_count": 10,
   "id": "c87847bc",
   "metadata": {},
   "outputs": [
    {
     "name": "stdout",
     "output_type": "stream",
     "text": [
      "-0.9388406856943721\n"
     ]
    }
   ],
   "source": [
    "m = 0.07\n",
    "g = 9.80\n",
    "\n",
    "print( (1/2) * m * (vfValue**2 - v0Value**2) - m * g * (hfValue - h0Value) )"
   ]
  },
  {
   "cell_type": "markdown",
   "id": "067941a7",
   "metadata": {},
   "source": [
    "Now we can perfrom the analgous calculation using the work formalism."
   ]
  },
  {
   "cell_type": "code",
   "execution_count": 11,
   "id": "4b823683",
   "metadata": {},
   "outputs": [
    {
     "data": {
      "text/plain": [
       "-0.8834266783975694"
      ]
     },
     "execution_count": 11,
     "metadata": {},
     "output_type": "execute_result"
    }
   ],
   "source": [
    "#work_func(t, σ, v0, y0, m):\n",
    "work_func(TimeArr[-1], 0.111, v0Value, h0Value, 0.07)"
   ]
  },
  {
   "cell_type": "markdown",
   "id": "a3e6caa8",
   "metadata": {},
   "source": [
    "<h2>Error Analysis</h2>\n",
    "The values for the energy loss calculated above are different! Theoretically they should be identical if the model is correct and no experimental errors have been made. Because we cannont easily access the (systematic) error of the model, we will now focus on estimation of the experimental error."
   ]
  },
  {
   "cell_type": "markdown",
   "id": "db12b05b-25e9-4b49-aed4-1591b5552900",
   "metadata": {},
   "source": [
    "<h2>Error in $\\Delta$E</h2>\n",
    "\n",
    "In order to calculate the error in the energy we first need to find the error in the velocity. Note that $\\Delta g$ has been omitted ($g$ is known to a large degree of certainty so its effect is negligible)error"
   ]
  },
  {
   "cell_type": "code",
   "execution_count": 16,
   "id": "55f0f33e",
   "metadata": {},
   "outputs": [
    {
     "data": {
      "text/latex": [
       "$\\displaystyle \\sqrt{Δv^{2} + 8.2369 \\cdot 10^{-6} \\left(- \\frac{t \\left(\\frac{g}{σ}\\right)^{1.0} \\cdot \\left(1 - \\tanh^{2}{\\left(t \\left(\\frac{g}{σ}\\right)^{0.5} \\right)}\\right)}{σ} - \\frac{\\left(\\frac{g}{σ}\\right)^{0.5} \\tanh{\\left(t \\left(\\frac{g}{σ}\\right)^{0.5} \\right)}}{σ}\\right)^{2}}$"
      ],
      "text/plain": [
       "sqrt(Δv**2 + 8.2369e-6*(-t*(g/σ)**1.0*(1 - tanh(t*(g/σ)**0.5)**2)/σ - (g/σ)**0.5*tanh(t*(g/σ)**0.5)/σ)**2)"
      ]
     },
     "execution_count": 16,
     "metadata": {},
     "output_type": "execute_result"
    }
   ],
   "source": [
    "import sympy as sym\n",
    "ma, t, σ, v0, y0, h0, Δv, Δσ, g, Δm, Δh, vf, hf = sym.symbols('ma t σ v0 y0 h0 Δv Δσ g Δm Δh vf hf')\n",
    "\n",
    "Δv_r = 0.0261\n",
    "Δσ_r = 0.111\n",
    "Δσ = 0.00574\n",
    "Δm_r = 0.001\n",
    "\n",
    "\n",
    "vf_r = vfValue\n",
    "v0_r = v0Value\n",
    "\n",
    "hf_r = hfValue\n",
    "h0_r = h0Value\n",
    "Δh_r = 0.01867\n",
    "\n",
    "vel_func(t, σ, v0, y0, g)\n",
    "Δvel = sym.sqrt((sym.diff(vel_func(t, σ, v0, y0, g), v0) * Δv)**2 + (sym.diff(vel_func(t, σ, v0, y0, g), σ) * Δσ)**2)\n",
    "Δvel"
   ]
  },
  {
   "cell_type": "code",
   "execution_count": 17,
   "id": "5920e868-fa9b-4690-939b-095b811f08cd",
   "metadata": {},
   "outputs": [
    {
     "data": {
      "text/latex": [
       "$\\displaystyle 0.134213616695073$"
      ],
      "text/plain": [
       "0.134213616695073"
      ]
     },
     "execution_count": 17,
     "metadata": {},
     "output_type": "execute_result"
    }
   ],
   "source": [
    "def TotalE(m, vf, v0, g, hf, h0):\n",
    "    return (1/2) * m  *(vf**2 -v0**2) - m * g * (hf - h0)\n",
    "\n",
    "syms = [ma, vf, v0, g, hf, h0]\n",
    "\n",
    "ΔTotalE = sym.sqrt( (sym.diff(TotalE(*syms), ma)*Δm)**2 + (sym.diff(TotalE(*syms), vf)*Δvel)**2 + (sym.diff(TotalE(*syms), v0)*Δvel**2)\n",
    "                   + (sym.diff(TotalE(*syms), hf)*Δh)**2 + (sym.diff(TotalE(*syms), Δh)**2))\n",
    "ΔTotalE.subs({ma: m, vf: vf_r, v0: v0_r, g: 9.80, hf: hf_r, h0: h0_r, Δv: Δv_r, Δm: Δm_r, Δσ: Δσ_r, σ: σ_r, Δh: Δh_r, t: TimeArr[-1]})"
   ]
  },
  {
   "cell_type": "markdown",
   "id": "9c7f20c0-8674-465f-8273-b93dd1bbc74a",
   "metadata": {},
   "source": [
    "<h2>Error in W</h2>\n",
    "Same analysis, but now for $W$ instead of $\\Delta E$."
   ]
  },
  {
   "cell_type": "code",
   "execution_count": 28,
   "id": "949060b6-1637-48cf-b664-3de127b0cb83",
   "metadata": {},
   "outputs": [
    {
     "data": {
      "text/latex": [
       "$\\displaystyle 29.4 \\sqrt{\\frac{ma^{2} Δv \\left(0.102040816326531 t v_{0}^{2} σ^{2} + t σ + 0.204081632653061 v_{0} σ \\log{\\left(\\cosh{\\left(3.13049516849971 t σ^{0.5} \\right)} \\right)} - 0.31943828249997 σ^{0.5} \\tanh{\\left(3.13049516849971 t σ^{0.5} \\right)}\\right)^{2}}{σ^{2}} + \\frac{Δm \\left(0.0340136054421769 t v_{0}^{3} σ^{2} + t v_{0} σ - 0.31943828249997 v_{0} σ^{0.5} \\tanh{\\left(3.13049516849971 t σ^{0.5} \\right)} + 0.0170068027210884 \\cdot \\left(6 v_{0}^{2} σ + 19.6\\right) \\log{\\left(\\cosh{\\left(3.13049516849971 t σ^{0.5} \\right)} \\right)} - 0.166666666666667 + \\frac{0.166666666666667}{\\cosh^{2}{\\left(3.13049516849971 t σ^{0.5} \\right)}}\\right)^{2}}{σ^{2}} + 6.64075153871072 \\cdot 10^{-6} \\left(- \\frac{ma \\left(4 t v_{0}^{3} σ - 29.4 t v_{0} \\cdot \\left(1 - \\tanh^{2}{\\left(3.13049516849971 t σ^{0.5} \\right)}\\right) + 58.8 t v_{0} + \\frac{1.56524758424985 t \\left(6 v_{0}^{2} σ + 19.6\\right) \\sinh{\\left(3.13049516849971 t σ^{0.5} \\right)}}{σ^{0.5} \\cosh{\\left(3.13049516849971 t σ^{0.5} \\right)}} - \\frac{30.6788526512971 t \\sinh{\\left(3.13049516849971 t σ^{0.5} \\right)}}{σ^{0.5} \\cosh^{3}{\\left(3.13049516849971 t σ^{0.5} \\right)}} + 6 v_{0}^{2} \\log{\\left(\\cosh{\\left(3.13049516849971 t σ^{0.5} \\right)} \\right)} - \\frac{9.39148550549912 v_{0} \\tanh{\\left(3.13049516849971 t σ^{0.5} \\right)}}{σ^{0.5}}\\right)}{2 σ} + \\frac{ma \\left(2 t v_{0}^{3} σ^{2} + 58.8 t v_{0} σ - 18.7829710109982 v_{0} σ^{0.5} \\tanh{\\left(3.13049516849971 t σ^{0.5} \\right)} + \\left(6 v_{0}^{2} σ + 19.6\\right) \\log{\\left(\\cosh{\\left(3.13049516849971 t σ^{0.5} \\right)} \\right)} - 9.8 + \\frac{9.8}{\\cosh^{2}{\\left(3.13049516849971 t σ^{0.5} \\right)}}\\right)}{2 σ^{2}}\\right)^{2}}$"
      ],
      "text/plain": [
       "29.4*sqrt(ma**2*Δv*(0.102040816326531*t*v0**2*σ**2 + t*σ + 0.204081632653061*v0*σ*log(cosh(3.13049516849971*t*σ**0.5)) - 0.31943828249997*σ**0.5*tanh(3.13049516849971*t*σ**0.5))**2/σ**2 + Δm*(0.0340136054421769*t*v0**3*σ**2 + t*v0*σ - 0.31943828249997*v0*σ**0.5*tanh(3.13049516849971*t*σ**0.5) + 0.0170068027210884*(6*v0**2*σ + 19.6)*log(cosh(3.13049516849971*t*σ**0.5)) - 0.166666666666667 + 0.166666666666667/cosh(3.13049516849971*t*σ**0.5)**2)**2/σ**2 + 6.64075153871072e-6*(-ma*(4*t*v0**3*σ - 29.4*t*v0*(1 - tanh(3.13049516849971*t*σ**0.5)**2) + 58.8*t*v0 + 1.56524758424985*t*(6*v0**2*σ + 19.6)*sinh(3.13049516849971*t*σ**0.5)/(σ**0.5*cosh(3.13049516849971*t*σ**0.5)) - 30.6788526512971*t*sinh(3.13049516849971*t*σ**0.5)/(σ**0.5*cosh(3.13049516849971*t*σ**0.5)**3) + 6*v0**2*log(cosh(3.13049516849971*t*σ**0.5)) - 9.39148550549912*v0*tanh(3.13049516849971*t*σ**0.5)/σ**0.5)/(2*σ) + ma*(2*t*v0**3*σ**2 + 58.8*t*v0*σ - 18.7829710109982*v0*σ**0.5*tanh(3.13049516849971*t*σ**0.5) + (6*v0**2*σ + 19.6)*log(cosh(3.13049516849971*t*σ**0.5)) - 9.8 + 9.8/cosh(3.13049516849971*t*σ**0.5)**2)/(2*σ**2))**2)"
      ]
     },
     "execution_count": 28,
     "metadata": {},
     "output_type": "execute_result"
    }
   ],
   "source": [
    "ΔW = sym.sqrt(sym.diff(work_func(t, σ, v0, y0, ma),σ)**2*Δσ + sym.diff(work_func(t, σ, v0, y0, ma),ma)**2*Δm + sym.diff(work_func(t, σ, v0, y0, ma), v0)**2*Δv)\n",
    "ΔW"
   ]
  },
  {
   "cell_type": "code",
   "execution_count": 29,
   "id": "b95a4df5-085f-4982-b5a2-f7cafa8ef1ff",
   "metadata": {},
   "outputs": [
    {
     "data": {
      "text/latex": [
       "$\\displaystyle 0.484987539291363$"
      ],
      "text/plain": [
       "0.484987539291363"
      ]
     },
     "execution_count": 29,
     "metadata": {},
     "output_type": "execute_result"
    }
   ],
   "source": [
    "ΔW.subs({ma: m, vf: vf_r, v0: v0_r, g: 9.80, hf: hf_r, h0: h0_r, Δv: Δv_r, Δm: Δm_r, Δσ: Δσ_r, σ: σ_r, Δh: Δh_r, t: TimeArr[-1]})"
   ]
  },
  {
   "cell_type": "markdown",
   "id": "9043b95c",
   "metadata": {},
   "source": [
    "<h2>Final Results/Conclusions</h2>\n",
    "We have now calculated the work done with the two methods:\n",
    "<br><br>\n",
    "\n",
    "Conservation of Energy<br>\n",
    "$\\Delta E = -0.939 \\pm 0.134 J$\n",
    "<br><br>\n",
    "External Work<br>\n",
    "$W_{air} = -0.880 \\pm 0.485 J$\n",
    "<br><br>\n",
    "\n",
    "So while the values are different, they agree within our uncertainties! Hooray!\n"
   ]
  },
  {
   "cell_type": "markdown",
   "id": "726b78b2",
   "metadata": {},
   "source": [
    "<h2>Exercises</h2>\n",
    "The assignment for Week 8 is to complete the following problems: <u>The submission should include your input code, the relevant outputs, and some sentences which explain the results.</u> The code should be self-contained and should run \"in order\"; that is, I should be able to a simply run your notebook from beginning to end in order to reproduce your outputs.\n",
    "<h3>Exercise One</h3>\n",
    "Complete the full analysis above for all three data sets taken in Lab 6 and the corresponding parameters calculated in Lab 7. This includes the relevant plots and a summary of your results regarding $\\Delta E$ and $W$ with uncertainties.\n",
    "<br>\n",
    "<h3>Exercise Two</h3>\n",
    "This lab tests the statement that $\\Delta E = W_{nc}$, the work done by non-conservative forces. This raises the question: What is a conservative or non-conservative force? Answer in your own words. If you look things up online or in a textbook, <i>explicitly cite your sources</i>.\n",
    "<br>\n",
    "<h3>Exercise Three</h3>\n",
    "Suppose we repeated this experiment on another planet... say, Mars, where the gravitational accelerate $g_mars = 3.711 \\frac{m}{s^2} < g_{earth}$. What would change? Be concrete and thorough: which <i>specific</i>  quantites would change and which would stay the same (speed, acceleration, force, energy, etc.)?\n",
    "<br>\n",
    "<h3>Exercise Four</h3>\n",
    "Write a full abstract for this lab, with all relevant numerical results and uncertainties included. What do you conclude from this experiment? How could it be improved?"
   ]
  }
 ],
 "metadata": {
  "kernelspec": {
   "display_name": "Python 3 (ipykernel)",
   "language": "python",
   "name": "python3"
  },
  "language_info": {
   "codemirror_mode": {
    "name": "ipython",
    "version": 3
   },
   "file_extension": ".py",
   "mimetype": "text/x-python",
   "name": "python",
   "nbconvert_exporter": "python",
   "pygments_lexer": "ipython3",
   "version": "3.11.3"
  }
 },
 "nbformat": 4,
 "nbformat_minor": 5
}
