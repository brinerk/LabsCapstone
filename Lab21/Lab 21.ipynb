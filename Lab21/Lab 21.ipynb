{
 "cells": [
  {
   "cell_type": "markdown",
   "id": "e86a09b0-ad9c-4491-ab0d-e8f9d0a63514",
   "metadata": {},
   "source": [
    "<h1><center>Lab 21:<br>The Doppler Effect</center></h1>"
   ]
  },
  {
   "cell_type": "markdown",
   "id": "963614ff-f35e-4c74-a062-5aa03330dfdb",
   "metadata": {},
   "source": [
    "<h2>Introduction</h2>"
   ]
  },
  {
   "cell_type": "markdown",
   "id": "f9b98252-24c5-4b2f-9de3-9c360eeee9b6",
   "metadata": {},
   "source": [
    "In this experiment we will track a moving cart with a clock divided quartz oscillator attached to it, using two different methods. We will use a commercial motion sensor to determine the velocity of the cart as a function of time. This sensor sends out an ultra-sonic pulse and uses the time delay of the echoed pulse to determine the cart's position and velocity. We will also record the sound made by the quartz oscillator and use the doppler effect to determine the cart's velocity."
   ]
  },
  {
   "cell_type": "markdown",
   "id": "5ec92023-16e2-42ba-81b4-1eccdc463f1e",
   "metadata": {},
   "source": [
    "<h2>The Theory of the Doppler Effect</h2>"
   ]
  },
  {
   "cell_type": "markdown",
   "id": "f9ecb3ea-3cf5-4898-8387-b45af927dbf2",
   "metadata": {},
   "source": [
    "Suppose we have a moving source of sound (such as a tuning fork) and a stationary detector. The physical situation is shown in the figure below."
   ]
  },
  {
   "cell_type": "code",
   "execution_count": 1,
   "id": "005f3803-51bd-42f1-a3f0-defb76e4d0b8",
   "metadata": {},
   "outputs": [],
   "source": [
    "#image"
   ]
  },
  {
   "cell_type": "markdown",
   "id": "ab3bd690-ab2a-452e-8919-04b94e60e111",
   "metadata": {},
   "source": [
    "Figure 1: The Doppler effect for a source moving at 30% of the wave velocity "
   ]
  },
  {
   "cell_type": "markdown",
   "id": "86982bd0-0f67-46c1-9948-fd054ad0dc7a",
   "metadata": {},
   "source": [
    "Notice that the wave fronts behind the source are spaced further apart then they would be if the source was at rest. The wave fronts in front of the source are spaced more closely than they would be if the source was at rest. Suppose the source has frequency f and a wave speed of u; then if both the source and detector (or observer) are at rest then in a time T the observer will see "
   ]
  },
  {
   "cell_type": "markdown",
   "id": "706c2b44-c369-4866-bf31-51f66ccbe852",
   "metadata": {},
   "source": [
    "<center>$T f = \\frac{u T}{\\lambda}$ wave fronts.</center>"
   ]
  },
  {
   "cell_type": "markdown",
   "id": "945b92f1-4121-4038-a134-2d8078a68dea",
   "metadata": {},
   "source": [
    "If the source is moving away from the detector with velocity v then the observer will see waves with a wave length of $\\frac{u+v}{f} and thus the observer will see a wave with a frequency:"
   ]
  },
  {
   "cell_type": "markdown",
   "id": "f7e3a0dc-b0c8-49d0-b970-3ba0c3e6f20b",
   "metadata": {},
   "source": [
    "<center>$f' = \\frac{u}{\\frac{u+v}{f}}$</center>\n",
    "or<br>\n",
    "<div style=\"float: right\">(1)</div>\n",
    "<div style=\"margin: 0 auto; width: 100px;\">$f' = f \\cdot \\frac{u}{u+v}$ </div>"
   ]
  },
  {
   "cell_type": "markdown",
   "id": "ef42d838-0f94-460a-b18f-a79c24e5142f",
   "metadata": {},
   "source": [
    "This is known as the Doppler-shift in frequency. If the source was move toward the detector the wave length would be shortened and we would have<br>\n",
    "<div style=\"float: right\">(2)</div>\n",
    "<div style=\"margin: 0 auto; width: 100px;\">$f' = f \\cdot \\frac{u}{u-v}$ </div>\n",
    "<br>\n",
    "We can rewrite equation (1) as "
   ]
  },
  {
   "cell_type": "markdown",
   "id": "76cb46df-569b-4225-add5-4ca251f80245",
   "metadata": {},
   "source": [
    "<div style=\"float: right\">(3)</div>\n",
    "<div style=\"margin: 0 auto; width: 350px;\">$f' = f \\cdot(\\frac{1}{1 + \\frac{v}{u}})$ [source moving away from detector]</div><br>\n",
    "and equation (2) as:<br>\n",
    "<div style=\"float: right\">(4)</div>\n",
    "<div style=\"margin: 0 auto; width: 350px;\">$f' = f \\cdot(\\frac{1}{1 - \\frac{v}{u}})$ [source moving toward the detector]</div><br>\n",
    "\n",
    "if $v$ is small compared to $u$ then $\\frac{v}{u} \\ll 1$, and to first-order in the Taylor expansion, $\\frac{1}{1-\\frac{v}{u}} \\approx 1 + \\frac{v}{u}$ and $ \\frac{1}{1 + \\frac{v}{u}} \\approx 1 - \\frac{v}{u}$. In this limit:\n",
    "<center><u>Low speeds only</u></center><br>\n",
    "<div style=\"float: right\">(5)</div>\n",
    "<div style=\"margin: 0 auto; width: 350px;\">$f' \\approx f \\cdot (1 - \\frac{v}{u})$ [source moving away from detector]</div><br>\n",
    "<div style=\"float: right\">(6)</div>\n",
    "<div style=\"margin: 0 auto; width: 350px;\">$f' \\approx f \\cdot (1 + \\frac{v}{u})$ [source moving toward the detector]</div><br>\n",
    "In this experiment, we will test equations 5 and 6."
   ]
  },
  {
   "cell_type": "markdown",
   "id": "5bb99543",
   "metadata": {},
   "source": [
    "<h2>The Experimental Setup</h2>"
   ]
  },
  {
   "cell_type": "markdown",
   "id": "f9ff0f38",
   "metadata": {},
   "source": [
    "In this experiment you will push a cart with an electronic noise maker on it down the air track into the barrier at the end. If you have managed to push the cart hard enough, the cart will rebound off the barrier and return toward you. This is not necessarily easy to do since the noise maker is heavy and as a result there is some friction between the cart and the air track. Try a practice run before collecting data. If, during the data run, the cart does not rebound from the barrier, do not worry about it. One member of the group should turn the noise maker on, wait about a second and then give the cart a push. <div style=\"color:red; display:inline;\">The sound from the motionless cart will serve as a frequency reference so it is critical that you record a second or so of sound will the cart is motionless. It is also critical that you record only a few seconds of sound in total. The list that represents your sound data will grow by 44,100 elements a second, so do not record more than you need.</div> The other member of the group will record the sound and track the cart with both the DataStudio and Audacity software suites on separate computers. Starting the data recording simultaneously on both machines requires some coordination since you will have to simultaneously click two mouse buttons. Again, a practice run will help. Before the cart collides with the microphone/ultra-sonic range finder, stop the sound recording, the DataStudio range finder, and of course, the cart."
   ]
  },
  {
   "cell_type": "markdown",
   "id": "2c320562",
   "metadata": {},
   "source": [
    "<h3>Recording Sound</h3>"
   ]
  },
  {
   "cell_type": "markdown",
   "id": "bc4b3120",
   "metadata": {},
   "source": [
    "We will use <i>Audacity</i> to record the sound. When you launch <i>Audacity</i> a project window with VCR-like controls should open. If a project windows does not open go the File menu and select \"New\". Use the VCR controls to record the sound. Then go to the File menu and select \"Export as WAV\". Save the file (with a sensible name) on Hauck."
   ]
  },
  {
   "cell_type": "markdown",
   "id": "868de310",
   "metadata": {},
   "source": [
    "<h3>Tracking the Cart</h3>"
   ]
  },
  {
   "cell_type": "markdown",
   "id": "e72c5831",
   "metadata": {},
   "source": [
    " The DataStudio software uses a box that emits ultra-sonic pulses and determines the position of a target by measuring the time delay of the reflected pulse. The box will detect the closest object to it. Your TA will have DataStudio set up properly to record data. To save a data set in a form which is useful, go to the File menu and select Export Data. When the dialog box come up choose to export the velocity data only. This will write an ASCI file that we can easily import into python."
   ]
  },
  {
   "cell_type": "markdown",
   "id": "2bb07de7",
   "metadata": {},
   "source": [
    "<h2>Data Analysis 1: Fourier Transforms</h2>\n",
    "<h3>A Brief Introduction to Fourier Transforms</h3>"
   ]
  },
  {
   "cell_type": "markdown",
   "id": "501c6787",
   "metadata": {},
   "source": [
    "One of the two data sets you will record is an audio file. When you record the sound we record information in the time domain. That is, you record the amplitude and frequency of the sound as a function of time. However, to determine the velocity of the cart, we need information in the frequency domain. That is, we need the \"amplitude\" of the sound as a function of frequency to determine the greatest frequency collected by the microphone (which is presumably due to the sound emitter). We can go from the time domain to the frequency domain by what is called a <u>Fourier transform</u> of our data. \n",
    "\n",
    "The details of Fourier Transforms are largely beyond the scope of this course. However,we will outline the main features here as a crash course: \n",
    "\n",
    "The Fourier transform of a function $f(t)$ is defined as:\n",
    "\n",
    "$F(\\omega)= \\frac{1}{\\sqrt{2 \\pi}} \\int_{- \\infty}^{\\infty} f(t) e^{i \\omega t} dt$\n",
    "\n",
    "and is a function of the transform variable $\\omega$. (In this experiment, we will use the fact that the time $t$ and angular frequency $\\omega$ variables are related by a Fourier transform.  However, many other variables are related in the same way!  This technique is not unique to time and frequency variables.)\n",
    "\n",
    "The inverse Fourier transform undoes the action of the Fourier transform and yields a function of $t$. The  inverse Fourier transform is \n",
    "\n",
    "$f(t) = \\frac{1}{\\sqrt{2 \\pi}} \\int_{-\\infty}^{\\infty} F(\\omega) e^{-i \\omega t} dk$\n",
    "\n",
    "Notice the change in sign of the exponential argument. One of they keys to understanding why Fourier transforms take you from the time domain to the frequency domain is to realize that we can write the exponential  as\n",
    "\n",
    "$e^{i \\omega t} = \\cos(\\omega t) + i \\sin(\\omega t)$\n",
    "\n",
    "As discussed before, the sine and the cosine functions are \"orthogonal functions\" on the interval $[0, 2\\pi]$. That is,\n",
    "\n",
    "$\\int_0^{2 \\pi} \\cos(mt)\\sin(nt) dt = 0$\n",
    "\n",
    "for all integers m and n.  In addition,$\\cos(m t)$ and $\\cos(n t)$ are also orthogonal if $n \\neq m$ (same for sines):\n",
    "\n",
    "$\\int_0^{2 \\pi} \\sin(m t) \\sin(n t) dt =\\left\\{\n",
    "    \\begin{array}{lr}\n",
    "        0, & \\text{if } n \\neq m\\\\\n",
    "        \\pi, & \\text{if } n=m\n",
    "    \\end{array} \\right\\}$\n",
    "\n",
    "$\\int_0^{2 \\pi} \\cos(m t) \\cos(n t) dt =\\left\\{\n",
    "    \\begin{array}{lr}\n",
    "        0, & \\text{if } n \\neq m\\\\\n",
    "        \\pi, & \\text{if } n=m\n",
    "    \\end{array} \\right\\}$\n",
    "    \n",
    "for all integers m and n.  We can use sympy to check all of these relationships. For the sine-only term,"
   ]
  },
  {
   "cell_type": "code",
   "execution_count": 42,
   "id": "791197aa",
   "metadata": {},
   "outputs": [
    {
     "data": {
      "text/latex": [
       "$\\displaystyle - \\frac{m \\sin{\\left(2 \\pi n \\right)} \\cos{\\left(2 \\pi m \\right)}}{m^{2} - n^{2}} + \\frac{n \\sin{\\left(2 \\pi m \\right)} \\cos{\\left(2 \\pi n \\right)}}{m^{2} - n^{2}}$"
      ],
      "text/plain": [
       "-m*sin(2*pi*n)*cos(2*pi*m)/(m**2 - n**2) + n*sin(2*pi*m)*cos(2*pi*n)/(m**2 - n**2)"
      ]
     },
     "execution_count": 42,
     "metadata": {},
     "output_type": "execute_result"
    }
   ],
   "source": [
    "import sympy as sym\n",
    "\n",
    "m, x, n = sym.symbols('m x n')\n",
    "\n",
    "a = sym.integrate(sym.sin(m*x)*sym.sin(n*x), (x, 0, 2*sym.pi))\n",
    "\n",
    "b = a.args[3][0]\n",
    "b"
   ]
  },
  {
   "cell_type": "markdown",
   "id": "5921aa68",
   "metadata": {},
   "source": [
    "The constant a will vanish if $n$ is not equal to m since the sine of $2 \\pi$ times an integer is zero. To investigate the case $n=m$ we need to take the limit as $m\\rightarrow n$."
   ]
  },
  {
   "cell_type": "code",
   "execution_count": 43,
   "id": "b1e93fa3",
   "metadata": {},
   "outputs": [
    {
     "data": {
      "text/latex": [
       "$\\displaystyle \\frac{4 \\pi n - \\sin{\\left(4 \\pi n \\right)}}{4 n}$"
      ],
      "text/plain": [
       "(4*pi*n - sin(4*pi*n))/(4*n)"
      ]
     },
     "execution_count": 43,
     "metadata": {},
     "output_type": "execute_result"
    }
   ],
   "source": [
    "sym.limit(b, m, n)"
   ]
  },
  {
   "cell_type": "markdown",
   "id": "53b14478",
   "metadata": {},
   "source": [
    "We happen to know that $n$ is an integer, and so the $\\sin(4 n \\pi)$ term is zero.  We cn use an Assumptions statement to utilize this and get the final answer:"
   ]
  },
  {
   "cell_type": "code",
   "execution_count": 45,
   "id": "cc10566b",
   "metadata": {},
   "outputs": [
    {
     "data": {
      "text/latex": [
       "$\\displaystyle \\pi$"
      ],
      "text/plain": [
       "pi"
      ]
     },
     "execution_count": 45,
     "metadata": {},
     "output_type": "execute_result"
    }
   ],
   "source": [
    "n2 = sym.symbols('n2', integer=True)\n",
    "\n",
    "a = sym.integrate(sym.sin(m*x)*sym.sin(n2*x), (x, 0, 2*sym.pi))\n",
    "\n",
    "b = a.args[3][0]\n",
    "sym.limit(b, m, n2)"
   ]
  },
  {
   "cell_type": "markdown",
   "id": "17c1a442",
   "metadata": {},
   "source": [
    "We can check the cosine integral the in the same way"
   ]
  },
  {
   "cell_type": "code",
   "execution_count": 46,
   "id": "a8c71502",
   "metadata": {},
   "outputs": [
    {
     "data": {
      "text/latex": [
       "$\\displaystyle \\pi$"
      ],
      "text/plain": [
       "pi"
      ]
     },
     "execution_count": 46,
     "metadata": {},
     "output_type": "execute_result"
    }
   ],
   "source": [
    "c = sym.integrate(sym.cos(m*x)*sym.cos(n2*x), (x, 0, 2*sym.pi))\n",
    "\n",
    "d = a.args[3][0]\n",
    "\n",
    "sym.limit(b, m, n2)"
   ]
  },
  {
   "cell_type": "markdown",
   "id": "15f0d159",
   "metadata": {},
   "source": [
    "Checking the last integral is not so easy in general. To simplify the expression, I have told sympy to assume that both m and n are integers."
   ]
  },
  {
   "cell_type": "code",
   "execution_count": 49,
   "id": "7659ab12",
   "metadata": {},
   "outputs": [
    {
     "data": {
      "text/latex": [
       "$\\displaystyle 0$"
      ],
      "text/plain": [
       "0"
      ]
     },
     "execution_count": 49,
     "metadata": {},
     "output_type": "execute_result"
    }
   ],
   "source": [
    "m2 = sym.symbols('m2', integer=True)\n",
    "\n",
    "e = sym.integrate(sym.sin(m*x)*sym.cos(n2*x), (x, 0, 2*sym.pi))\n",
    "sym.limit(e, m2, n2).args[0][0]"
   ]
  },
  {
   "cell_type": "markdown",
   "id": "0115cea8",
   "metadata": {},
   "source": [
    "Because sine and cosine are orthogonal and the exponential is a linear combination of sine and cosine, we can use the functional equivalent of a vector dot product (here called the more general inner product) to \"pick out the orthogonal components\" of the function $f(t)$ in the \"$\\omega$ direction\".  Clearly the analogy of functions as vectors is limited, but for our purposes, the idea is essentially the same. Thus, if we multiply a function  $f(t)$ by $e^{i\\omega t}$ and integrate over the interval $[0, 2 \\pi]$ we pick out only those components with frequency $\\omega$.\n",
    "Of course we will not be integrating over the interval $[0, 2 \\pi]$. Strictly speaking we will be integrating from $t \\rightarrow -\\infty$ to $t \\rightarrow + \\infty$ but the function we are integrating will be zero except for the time the microphone is recording sound and so we can integrate over a finite interval. If this interval is long enough so that we integrate over many cycles of the signal the result will approach the integral over the infinite range. To get a feel for this consider the signal shown below. "
   ]
  },
  {
   "cell_type": "code",
   "execution_count": 58,
   "id": "6d5ef69b",
   "metadata": {},
   "outputs": [
    {
     "data": {
      "image/png": "[encoded data removed]",
      "text/plain": [
       "<Figure size 640x480 with 1 Axes>"
      ]
     },
     "metadata": {},
     "output_type": "display_data"
    }
   ],
   "source": [
    "import numpy as np\n",
    "from matplotlib import pyplot as plt\n",
    "\n",
    "x_axis = np.linspace(0, 4*np.pi, 1000)\n",
    "\n",
    "plt.plot(x_axis, np.sin(x_axis))\n",
    "plt.xlabel('t')\n",
    "plt.ylabel('x')\n",
    "plt.show()"
   ]
  },
  {
   "cell_type": "code",
   "execution_count": null,
   "id": "3fbd540a",
   "metadata": {},
   "outputs": [],
   "source": []
  }
 ],
 "metadata": {
  "kernelspec": {
   "display_name": "Python 3 (ipykernel)",
   "language": "python",
   "name": "python3"
  },
  "language_info": {
   "codemirror_mode": {
    "name": "ipython",
    "version": 3
   },
   "file_extension": ".py",
   "mimetype": "text/x-python",
   "name": "python",
   "nbconvert_exporter": "python",
   "pygments_lexer": "ipython3",
   "version": "3.11.5"
  }
 },
 "nbformat": 4,
 "nbformat_minor": 5
}
