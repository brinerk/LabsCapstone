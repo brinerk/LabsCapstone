{
 "cells": [
  {
   "cell_type": "markdown",
   "id": "e86a09b0-ad9c-4491-ab0d-e8f9d0a63514",
   "metadata": {},
   "source": [
    "<h1><center>Lab 21:<br>The Doppler Effect</center></h1>"
   ]
  },
  {
   "cell_type": "markdown",
   "id": "963614ff-f35e-4c74-a062-5aa03330dfdb",
   "metadata": {},
   "source": [
    "<h2>Introduction</h2>"
   ]
  },
  {
   "cell_type": "markdown",
   "id": "f9b98252-24c5-4b2f-9de3-9c360eeee9b6",
   "metadata": {},
   "source": [
    "In this experiment we will track a moving cart with a clock divided quartz oscillator attached to it, using two different methods. We will use a commercial motion sensor to determine the velocity of the cart as a function of time. This sensor sends out an ultra-sonic pulse and uses the time delay of the echoed pulse to determine the cart's position and velocity. We will also record the sound made by the quartz oscillator and use the doppler effect to determine the cart's velocity."
   ]
  },
  {
   "cell_type": "markdown",
   "id": "5ec92023-16e2-42ba-81b4-1eccdc463f1e",
   "metadata": {},
   "source": [
    "<h2>The Theory of the Doppler Effect</h2>"
   ]
  },
  {
   "cell_type": "markdown",
   "id": "f9ecb3ea-3cf5-4898-8387-b45af927dbf2",
   "metadata": {},
   "source": [
    "Suppose we have a moving source of sound (such as a tuning fork) and a stationary detector. The physical situation is shown in the figure below."
   ]
  },
  {
   "cell_type": "code",
   "execution_count": 1,
   "id": "005f3803-51bd-42f1-a3f0-defb76e4d0b8",
   "metadata": {},
   "outputs": [],
   "source": [
    "#image"
   ]
  },
  {
   "cell_type": "markdown",
   "id": "ab3bd690-ab2a-452e-8919-04b94e60e111",
   "metadata": {},
   "source": [
    "Figure 1: The Doppler effect for a source moving at 30% of the wave velocity "
   ]
  },
  {
   "cell_type": "markdown",
   "id": "86982bd0-0f67-46c1-9948-fd054ad0dc7a",
   "metadata": {},
   "source": [
    "Notice that the wave fronts behind the source are spaced further apart then they would be if the source was at rest. The wave fronts in front of the source are spaced more closely than they would be if the source was at rest. Suppose the source has frequency f and a wave speed of u; then if both the source and detector (or observer) are at rest then in a time T the observer will see "
   ]
  },
  {
   "cell_type": "markdown",
   "id": "706c2b44-c369-4866-bf31-51f66ccbe852",
   "metadata": {},
   "source": [
    "<center>$T f = \\frac{u T}{\\lambda}$ wave fronts.</center>"
   ]
  },
  {
   "cell_type": "markdown",
   "id": "945b92f1-4121-4038-a134-2d8078a68dea",
   "metadata": {},
   "source": [
    "If the source is moving away from the detector with velocity v then the observer will see waves with a wave length of $\\frac{u+v}{f} and thus the observer will see a wave with a frequency:"
   ]
  },
  {
   "cell_type": "markdown",
   "id": "f7e3a0dc-b0c8-49d0-b970-3ba0c3e6f20b",
   "metadata": {},
   "source": [
    "<center>$f' = \\frac{u}{\\frac{u+v}{f}}$</center>\n",
    "or<br>\n",
    "<div style=\"float: right\">(1)</div>\n",
    "<div style=\"margin: 0 auto; width: 100px;\">$f' = f \\cdot \\frac{u}{u+v}$ </div>"
   ]
  },
  {
   "cell_type": "markdown",
   "id": "ef42d838-0f94-460a-b18f-a79c24e5142f",
   "metadata": {},
   "source": [
    "This is known as the Doppler-shift in frequency. If the source was move toward the detector the wave length would be shortened and we would have<br>\n",
    "<div style=\"float: right\">(2)</div>\n",
    "<div style=\"margin: 0 auto; width: 100px;\">$f' = f \\cdot \\frac{u}{u-v}$ </div>\n",
    "<br>\n",
    "We can rewrite equation (1) as "
   ]
  },
  {
   "cell_type": "markdown",
   "id": "76cb46df-569b-4225-add5-4ca251f80245",
   "metadata": {},
   "source": [
    "<div style=\"float: right\">(3)</div>\n",
    "<div style=\"margin: 0 auto; width: 350px;\">$f' = f \\cdot(\\frac{1}{1 + \\frac{v}{u}})$ [source moving away from detector]</div><br>\n",
    "and equation (2) as:<br>\n",
    "<div style=\"float: right\">(4)</div>\n",
    "<div style=\"margin: 0 auto; width: 350px;\">$f' = f \\cdot(\\frac{1}{1 - \\frac{v}{u}})$ [source moving toward the detector]</div><br>\n",
    "\n",
    "if $v$ is small compared to $u$ then $\\frac{v}{u} \\ll 1$, and to first-order in the Taylor expansion, $\\frac{1}{1-\\frac{v}{u}} \\approx 1 + \\frac{v}{u}$ and $ \\frac{1}{1 + \\frac{v}{u}} \\approx 1 - \\frac{v}{u}$. In this limit:\n",
    "<center><u>Low speeds only</u></center><br>\n",
    "<div style=\"float: right\">(5)</div>\n",
    "<div style=\"margin: 0 auto; width: 350px;\">$f' \\approx f \\cdot (1 - \\frac{v}{u})$ [source moving away from detector]</div><br>\n",
    "<div style=\"float: right\">(6)</div>\n",
    "<div style=\"margin: 0 auto; width: 350px;\">$f' \\approx f \\cdot (1 + \\frac{v}{u})$ [source moving toward the detector]</div><br>\n",
    "In this experiment, we will test equations 5 and 6."
   ]
  },
  {
   "cell_type": "code",
   "execution_count": null,
   "id": "bb14f5df-1c6f-4979-b705-bfd84d1ed59f",
   "metadata": {},
   "outputs": [],
   "source": []
  }
 ],
 "metadata": {
  "kernelspec": {
   "display_name": "Python 3 (ipykernel)",
   "language": "python",
   "name": "python3"
  },
  "language_info": {
   "codemirror_mode": {
    "name": "ipython",
    "version": 3
   },
   "file_extension": ".py",
   "mimetype": "text/x-python",
   "name": "python",
   "nbconvert_exporter": "python",
   "pygments_lexer": "ipython3",
   "version": "3.11.3"
  }
 },
 "nbformat": 4,
 "nbformat_minor": 5
}
