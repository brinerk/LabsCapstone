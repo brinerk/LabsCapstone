{
 "cells": [
  {
   "cell_type": "markdown",
   "id": "126eb09d",
   "metadata": {},
   "source": [
    "<center><h1>Lab14:<br>Driven Harmonic Motion</h1></center>\n",
    "</h2>Introduction</h2>\n",
    "The oscillators we have studided so far have all been non-driven oscillators. That is, they have had no external energy source. Many of the most interesting physical oscillators are driven oscillators, when an external source pumps energy into the oscillator; the external source could be a power supply, an earthquake, or as in this <a href=\"https://www.youtube.com/watch?v=j-zczJXSxnw\">movie</a> (which we watched last week), the wind.\n",
    "<h2>Driven, Damped Oscillator</h2>\n",
    "We begin with the damped oscillator of last week, whose equation of motion was:\n",
    "<br>\n",
    "$\\frac{d^2 x}{dt^2} + \\gamma \\frac{dx}{dt} + \\omega^2 x = 0 \\quad (1)$\n",
    "<br>\n",
    "We found the general solution to this equation:"
   ]
  },
  {
   "cell_type": "code",
   "execution_count": 8,
   "id": "1728121a",
   "metadata": {},
   "outputs": [
    {
     "data": {
      "text/latex": [
       "$\\displaystyle A e^{- \\frac{t γ}{2}} \\cos{\\left(0.5 t \\left(- γ^{2} + 4 ω^{2}\\right)^{0.5} + ϕ \\right)}$"
      ],
      "text/plain": [
       "A*exp(-t*γ/2)*cos(0.5*t*(-γ**2 + 4*ω**2)**0.5 + ϕ)"
      ]
     },
     "execution_count": 8,
     "metadata": {},
     "output_type": "execute_result"
    }
   ],
   "source": [
    "import sympy as sym\n",
    "A, γ, ϕ, ω, t = sym.symbols('A γ ϕ ω t')\n",
    "def x1(A, γ, ϕ, ω, t):\n",
    "    return A * sym.E**-((γ*t)/2) * sym.cos(ϕ + (1/2)*(-γ**2 + 4 * ω**2)**(1/2) * t)\n",
    "x1(A, γ, ϕ, ω, t)"
   ]
  },
  {
   "cell_type": "markdown",
   "id": "a35c69a5",
   "metadata": {},
   "source": [
    "We can trade the arbitrary constants $A$ and $\\phi$ for the initial conditions $x_0$ and $v_0$, as we did last week:"
   ]
  },
  {
   "cell_type": "code",
   "execution_count": 9,
   "id": "8b194844",
   "metadata": {},
   "outputs": [],
   "source": [
    "x0, v0 = sym.symbols('x0 v0')\n",
    "A = (x0/sym.cos(ϕ))\n",
    "ϕ = sym.atan((-2*v0-γ*x0)/((-γ**2 + 4*ω**2)**(1/2) * x0))"
   ]
  },
  {
   "cell_type": "markdown",
   "id": "01fbe8a3",
   "metadata": {},
   "source": [
    "So that the complete solution is:"
   ]
  },
  {
   "cell_type": "code",
   "execution_count": 10,
   "id": "524a4af9",
   "metadata": {},
   "outputs": [
    {
     "data": {
      "text/latex": [
       "$\\displaystyle \\frac{x_{0} e^{- \\frac{t γ}{2}} \\cos{\\left(0.5 t \\left(- γ^{2} + 4 ω^{2}\\right)^{0.5} + \\operatorname{atan}{\\left(\\frac{- 2 v_{0} - x_{0} γ}{x_{0} \\left(- γ^{2} + 4 ω^{2}\\right)^{0.5}} \\right)} \\right)}}{\\cos{\\left(ϕ \\right)}}$"
      ],
      "text/plain": [
       "x0*exp(-t*γ/2)*cos(0.5*t*(-γ**2 + 4*ω**2)**0.5 + atan((-2*v0 - x0*γ)/(x0*(-γ**2 + 4*ω**2)**0.5)))/cos(ϕ)"
      ]
     },
     "execution_count": 10,
     "metadata": {},
     "output_type": "execute_result"
    }
   ],
   "source": [
    "x1(A, γ, ϕ, ω, t)"
   ]
  },
  {
   "cell_type": "markdown",
   "id": "b146e636",
   "metadata": {},
   "source": [
    "Equation (1) is called a <u>homogeneous</u> differential equation: it depends on the indepedent variable (which is $t$) only implicitly, through the function $x(t)$. Another way of putting this is that there are no explicit '$t$'s in the equation.\n",
    "<br>\n",
    "<br>\n",
    "A damped, driven oscillator is one in which there is an additional external force which varies with time, $F(t)$. Then the equation of motion takes the form:\n",
    "<br>\n",
    "$\\frac{d^2 x}{dt^2} + \\gamma \\frac{dx}{dt} + \\omega^2 x = F(t)$\n",
    "<br>\n",
    "We will start by studying the response of a simple harmonic oscillator to a sinusoidal force. A sinusoidal force is a sine-like force and thus indcludes cosine forces as well. We will take the driving force to be:\n",
    "<br>\n",
    "$F(t) = F_m \\cos(\\omega_e t)$\n",
    "<br>\n",
    "So we have:\n",
    "<br>\n",
    "$\\frac{d^2 x}{dt^2} + \\gamma \\frac{dx}{dt} + \\omega^2 x = F_m \\cos(\\omega_e t) \\quad (2)$\n",
    "<br>\n",
    "Here $F_m$ is the amplitude of the driving force and $\\omega_e$ is the angular frequency of the applied external driving force. This differential equation is <u>inhomogeneous</u>: it depends explicitly on $t$.\n",
    "<br>\n",
    "How will we solve this equation? It is a general theorem in differential equations that the solution to an inhomogeneous equation can be written as the sum of two parts: <u>The general solution to the homogenous part <b>plus</b> any one solution to the inhomogeneous equation.</u> This gives the general solution to the inhomogeneous equation. We have already solved the homogeous equation above."
   ]
  },
  {
   "cell_type": "code",
   "execution_count": 11,
   "id": "01762274",
   "metadata": {},
   "outputs": [
    {
     "data": {
      "text/latex": [
       "$\\displaystyle \\frac{x_{0} e^{- \\frac{t γ}{2}} \\cos{\\left(0.5 t \\left(- γ^{2} + 4 ω^{2}\\right)^{0.5} + \\operatorname{atan}{\\left(\\frac{- 2 v_{0} - x_{0} γ}{x_{0} \\left(- γ^{2} + 4 ω^{2}\\right)^{0.5}} \\right)} \\right)}}{\\cos{\\left(ϕ \\right)}}$"
      ],
      "text/plain": [
       "x0*exp(-t*γ/2)*cos(0.5*t*(-γ**2 + 4*ω**2)**0.5 + atan((-2*v0 - x0*γ)/(x0*(-γ**2 + 4*ω**2)**0.5)))/cos(ϕ)"
      ]
     },
     "execution_count": 11,
     "metadata": {},
     "output_type": "execute_result"
    }
   ],
   "source": [
    "x1(A, γ, ϕ, ω, t)"
   ]
  },
  {
   "cell_type": "markdown",
   "id": "558aba8d",
   "metadata": {},
   "source": [
    "To find a solution to the inhomogeneous equation, we try a solution of the form:\n",
    "<br>\n",
    "$x2 = A_1 \\cos(\\omega_e t + \\phi_1)$\n",
    "<br>\n",
    "I have called the phase angle $\\phi 1$ to make sure that we do not confuse it with the phase angle $\\phi$. The general solution will then be $x=x1 + x2$. Translating our equation gives:"
   ]
  },
  {
   "cell_type": "code",
   "execution_count": 13,
   "id": "29e87ff6",
   "metadata": {},
   "outputs": [
    {
     "data": {
      "text/latex": [
       "$\\displaystyle A_{1} \\cos{\\left(e t ω + ϕ_{1} \\right)}$"
      ],
      "text/plain": [
       "A1*cos(E*t*ω + ϕ1)"
      ]
     },
     "execution_count": 13,
     "metadata": {},
     "output_type": "execute_result"
    }
   ],
   "source": [
    "A1, ϕ1 = sym.symbols('A1 ϕ1')\n",
    "def x1(A1, ϕ1, ω, t):\n",
    "    return A1 * sym.cos(ω * sym.E * t + ϕ1)\n",
    "x1(A1, ϕ1, ω, t)"
   ]
  }
 ],
 "metadata": {
  "kernelspec": {
   "display_name": "Python 3 (ipykernel)",
   "language": "python",
   "name": "python3"
  },
  "language_info": {
   "codemirror_mode": {
    "name": "ipython",
    "version": 3
   },
   "file_extension": ".py",
   "mimetype": "text/x-python",
   "name": "python",
   "nbconvert_exporter": "python",
   "pygments_lexer": "ipython3",
   "version": "3.11.3"
  }
 },
 "nbformat": 4,
 "nbformat_minor": 5
}
