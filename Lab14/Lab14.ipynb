{
 "cells": [
  {
   "cell_type": "markdown",
   "id": "126eb09d",
   "metadata": {},
   "source": [
    "<center><h1>Lab14:<br>Driven Harmonic Motion</h1></center>\n",
    "</h2>Introduction</h2>\n",
    "The oscillators we have studided so far have all been non-driven oscillators. That is, they have had no external energy source. Many of the most interesting physical oscillators are driven oscillators, when an external source pumps energy into the oscillator; the external source could be a power supply, an earthquake, or as in this <a href=\"https://www.youtube.com/watch?v=j-zczJXSxnw\">movie</a> (which we watched last week), the wind.\n",
    "<h2>Driven, Damped Oscillator</h2>\n",
    "We begin with the damped oscillator of last week, whose equation of motion was:\n",
    "<br>\n",
    "$\\frac{d^2 x}{dt^2} + \\gamma \\frac{dx}{dt} + \\omega^2 x = 0 \\quad (1)$\n",
    "<br>\n",
    "We found the general solution to this equation:"
   ]
  },
  {
   "cell_type": "code",
   "execution_count": 1,
   "id": "1728121a",
   "metadata": {},
   "outputs": [
    {
     "data": {
      "text/latex": [
       "$\\displaystyle A e^{- \\frac{t γ}{2}} \\cos{\\left(0.5 t \\left(- γ^{2} + 4 ω^{2}\\right)^{0.5} + ϕ \\right)}$"
      ],
      "text/plain": [
       "A*exp(-t*γ/2)*cos(0.5*t*(-γ**2 + 4*ω**2)**0.5 + ϕ)"
      ]
     },
     "execution_count": 1,
     "metadata": {},
     "output_type": "execute_result"
    }
   ],
   "source": [
    "import sympy as sym\n",
    "A, γ, ϕ, ω, t = sym.symbols('A γ ϕ ω t')\n",
    "def x1(A, γ, ϕ, ω, t):\n",
    "    return A * sym.E**-((γ*t)/2) * sym.cos(ϕ + (1/2)*(-γ**2 + 4 * ω**2)**(1/2) * t)\n",
    "x1(A, γ, ϕ, ω, t)"
   ]
  },
  {
   "cell_type": "markdown",
   "id": "a35c69a5",
   "metadata": {},
   "source": [
    "We can trade the arbitrary constants $A$ and $\\phi$ for the initial conditions $x_0$ and $v_0$, as we did last week:"
   ]
  },
  {
   "cell_type": "code",
   "execution_count": 9,
   "id": "8b194844",
   "metadata": {},
   "outputs": [],
   "source": [
    "x0, v0 = sym.symbols('x0 v0')\n",
    "A = (x0/sym.cos(ϕ))\n",
    "ϕ = sym.atan((-2*v0-γ*x0)/((-γ**2 + 4*ω**2)**(1/2) * x0))"
   ]
  },
  {
   "cell_type": "markdown",
   "id": "01fbe8a3",
   "metadata": {},
   "source": [
    "So that the complete solution is:"
   ]
  },
  {
   "cell_type": "code",
   "execution_count": 10,
   "id": "524a4af9",
   "metadata": {},
   "outputs": [
    {
     "data": {
      "text/latex": [
       "$\\displaystyle \\frac{x_{0} e^{- \\frac{t γ}{2}} \\cos{\\left(0.5 t \\left(- γ^{2} + 4 ω^{2}\\right)^{0.5} + \\operatorname{atan}{\\left(\\frac{- 2 v_{0} - x_{0} γ}{x_{0} \\left(- γ^{2} + 4 ω^{2}\\right)^{0.5}} \\right)} \\right)}}{\\cos{\\left(ϕ \\right)}}$"
      ],
      "text/plain": [
       "x0*exp(-t*γ/2)*cos(0.5*t*(-γ**2 + 4*ω**2)**0.5 + atan((-2*v0 - x0*γ)/(x0*(-γ**2 + 4*ω**2)**0.5)))/cos(ϕ)"
      ]
     },
     "execution_count": 10,
     "metadata": {},
     "output_type": "execute_result"
    }
   ],
   "source": [
    "x1(A, γ, ϕ, ω, t)"
   ]
  },
  {
   "cell_type": "markdown",
   "id": "b146e636",
   "metadata": {},
   "source": [
    "Equation (1) is called a <u>homogeneous</u> differential equation: it depends on the indepedent variable (which is $t$) only implicitly, through the function $x(t)$. Another way of putting this is that there are no explicit '$t$'s in the equation.\n",
    "<br>\n",
    "<br>\n",
    "A damped, driven oscillator is one in which there is an additional external force which varies with time, $F(t)$. Then the equation of motion takes the form:\n",
    "<br>\n",
    "$\\frac{d^2 x}{dt^2} + \\gamma \\frac{dx}{dt} + \\omega^2 x = F(t)$\n",
    "<br>\n",
    "We will start by studying the response of a simple harmonic oscillator to a sinusoidal force. A sinusoidal force is a sine-like force and thus indcludes cosine forces as well. We will take the driving force to be:\n",
    "<br>\n",
    "$F(t) = F_m \\cos(\\omega_e t)$\n",
    "<br>\n",
    "So we have:\n",
    "<br>\n",
    "$\\frac{d^2 x}{dt^2} + \\gamma \\frac{dx}{dt} + \\omega^2 x = F_m \\cos(\\omega_e t) \\quad (2)$\n",
    "<br>\n",
    "Here $F_m$ is the amplitude of the driving force and $\\omega_e$ is the angular frequency of the applied external driving force. This differential equation is <u>inhomogeneous</u>: it depends explicitly on $t$.\n",
    "<br>\n",
    "How will we solve this equation? It is a general theorem in differential equations that the solution to an inhomogeneous equation can be written as the sum of two parts: <u>The general solution to the homogenous part <b>plus</b> any one solution to the inhomogeneous equation.</u> This gives the general solution to the inhomogeneous equation. We have already solved the homogeous equation above."
   ]
  },
  {
   "cell_type": "code",
   "execution_count": 11,
   "id": "01762274",
   "metadata": {},
   "outputs": [
    {
     "data": {
      "text/latex": [
       "$\\displaystyle \\frac{x_{0} e^{- \\frac{t γ}{2}} \\cos{\\left(0.5 t \\left(- γ^{2} + 4 ω^{2}\\right)^{0.5} + \\operatorname{atan}{\\left(\\frac{- 2 v_{0} - x_{0} γ}{x_{0} \\left(- γ^{2} + 4 ω^{2}\\right)^{0.5}} \\right)} \\right)}}{\\cos{\\left(ϕ \\right)}}$"
      ],
      "text/plain": [
       "x0*exp(-t*γ/2)*cos(0.5*t*(-γ**2 + 4*ω**2)**0.5 + atan((-2*v0 - x0*γ)/(x0*(-γ**2 + 4*ω**2)**0.5)))/cos(ϕ)"
      ]
     },
     "execution_count": 11,
     "metadata": {},
     "output_type": "execute_result"
    }
   ],
   "source": [
    "x1(A, γ, ϕ, ω, t)"
   ]
  },
  {
   "cell_type": "markdown",
   "id": "558aba8d",
   "metadata": {},
   "source": [
    "To find a solution to the inhomogeneous equation, we try a solution of the form:\n",
    "<br>\n",
    "$x2 = A_1 \\cos(\\omega_e t + \\phi_1)$\n",
    "<br>\n",
    "I have called the phase angle $\\phi 1$ to make sure that we do not confuse it with the phase angle $\\phi$. The general solution will then be $x=x1 + x2$. Translating our equation gives:"
   ]
  },
  {
   "cell_type": "code",
   "execution_count": 13,
   "id": "29e87ff6",
   "metadata": {},
   "outputs": [
    {
     "data": {
      "text/latex": [
       "$\\displaystyle A_{1} \\cos{\\left(e t ω + ϕ_{1} \\right)}$"
      ],
      "text/plain": [
       "A1*cos(E*t*ω + ϕ1)"
      ]
     },
     "execution_count": 13,
     "metadata": {},
     "output_type": "execute_result"
    }
   ],
   "source": [
    "A1, ϕ1, F, m = sym.symbols('A1 ϕ1 F m')\n",
    "\n",
    "params = (A1, ϕ1, ω, t)\n",
    "\n",
    "def x2(A1, ϕ1, ω, t):\n",
    "    return A1 * sym.cos(ω * sym.E * t + ϕ1)\n",
    "\n",
    "def DrivenOscillator(A, ϕ, γ, ω, t):\n",
    "    localParams = (A, ϕ, ω, t)\n",
    "    return sym.diff(x2(*localParams), t, 2) + γ*sym.diff(x2(*localParams), t) + ω**2 * x2(*localParams) - F*m*sym.cos(ω*sym.E*t)\n",
    "\n",
    "x2(A1, ϕ1, ω, t)\n"
   ]
  },
  {
   "cell_type": "markdown",
   "id": "b3c482eb",
   "metadata": {},
   "source": [
    "Our oscillator equation is now:"
   ]
  },
  {
   "cell_type": "code",
   "execution_count": 14,
   "id": "38427ceb",
   "metadata": {},
   "outputs": [
    {
     "data": {
      "text/latex": [
       "$\\displaystyle - e A_{1} γ ω \\sin{\\left(e t ω + ϕ_{1} \\right)} - A_{1} ω^{2} e^{2} \\cos{\\left(e t ω + ϕ_{1} \\right)} + A_{1} ω^{2} \\cos{\\left(e t ω + ϕ_{1} \\right)} - F m \\cos{\\left(e t ω \\right)}$"
      ],
      "text/plain": [
       "-E*A1*γ*ω*sin(E*t*ω + ϕ1) - A1*ω**2*exp(2)*cos(E*t*ω + ϕ1) + A1*ω**2*cos(E*t*ω + ϕ1) - F*m*cos(E*t*ω)"
      ]
     },
     "execution_count": 14,
     "metadata": {},
     "output_type": "execute_result"
    }
   ],
   "source": [
    "DrivenOscillator(A1, ϕ1, γ, ω, t)"
   ]
  },
  {
   "cell_type": "markdown",
   "id": "6c79a1ba",
   "metadata": {},
   "source": [
    "The function <b>expand_trig</b> will rewrite the trig functions of multiple angles as products of trig functions. For example:"
   ]
  },
  {
   "cell_type": "code",
   "execution_count": 18,
   "id": "e65ce86e",
   "metadata": {},
   "outputs": [
    {
     "data": {
      "text/latex": [
       "$\\displaystyle - \\sin{\\left(A \\right)} \\sin{\\left(ϕ \\right)} + \\cos{\\left(A \\right)} \\cos{\\left(ϕ \\right)}$"
      ],
      "text/plain": [
       "-sin(A)*sin(ϕ) + cos(A)*cos(ϕ)"
      ]
     },
     "execution_count": 18,
     "metadata": {},
     "output_type": "execute_result"
    }
   ],
   "source": [
    "sym.expand_trig(sym.cos(A + ϕ))"
   ]
  },
  {
   "cell_type": "markdown",
   "id": "553a1144",
   "metadata": {},
   "source": [
    "Thus, we can rewrite our oscillator equation as:"
   ]
  },
  {
   "cell_type": "code",
   "execution_count": 22,
   "id": "2becc76b",
   "metadata": {
    "scrolled": true
   },
   "outputs": [
    {
     "data": {
      "text/latex": [
       "$\\displaystyle - e A_{1} γ ω \\left(\\sin{\\left(ϕ_{1} \\right)} \\cos{\\left(e t ω \\right)} + \\sin{\\left(e t ω \\right)} \\cos{\\left(ϕ_{1} \\right)}\\right) - A_{1} ω^{2} \\left(- \\sin{\\left(ϕ_{1} \\right)} \\sin{\\left(e t ω \\right)} + \\cos{\\left(ϕ_{1} \\right)} \\cos{\\left(e t ω \\right)}\\right) e^{2} + A_{1} ω^{2} \\left(- \\sin{\\left(ϕ_{1} \\right)} \\sin{\\left(e t ω \\right)} + \\cos{\\left(ϕ_{1} \\right)} \\cos{\\left(e t ω \\right)}\\right) - F m \\cos{\\left(e t ω \\right)}$"
      ],
      "text/plain": [
       "-E*A1*γ*ω*(sin(ϕ1)*cos(E*t*ω) + sin(E*t*ω)*cos(ϕ1)) - A1*ω**2*(-sin(ϕ1)*sin(E*t*ω) + cos(ϕ1)*cos(E*t*ω))*exp(2) + A1*ω**2*(-sin(ϕ1)*sin(E*t*ω) + cos(ϕ1)*cos(E*t*ω)) - F*m*cos(E*t*ω)"
      ]
     },
     "execution_count": 22,
     "metadata": {},
     "output_type": "execute_result"
    }
   ],
   "source": [
    "expanded = sym.expand_trig(sym.expand_trig(DrivenOscillator(A1, ϕ1, γ, ω, t)))\n",
    "expanded"
   ]
  },
  {
   "cell_type": "markdown",
   "id": "c7f5bff5",
   "metadata": {},
   "source": [
    "Collect sine and cosine:"
   ]
  },
  {
   "cell_type": "code",
   "execution_count": 32,
   "id": "2be13c65",
   "metadata": {},
   "outputs": [
    {
     "data": {
      "text/latex": [
       "$\\displaystyle - e A_{1} γ ω \\left(\\sin{\\left(ϕ_{1} \\right)} \\cos{\\left(e t ω \\right)} + \\sin{\\left(e t ω \\right)} \\cos{\\left(ϕ_{1} \\right)}\\right) - A_{1} ω^{2} \\left(- \\sin{\\left(ϕ_{1} \\right)} \\sin{\\left(e t ω \\right)} + \\cos{\\left(ϕ_{1} \\right)} \\cos{\\left(e t ω \\right)}\\right) e^{2} + A_{1} ω^{2} \\left(- \\sin{\\left(ϕ_{1} \\right)} \\sin{\\left(e t ω \\right)} + \\cos{\\left(ϕ_{1} \\right)} \\cos{\\left(e t ω \\right)}\\right) - F m \\cos{\\left(e t ω \\right)}$"
      ],
      "text/plain": [
       "-E*A1*γ*ω*(sin(ϕ1)*cos(E*t*ω) + sin(E*t*ω)*cos(ϕ1)) - A1*ω**2*(-sin(ϕ1)*sin(E*t*ω) + cos(ϕ1)*cos(E*t*ω))*exp(2) + A1*ω**2*(-sin(ϕ1)*sin(E*t*ω) + cos(ϕ1)*cos(E*t*ω)) - F*m*cos(E*t*ω)"
      ]
     },
     "execution_count": 32,
     "metadata": {},
     "output_type": "execute_result"
    }
   ],
   "source": [
    "#collect sine and cosine, doesn't seem to work\n",
    "sym.collect(expanded, sym.sin(ω * sym.E * t))"
   ]
  },
  {
   "cell_type": "markdown",
   "id": "4c8f1bd2",
   "metadata": {},
   "source": [
    "Since the sine and cosine terms are 180 degrees out of phase with each other, the $\\sin(\\omega e t)$ and $\\cos(\\omega e t)$ terms must vanish separately. The $\\cos(\\omega e t)$ terms are given by:"
   ]
  },
  {
   "cell_type": "code",
   "execution_count": 35,
   "id": "13202bc4",
   "metadata": {},
   "outputs": [
    {
     "data": {
      "text/latex": [
       "$\\displaystyle - e A_{1} γ ω \\sin{\\left(ϕ_{1} \\right)} + A_{1} ω^{2} \\cos{\\left(ϕ_{1} \\right)} - A_{1} ω e^{2} \\cos{\\left(ϕ_{1} \\right)} - F m$"
      ],
      "text/plain": [
       "-E*A1*γ*ω*sin(ϕ1) + A1*ω**2*cos(ϕ1) - A1*ω*exp(2)*cos(ϕ1) - F*m"
      ]
     },
     "execution_count": 35,
     "metadata": {},
     "output_type": "execute_result"
    }
   ],
   "source": [
    "eqn1 = -F*m + A1 * ω**2 * sym.cos(ϕ1) - A1 * ω * sym.E**2 * sym.cos(ϕ1) - A1 * γ * ω * sym.E * sym.sin(ϕ1)\n",
    "eqn1"
   ]
  },
  {
   "cell_type": "markdown",
   "id": "8b1377d2",
   "metadata": {},
   "source": [
    "and the $\\sin(\\omega e t)$ terms are given by:"
   ]
  },
  {
   "cell_type": "code",
   "execution_count": 36,
   "id": "f122845a",
   "metadata": {},
   "outputs": [
    {
     "data": {
      "text/latex": [
       "$\\displaystyle - e A_{1} γ ω \\cos{\\left(ϕ_{1} \\right)} - A_{1} ω^{2} \\sin{\\left(ϕ_{1} \\right)} + A_{1} ω e^{2} \\sin{\\left(ϕ_{1} \\right)}$"
      ],
      "text/plain": [
       "-E*A1*γ*ω*cos(ϕ1) - A1*ω**2*sin(ϕ1) + A1*ω*exp(2)*sin(ϕ1)"
      ]
     },
     "execution_count": 36,
     "metadata": {},
     "output_type": "execute_result"
    }
   ],
   "source": [
    "eqn2 = -A1 * γ * ω * sym.E * sym.cos(ϕ1) - A1 * ω**2 * sym.sin(ϕ1) + A1 * ω * sym.E**2 * sym.sin(ϕ1)\n",
    "eqn2"
   ]
  },
  {
   "cell_type": "markdown",
   "id": "48765137",
   "metadata": {},
   "source": [
    "Since the above expression must vanish, we can divide each term by $\\cos(\\phi1)$, which gives:"
   ]
  },
  {
   "cell_type": "code",
   "execution_count": 45,
   "id": "7717bbf6",
   "metadata": {},
   "outputs": [
    {
     "data": {
      "text/latex": [
       "$\\displaystyle A_{1} ω \\left(e γ + ω \\tan{\\left(ϕ_{1} \\right)} - e^{2} \\tan{\\left(ϕ_{1} \\right)}\\right)$"
      ],
      "text/plain": [
       "A1*ω*(E*γ + ω*tan(ϕ1) - exp(2)*tan(ϕ1))"
      ]
     },
     "execution_count": 45,
     "metadata": {},
     "output_type": "execute_result"
    }
   ],
   "source": [
    "eqn3 = eqn2 / sym.cos(ϕ1)\n",
    "eqn3 = sym.simplify(-eqn3)\n",
    "eqn3"
   ]
  },
  {
   "cell_type": "markdown",
   "id": "77c9cb90",
   "metadata": {},
   "source": [
    "We can now solve this equation for $\\phi_1$:"
   ]
  },
  {
   "cell_type": "code",
   "execution_count": 46,
   "id": "17b7e1b7",
   "metadata": {},
   "outputs": [
    {
     "data": {
      "text/latex": [
       "$\\displaystyle - \\operatorname{atan}{\\left(\\frac{e γ}{ω - e^{2}} \\right)}$"
      ],
      "text/plain": [
       "-atan(E*γ/(ω - exp(2)))"
      ]
     },
     "execution_count": 46,
     "metadata": {},
     "output_type": "execute_result"
    }
   ],
   "source": [
    "solution = sym.solve(eqn3, ϕ1)\n",
    "solution[0]"
   ]
  },
  {
   "cell_type": "markdown",
   "id": "55cb2a3d",
   "metadata": {},
   "source": [
    "This solution holds at every $n \\pi$ interval, but we have solved for the $n = 0$ case.\n",
    "<br>\n",
    "We should check our solution by making sure that with this choice for $\\phi_1$, eqn2 vanishes."
   ]
  },
  {
   "cell_type": "code",
   "execution_count": 49,
   "id": "765b4e03",
   "metadata": {},
   "outputs": [
    {
     "data": {
      "text/latex": [
       "$\\displaystyle 0$"
      ],
      "text/plain": [
       "0"
      ]
     },
     "execution_count": 49,
     "metadata": {},
     "output_type": "execute_result"
    }
   ],
   "source": [
    "sym.simplify(eqn2.subs(ϕ1, solution[0]))"
   ]
  },
  {
   "cell_type": "markdown",
   "id": "58404f29",
   "metadata": {},
   "source": [
    "We can now turn our attention to eqn1 which must also vanish."
   ]
  },
  {
   "cell_type": "code",
   "execution_count": 56,
   "id": "7ff2eb29",
   "metadata": {},
   "outputs": [
    {
     "data": {
      "text/latex": [
       "$\\displaystyle - \\frac{F m}{ω \\left(e γ \\sin{\\left(ϕ_{1} \\right)} - ω \\cos{\\left(ϕ_{1} \\right)} + e^{2} \\cos{\\left(ϕ_{1} \\right)}\\right)}$"
      ],
      "text/plain": [
       "-F*m/(ω*(E*γ*sin(ϕ1) - ω*cos(ϕ1) + exp(2)*cos(ϕ1)))"
      ]
     },
     "execution_count": 56,
     "metadata": {},
     "output_type": "execute_result"
    }
   ],
   "source": [
    "answer = sym.simplify(sym.solve(eqn1, A1)[0])\n",
    "answer"
   ]
  },
  {
   "cell_type": "code",
   "execution_count": 60,
   "id": "20f71ba2",
   "metadata": {},
   "outputs": [
    {
     "data": {
      "text/latex": [
       "$\\displaystyle \\frac{F m \\left(- e γ \\sin{\\left(e t ω - \\operatorname{atan}{\\left(\\frac{e γ}{ω - e^{2}} \\right)} \\right)} - ω e^{2} \\cos{\\left(e t ω - \\operatorname{atan}{\\left(\\frac{e γ}{ω - e^{2}} \\right)} \\right)} + ω \\cos{\\left(e t ω - \\operatorname{atan}{\\left(\\frac{e γ}{ω - e^{2}} \\right)} \\right)} - \\sqrt{\\frac{γ^{2} e^{2} + \\left(ω - e^{2}\\right)^{2}}{\\left(ω - e^{2}\\right)^{2}}} \\left(ω - e^{2}\\right) \\cos{\\left(e t ω \\right)}\\right)}{\\sqrt{\\frac{γ^{2} e^{2} + \\left(ω - e^{2}\\right)^{2}}{\\left(ω - e^{2}\\right)^{2}}} \\left(ω - e^{2}\\right)}$"
      ],
      "text/plain": [
       "F*m*(-E*γ*sin(E*t*ω - atan(E*γ/(ω - exp(2)))) - ω*exp(2)*cos(E*t*ω - atan(E*γ/(ω - exp(2)))) + ω*cos(E*t*ω - atan(E*γ/(ω - exp(2)))) - sqrt((γ**2*exp(2) + (ω - exp(2))**2)/(ω - exp(2))**2)*(ω - exp(2))*cos(E*t*ω))/(sqrt((γ**2*exp(2) + (ω - exp(2))**2)/(ω - exp(2))**2)*(ω - exp(2)))"
      ]
     },
     "execution_count": 60,
     "metadata": {},
     "output_type": "execute_result"
    }
   ],
   "source": [
    "sym.simplify(DrivenOscillator(answer.subs(ϕ1, solution[0]), solution[0], γ, ω, t))"
   ]
  },
  {
   "cell_type": "code",
   "execution_count": null,
   "id": "70c9a48f",
   "metadata": {},
   "outputs": [],
   "source": []
  }
 ],
 "metadata": {
  "kernelspec": {
   "display_name": "Python 3 (ipykernel)",
   "language": "python",
   "name": "python3"
  },
  "language_info": {
   "codemirror_mode": {
    "name": "ipython",
    "version": 3
   },
   "file_extension": ".py",
   "mimetype": "text/x-python",
   "name": "python",
   "nbconvert_exporter": "python",
   "pygments_lexer": "ipython3",
   "version": "3.11.3"
  }
 },
 "nbformat": 4,
 "nbformat_minor": 5
}
