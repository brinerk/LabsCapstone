{
 "cells": [
  {
   "cell_type": "markdown",
   "id": "fe536a61",
   "metadata": {},
   "source": [
    "<h1><center>Lab 11:<br>Angular Momentum</center></h1>"
   ]
  },
  {
   "cell_type": "markdown",
   "id": "a813f867",
   "metadata": {},
   "source": [
    "<h2>Introduction</h2>\n",
    "In this lab we will study the conservation of angular momentum in the absence of an external torque and the change in angular momentum when an external torque is present. In general the rate of change of the angular momentum of a system is $\\frac{dL}{dt} = T_{external}$. If there are no external torques present then $\\frac{dL}{dt}$ is zero and thus L = constant. Recall that for a rigid body rotation about a single axis $L = i \\omega$ where I is the moment of intertia of the body and $\\omega$ its angular velocity. If I is constant then\n",
    "<br>\n",
    "<center> $I \\frac{d \\omega}{dt} = T_{external} $ </center>\n",
    "<br>\n",
    "and thus\n",
    "<br>\n",
    "<center> $ \\frac{d \\omega}{dt} = \\frac{T_{external}}{I}$ </center>\n",
    "<br>\n",
    "We will use our rotating chair to measure these quantities.\n",
    "<br>\n",
    "<h2>Design of the chair</h2>\n",
    "The chair has a low friction bearing in it which is designed to minimize the frictional torque that is exterted by the bearing. Another possible source of frictional torque is air resistance. If air resistance is significant then $\\frac{d \\omega}{dt}$ should be velocity-dependent since drag forces such as air resistance are velocity-dependent. On the other hand, if the dominant torque is due to bearing friction then $\\frac{d \\omega}{dt}$ should be constant. We will measure \\frac{d \\omega}{dt} and see if air resistance is important in our experiment.\n",
    "<br>\n",
    "The chair has an optical counter which sits on the axis of rotation. The optical counter consists of a laser, a clock, a photo-detector and a slotted disk which interrupts the light. This allows the electronics to measure the rotation reate to a precision of one degree per second. The disk has 200 holes drilled in it on an 8-inch diameter so the spacing between holes is $\\frac{2 \\pi}{200} = 0.0314159$ radians apart. This information is needed to calibrate the sensor.\n",
    "<br>\n",
    "The chair has two movable weights attached to a bar. You can move the weights radially in or out. This allows you to change the moments of interia of the system. The chair also has a seat belt to help keep you from moving around as you spin.\n",
    "<h2>Procedure</h2>\n",
    "You will need to take three sets of data.\n",
    "<br>\n",
    "1) Take the first set with the chair arms in. Sit in the chair (be sure to use the seat belt) and get your lab partner to spin you. Your initial rotation rate should be between 100 degrees/s and 125 degrees/s. Your partner can see the rotation rate of the chair by looking at the LED display on the chair. The chair may wobble at rotation rates above 125 degrees/s. Your lab partner should start taking data and should continue to take data until your final rotation rate is 1/10 of your initial rotation rate.\n",
    "<br>\n",
    "2) Take a second set of data in exactly the same way as the first except with the chair arms out.\n",
    "<br>\n",
    "3) For the third data set start with the chair arms out. Spin smoothly for a few seconds (10 or so) and then quickly (but smoothly) bring the chair arms in. Spin with the chair arms in for about 15-20 seconds and then quickly (but smoothly) move the arms out. Spin for about 15-20 seconds. Repeat this procedure until your spin rate falls below 20 degrees/s (your partner will tell you when this happens).\n",
    "<br>\n",
    "<br>\n",
    "In order to get good data it is important that your body position stay the same for all three test runs (with the exception of you arms which will move in and out with the weights). It is also critical that you keep your body \"quiet\" during the run. If you move in the chair you can significantly change the moment of intertia and possibly cause the chair to wobble.\n",
    "<br>\n",
    "<br>\n",
    "As we have done previously, we will take the data using DataStudio. You will need to collect angular velocity data as a function of time. The software and sensor will be set up and configured before you begin. Be sure to export the correct data for each of the three trials in a text format so we can import it into Jupyter, we will need to rescale our data by 1/100 to retrieve the data in physical units of radians/s. Unfortunately, the sensor will report the measurements as a linear velocity in m/s, but it is in fact in units of Hectoradians/s."
   ]
  },
  {
   "cell_type": "markdown",
   "id": "bccffac2",
   "metadata": {},
   "source": [
    "<h2>Analyzing the Data</h2>\n",
    "The next step is to read your data. You will only need the time-angular velocity in pairs. Remember that DataStudio usually includes a text header that must be removed one the data has been collected. This can be done manually in the data file or it can be done with list slicing.\n",
    "<br>\n",
    "You should have three sets of data. The data I took is shown below. The first data set was taken with the weights in the in position."
   ]
  },
  {
   "cell_type": "raw",
   "id": "5fb09335",
   "metadata": {},
   "source": []
  }
 ],
 "metadata": {
  "kernelspec": {
   "display_name": "Python 3 (ipykernel)",
   "language": "python",
   "name": "python3"
  },
  "language_info": {
   "codemirror_mode": {
    "name": "ipython",
    "version": 3
   },
   "file_extension": ".py",
   "mimetype": "text/x-python",
   "name": "python",
   "nbconvert_exporter": "python",
   "pygments_lexer": "ipython3",
   "version": "3.11.3"
  }
 },
 "nbformat": 4,
 "nbformat_minor": 5
}
