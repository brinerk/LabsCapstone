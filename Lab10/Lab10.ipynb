{
 "cells": [
  {
   "cell_type": "markdown",
   "id": "80c8282a",
   "metadata": {},
   "source": [
    "<center><h1>Lab 10:<br>Rotation Motion and Angular Momentum</h1></center>\n",
    "\n",
    "<h2>Introduction</h2>\n",
    "<p> In this lab we want to look at the convervation of angular momentum. The lab is preparation for the lab we will do next week, when we will use our rotating chair to investigate the conservation of angular momentum. You should recall from the lecture that angular momentum is conserved in the absence of an external torque. For a rigid body rotating about a single axis the angular momentum is $L=I \\omega$ Where $I$ is the moment of intertia of the body and $\\omega$ its angular velocity.</p>\n",
    "<p> Suppose you are sitting in a rotating chair with a couple of weights in your hands (as you will be next lab). You now draw your hands in toward your body, thus changing your moment of inertia. What happens? </p>\n",
    "<p> Since there are no external torques on you or the chair the angular momentum of the system must be conserved. Thus: <br> \n",
    "$ I_i \\omega_i = I_f \\omega_f $ <br>\n",
    "and <br>\n",
    "$\\omega_f = \\left( \\frac{I_i}{I_f}\\right) \\omega_f$\n",
    "</p>\n",
    "<p> If $I_f$ is than $I_i$ you will speed up! What will happend to your rotational kinetic energy? Remember that $K_i = \\frac{1}{2}I_i \\omega^2$ and $K_f = \\frac{1}{2} \\omega^2 $ but $\\omega_f = \\left( \\frac{I_i}{I_f} \\omega_i \\right) $ so: </p>\n",
    "<p> $K_f \\frac{1}{2} I_f \\left( \\frac{I_i}{I_f} \\omega_i \\right) ^2 = \\frac{1}{2} I_i \\left( \\frac{I_i}{I_f} \\right) \\omega_i^2 = \\left( \\frac{I_i}{I_f} \\right) K_i $\n",
    "</p>\n",
    "<p> Thus, if $I_f$ is less than $I_i$ your rotational kinetic energy will increase. Remember it is angular momentum, not rotational kinetic energy that is conserved. </p>\n",
    "<p> We will try to model this. We will assume that you are sitting in a chair with your arms straight our with a 10kg weight in each arm. You are spinning with some initial angular velocity $\\omega_i$ and you lower your arms to your sides. What happens? </p>\n",
    "<p> The first step in making our model is to model a theoretical body. The measurements given below are in inches so we will need to convert these measurements to meters. We will model the body using a collection of cylinders and a sphere. We will use a sphere for the head, a cylinder for the neck, a cylinder for the torso, one cylinder for each arm and two cylinders for each leg (upper and lower). We will model the chair as two rectangular parallelpiped: One for the seat and one for the chair back. The weights will be modeled as point particles. The dimensions of the body parts are given below. </p>\n",
    "<h2>Body Parameters</h2>"
   ]
  },
  {
   "cell_type": "code",
   "execution_count": null,
   "id": "72a22d18",
   "metadata": {},
   "outputs": [],
   "source": []
  }
 ],
 "metadata": {
  "kernelspec": {
   "display_name": "Python 3 (ipykernel)",
   "language": "python",
   "name": "python3"
  },
  "language_info": {
   "codemirror_mode": {
    "name": "ipython",
    "version": 3
   },
   "file_extension": ".py",
   "mimetype": "text/x-python",
   "name": "python",
   "nbconvert_exporter": "python",
   "pygments_lexer": "ipython3",
   "version": "3.11.3"
  }
 },
 "nbformat": 4,
 "nbformat_minor": 5
}
