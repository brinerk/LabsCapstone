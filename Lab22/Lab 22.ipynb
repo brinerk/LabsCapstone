{
 "cells": [
  {
   "cell_type": "markdown",
   "id": "5d18ab21",
   "metadata": {},
   "source": [
    "<center><h1>Lab 22:<br>Diffraction</h1></center>"
   ]
  },
  {
   "cell_type": "markdown",
   "id": "0191088e",
   "metadata": {},
   "source": [
    "<h2>Introduction</h2>\n",
    "In this experiment we will shine light from a laser onto a single slit, a double slit, and possibly other apertures. We will measure the diffraction pattern using a CCD (charge-coupled device) array and compare the measured pattern to the theoretical \"Fraunhofer diffraction pattern.\""
   ]
  },
  {
   "cell_type": "markdown",
   "id": "67367284",
   "metadata": {},
   "source": [
    "<h2>The Theory of Diffraction</h2>\n",
    "<h3>Single-Slit Diffraction</h3>\n",
    "Suppose we have a plane wave incident on a single slit, shown below. "
   ]
  },
  {
   "cell_type": "code",
   "execution_count": 3,
   "id": "b136beb3",
   "metadata": {},
   "outputs": [],
   "source": [
    "#image\n",
    "#Figure 1: Plane waves incedent on a single slit."
   ]
  },
  {
   "cell_type": "markdown",
   "id": "08fcdc4b",
   "metadata": {},
   "source": [
    "We will assume that the distance between the screen and the aperture is large, while the aperture itself is small.  If the screen if far enough way from the aperture, then the waves that hit the screen are essentially plane waves. This case is call Fraunhofer diffraction. If the diffracted waves are not plane waves, then we instead have Fresnel diffraction. (<a href=\"https://en.wikipedia.org/wiki/Fresnel_diffraction\">Fresnel diffraction</a> is much more complicated, so for this experiment, we will look only at <a href=\"https://en.wikipedia.org/wiki/Fraunhofer_diffraction\">Fraunhofer diffraction</a>.)\n",
    "\n",
    "Huygens principal tells us that when the plane waves hit the aperture they generate spherical wavelets (known as Huygens wavelets). These wavelets propagate only in the forward direction. The figure below shows Huygens wavelets being generated from three positions (the green dots) but in fact every point in the aperture serves as a source for Huygens wavelets. We will calculate the diffraction pattern due to $N_i$ sources each occupying a length $\\Delta y$ and then take the limit as $N_i \\rightarrow \\infty$ and $\\Delta y \\rightarrow 0$."
   ]
  },
  {
   "cell_type": "code",
   "execution_count": null,
   "id": "5a4a4b0d",
   "metadata": {},
   "outputs": [],
   "source": []
  }
 ],
 "metadata": {
  "kernelspec": {
   "display_name": "Python 3 (ipykernel)",
   "language": "python",
   "name": "python3"
  },
  "language_info": {
   "codemirror_mode": {
    "name": "ipython",
    "version": 3
   },
   "file_extension": ".py",
   "mimetype": "text/x-python",
   "name": "python",
   "nbconvert_exporter": "python",
   "pygments_lexer": "ipython3",
   "version": "3.11.5"
  }
 },
 "nbformat": 4,
 "nbformat_minor": 5
}
